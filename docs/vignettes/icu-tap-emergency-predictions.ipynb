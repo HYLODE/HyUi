{
 "cells": [
  {
   "cell_type": "markdown",
   "id": "18dfbf78-a1cb-4090-b900-e7c245aa43da",
   "metadata": {},
   "source": [
    "# Make predictions using a saved poisson model for ICU non-elective admission\n",
    "\n",
    "This notebook shows how to use the models I have saved to ML flow, for the purposes of predicting how many non-elective patients will arrive in the ICU in the 24 hours following 9.15 on a given day. \n",
    "\n",
    "One of three locations can be requested: tower, gwb and wms (all lower case). These have different trained models. You need to retrieve the relevant model from ML flow for the location requested. You would do this be setting model_name and model_version to the saved values (as an example for the tower: MODEL__TAP_NONELECTIVE_TOWER__NAME, MODEL__TAP_NONELECTIVE_TOWER__VERSION need to be set; these should eventually be saved as constants in global settings)\n",
    "\n",
    "Logic:\n",
    "- Retrieve a ML model which uses simple date parameters (but could one day be more sophisticated) to generate a mean for a poisson distribution\n",
    "- Usep as a parameter to generate a probability distribution over the number of ICU beds needed by non-elective patients, where the maximum number \n",
    "\n",
    "NOTES \n",
    "- we DO make predictions for weekends, unlike for the elective taps\n",
    "- but we don't differentiate between days of week; just a binary indicator for whether it is a weekday or a weekend\n",
    "- we use a lens here which does not really serve any purpose, other than to one-hot encode whether it is a weekend. However, in future, other covariates (eg the number of patients in the hospital currently, the weather) could be added to the model, and the lens is already in place to add scaling functions\n",
    "\n",
    "We agreed to predict flows at 9.15 and 12.30 pm. However, inspection suggested there is minimal difference between these times so I have dropped the second one and only use 9.15 am\n",
    "\n",
    "#### Input required\n",
    "\n",
    "The input data to the models takes the form of of one-row dataframe with the following columns; ['model_function', 'date', 'count', 'wkday']\n",
    "- model_function - set this to 'poisson'\n",
    "- date - use pd.to_datetime to set format eg pd.to_datetime('2022-08-08')\n",
    "- count - set this field to zero [this is an artefact of the lens method]\n",
    "- wkday - an integer for whether it is a weekend (value 0) or a weekday (value 1); set this as shown below\n"
   ]
  },
  {
   "cell_type": "markdown",
   "id": "dd160934-4e5f-4585-ae91-a54b6fc85352",
   "metadata": {},
   "source": [
    "## Packages"
   ]
  },
  {
   "cell_type": "code",
   "execution_count": null,
   "id": "9f375b90-d259-4f19-86cd-22d67df980be",
   "metadata": {
    "tags": []
   },
   "outputs": [],
   "source": [
    "import pkg_resources\n",
    "\n",
    "installed_packages = pkg_resources.working_set\n",
    "installed_packages_list = sorted([f\"{i.key}=={i.version}\" for i in installed_packages])"
   ]
  },
  {
   "cell_type": "code",
   "execution_count": null,
   "id": "6ea5e91d-769d-48a9-8aaf-3211d8f2bf4e",
   "metadata": {
    "tags": []
   },
   "outputs": [],
   "source": [
    "from datetime import datetime\n",
    "\n",
    "import numpy as np\n",
    "import pandas as pd"
   ]
  },
  {
   "cell_type": "code",
   "execution_count": null,
   "id": "6ba1074a-3f80-44c0-8f63-7e715740a177",
   "metadata": {
    "tags": []
   },
   "outputs": [],
   "source": [
    "import os\n",
    "import pickle\n",
    "import tempfile\n",
    "from pathlib import Path\n",
    "\n",
    "import mlflow\n",
    "from mlflow.tracking import MlflowClient"
   ]
  },
  {
   "cell_type": "code",
   "execution_count": null,
   "id": "3de1ce0c-34d2-49fa-8ac6-fee3225bb30c",
   "metadata": {
    "tags": []
   },
   "outputs": [],
   "source": [
    "import urllib\n",
    "\n",
    "from hylib import settings\n",
    "from hylib.dt import LONDON_TZ\n",
    "from hymind.predict.base import BaseLensPredictor\n",
    "from patsy import dmatrices\n",
    "from scipy.stats import poisson\n",
    "from sqlalchemy import create_engine"
   ]
  },
  {
   "cell_type": "markdown",
   "id": "91a7d3bd-f0a2-40cb-aad3-33ab9dd8cf3d",
   "metadata": {},
   "source": [
    "## Set parameters"
   ]
  },
  {
   "cell_type": "code",
   "execution_count": null,
   "id": "15738483-fce3-4d06-a6f2-1cb4167f85a4",
   "metadata": {
    "tags": []
   },
   "outputs": [],
   "source": [
    "mlflow.set_tracking_uri(\"sqlite:///mlruns.db\")\n",
    "\n",
    "mlflow_var = os.getenv(\"HYMIND_REPO_TRACKING_URI\")\n",
    "mlflow.set_tracking_uri(mlflow_var)\n",
    "\n",
    "client = MlflowClient()"
   ]
  },
  {
   "cell_type": "code",
   "execution_count": null,
   "id": "0ac1e397-61c4-414d-8b85-983e038287df",
   "metadata": {
    "tags": []
   },
   "outputs": [],
   "source": [
    "MODEL__TAP_NONELECTIVE_TOWER__NAME = \"tap_nonelective_tower\"\n",
    "MODEL__TAP_NONELECTIVE_TOWER__VERSION = 2\n",
    "MODEL__TAP_NONELECTIVE_GWB__NAME = \"tap_nonelective_gwb\"\n",
    "MODEL__TAP_NONELECTIVE_GWB__VERSION = 2\n",
    "MODEL__TAP_NONELECTIVE_WMS__NAME = \"tap_nonelective_wms\"\n",
    "MODEL__TAP_NONELECTIVE_WMS__VERSION = 2"
   ]
  },
  {
   "cell_type": "code",
   "execution_count": null,
   "id": "e92abf74-444c-45fd-97cb-0bdebb875a43",
   "metadata": {
    "tags": []
   },
   "outputs": [],
   "source": [
    "def get_model_details(location):\n",
    "\n",
    "    if location == \"tower\":\n",
    "        model_name, model_version = (\n",
    "            MODEL__TAP_NONELECTIVE_TOWER__NAME,\n",
    "            MODEL__TAP_NONELECTIVE_TOWER__VERSION,\n",
    "        )\n",
    "    elif location == \"gwb\":\n",
    "        model_name, model_version = (\n",
    "            MODEL__TAP_NONELECTIVE_GWB__NAME,\n",
    "            MODEL__TAP_NONELECTIVE_GWB__VERSION,\n",
    "        )\n",
    "    else:\n",
    "        model_name, model_version = (\n",
    "            MODEL__TAP_NONELECTIVE_WMS__NAME,\n",
    "            MODEL__TAP_NONELECTIVE_WMS__VERSION,\n",
    "        )\n",
    "    return model_name, model_version"
   ]
  },
  {
   "cell_type": "markdown",
   "id": "4ba6d811-bc8d-4a7d-8469-f84ac3ae51ab",
   "metadata": {},
   "source": [
    "## Create predictor class"
   ]
  },
  {
   "cell_type": "code",
   "execution_count": null,
   "id": "65a971c6-4bb4-4a9a-8027-8e128ad2367a",
   "metadata": {},
   "outputs": [],
   "source": [
    "class SKProbabilityPredictorPoisson(BaseLensPredictor):\n",
    "    def __init__(self, model_name: str, model_version: int) -> None:\n",
    "        super().__init__(model_name, model_version)\n",
    "        self.model = mlflow.sklearn.load_model(f\"models:/{model_name}/{model_version}\")\n",
    "        self.expr = self._load_expr(self.model_info.run_id)\n",
    "        self.lens = self._load_lens(self.model_info.run_id)\n",
    "\n",
    "    @staticmethod\n",
    "    def _load_expr(run_id: str):\n",
    "        with tempfile.TemporaryDirectory() as tmp:\n",
    "            tmp_dir = Path(tmp)\n",
    "\n",
    "            client.download_artifacts(run_id, \"expr\", tmp_dir)\n",
    "\n",
    "            expr_path = next((tmp_dir / \"expr\").rglob(\"*.txt\"))\n",
    "            with open(expr_path, \"rb\") as f:\n",
    "                expr = f.read()\n",
    "            expr = str(expr, \"utf-8\")\n",
    "\n",
    "            return expr\n",
    "\n",
    "    def predict(self, input_df: pd.DataFrame) -> pd.DataFrame:\n",
    "\n",
    "        X_df = self.lens.transform(input_df)\n",
    "        X_df__, X_df = dmatrices(self.expr, X_df, return_type=\"dataframe\")\n",
    "\n",
    "        predictions_set_df = self.model.get_prediction(X_df)\n",
    "\n",
    "        p = predictions_set_df.summary_frame().iloc[0, 0]\n",
    "        N = 11\n",
    "\n",
    "        predictions_df = pd.DataFrame.from_dict(\n",
    "            {\n",
    "                \"bed_count\": list(range(0, N + 1)),\n",
    "                \"probability\": poisson.pmf(list(range(0, N + 1)), p),\n",
    "            }\n",
    "        )\n",
    "\n",
    "        predictions_df[\"predict_dt\"] = datetime.now(LONDON_TZ)\n",
    "        predictions_df[\"model_name\"] = self.model_name\n",
    "        predictions_df[\"model_version\"] = self.model_version\n",
    "        predictions_df[\"run_id\"] = self.model_info.run_id\n",
    "\n",
    "        return predictions_df"
   ]
  },
  {
   "cell_type": "code",
   "execution_count": null,
   "id": "31102991-bb5d-427b-af58-6d778a406a70",
   "metadata": {
    "tags": []
   },
   "outputs": [],
   "source": [
    "class SKProbabilityPredictorStats(BaseLensPredictor):\n",
    "    def __init__(self, model_name: str, model_version: int) -> None:\n",
    "        super().__init__(model_name, model_version)\n",
    "        self.model = mlflow.sklearn.load_model(f\"models:/{model_name}/{model_version}\")\n",
    "        self.expr = self._load_expr(self.model_info.run_id)\n",
    "        self.lens = self._load_lens(self.model_info.run_id)\n",
    "        self.input_df = self._is_weekday(input_df)\n",
    "        self.input_df = self._elective_list_gt0(input_df)\n",
    "\n",
    "    def _is_weekday(self, input_df: pd.DataFrame):\n",
    "        if input_df.iloc[0, 0] == \"binom\":\n",
    "            if not input_df.iloc[0, 4] in list(range(0, 5)):\n",
    "                raise ValueError(\"Date requested is not a weekday\")\n",
    "            return input_df\n",
    "\n",
    "    def _elective_list_gt0(self, input_df: pd.DataFrame):\n",
    "        if input_df.iloc[0, 0] == \"binom\":\n",
    "            if input_df.iloc[0, 5] == 0:\n",
    "                raise ValueError(\"There are no patients on the elective list\")\n",
    "            return input_df\n",
    "\n",
    "    @staticmethod\n",
    "    def _load_expr(run_id: str):\n",
    "        with tempfile.TemporaryDirectory() as tmp:\n",
    "            tmp_dir = Path(tmp)\n",
    "\n",
    "            client.download_artifacts(run_id, \"expr\", tmp_dir)\n",
    "\n",
    "            expr_path = next((tmp_dir / \"expr\").rglob(\"*.txt\"))\n",
    "            with open(expr_path, \"rb\") as f:\n",
    "                expr = f.read()\n",
    "            expr = str(expr, \"utf-8\")\n",
    "\n",
    "            return expr\n",
    "\n",
    "    def predict(self, input_df: pd.DataFrame) -> pd.DataFrame:\n",
    "\n",
    "        X_df = self.lens.transform(input_df)\n",
    "        X_df__, X_df = dmatrices(self.expr, X_df, return_type=\"dataframe\")\n",
    "\n",
    "        predictions_set_df = self.model.get_prediction(X_df)\n",
    "        p = predictions_set_df.summary_frame().iloc[0, 0]\n",
    "\n",
    "        if input_df.iloc[0, 0] == \"binom\":\n",
    "\n",
    "            N = input_df.iloc[0, 5]\n",
    "            predictions_df = pd.DataFrame.from_dict(\n",
    "                {\n",
    "                    \"bed_count\": list(range(0, N + 1)),\n",
    "                    \"probability\": binom.pmf(list(range(0, N + 1)), N, p),\n",
    "                }\n",
    "            )\n",
    "\n",
    "        else:\n",
    "\n",
    "            N = 11\n",
    "            predictions_df = pd.DataFrame.from_dict(\n",
    "                {\n",
    "                    \"bed_count\": list(range(0, N + 1)),\n",
    "                    \"probability\": poisson.pmf(list(range(0, N + 1)), p),\n",
    "                }\n",
    "            )\n",
    "\n",
    "        predictions_df[\"predict_dt\"] = datetime.now(LONDON_TZ)\n",
    "        predictions_df[\"model_name\"] = self.model_name\n",
    "        predictions_df[\"model_version\"] = self.model_version\n",
    "        predictions_df[\"run_id\"] = self.model_info.run_id\n",
    "\n",
    "        return predictions_df"
   ]
  },
  {
   "cell_type": "markdown",
   "id": "1c1d191b-eca2-482e-bb8e-ef997a7d7d31",
   "metadata": {},
   "source": [
    "## Retrieve model predictions"
   ]
  },
  {
   "cell_type": "code",
   "execution_count": null,
   "id": "a2a04560-2259-49ab-bf51-de25bda20575",
   "metadata": {
    "tags": []
   },
   "outputs": [],
   "source": [
    "## Create input matrix for model, specifying a date to make a prediction for. The model will return a probability of admission to ICU\n",
    "\n",
    "date = \"2022-08-09\"\n",
    "to_predict = pd.to_datetime(date)\n",
    "location = \"tower\"\n",
    "model_name, model_version = get_model_details(location)\n",
    "\n",
    "input_df = pd.DataFrame(\n",
    "    np.array([\"poisson\", to_predict, 0])[np.newaxis],\n",
    "    columns=[\"model_function\", \"date\", \"count\"],\n",
    ")\n",
    "input_df.loc[:, \"wkday\"] = (\n",
    "    input_df.loc[:, \"date\"].apply(datetime.weekday).astype(\"object\") <= 4\n",
    ")\n",
    "input_df[\"date\"] = input_df[\"date\"].values.astype(np.float)\n",
    "input_df"
   ]
  },
  {
   "cell_type": "code",
   "execution_count": null,
   "id": "cb1c2fa8-75c5-42b4-89cf-48e2323fa498",
   "metadata": {
    "tags": []
   },
   "outputs": [],
   "source": [
    "model_name, model_version = get_model_details(\"gwb\")\n",
    "predictor = SKProbabilityPredictorStats(model_name, model_version)\n",
    "predictions_df = predictor.predict(input_df)"
   ]
  },
  {
   "cell_type": "code",
   "execution_count": null,
   "id": "e3863d46-ecc2-4971-a064-f03bfe8393ec",
   "metadata": {
    "tags": []
   },
   "outputs": [],
   "source": [
    "predictions_df[\"probability\"].values"
   ]
  },
  {
   "cell_type": "markdown",
   "id": "a52a9635-cd66-40a0-8309-8890cc0fbd79",
   "metadata": {},
   "source": [
    "## Optional code to inspect the model"
   ]
  },
  {
   "cell_type": "code",
   "execution_count": null,
   "id": "55a4dcde-55ce-4467-a194-7321b79a9cb3",
   "metadata": {},
   "outputs": [],
   "source": [
    "model_name, model_version = get_model_details(\"tower\")"
   ]
  },
  {
   "cell_type": "code",
   "execution_count": null,
   "id": "1eaa04b9-b246-4025-814b-826522ebefc4",
   "metadata": {},
   "outputs": [],
   "source": [
    "model = mlflow.sklearn.load_model(f\"models:/{model_name}/{model_version}\")\n",
    "print(model.summary())"
   ]
  },
  {
   "cell_type": "code",
   "execution_count": null,
   "id": "68cd5895-9e20-4261-967b-6d2518087a52",
   "metadata": {
    "tags": []
   },
   "outputs": [],
   "source": [
    "# Retrieve the model and the saved lens\n",
    "\n",
    "model = mlflow.sklearn.load_model(f\"models:/{model_name}/{model_version}\")\n",
    "print(model.summary())\n",
    "\n",
    "with tempfile.TemporaryDirectory() as tmp:\n",
    "    tmp_dir = Path(tmp)\n",
    "\n",
    "    client.download_artifacts(run_id, \"lens\", tmp_dir)\n",
    "\n",
    "    lens_path = next((tmp_dir / \"lens\").rglob(\"*.pkl\"))\n",
    "    with open(lens_path, \"rb\") as f:\n",
    "        lens = pickle.load(f)\n",
    "\n",
    "X_df = lens.transform(input_df)\n",
    "X_df__, X_df = dmatrices(expr, X_df, return_type=\"dataframe\")"
   ]
  }
 ],
 "metadata": {
  "language_info": {
   "codemirror_mode": {
    "name": "ipython",
    "version": 3
   },
   "file_extension": ".py",
   "mimetype": "text/x-python",
   "name": "python",
   "nbconvert_exporter": "python",
   "pygments_lexer": "ipython3",
   "version": "3.9.13"
  },
  "vscode": {
   "interpreter": {
    "hash": "c6e4e9f98eb68ad3b7c296f83d20e6de614cb42e90992a65aa266555a3137d0d"
   }
  }
 },
 "nbformat": 4,
 "nbformat_minor": 5
}
