{
 "cells": [
  {
   "cell_type": "markdown",
   "id": "18dfbf78-a1cb-4090-b900-e7c245aa43da",
   "metadata": {},
   "source": [
    "# Make predictions using a saved binomial model for ICU elective admission\n",
    "\n",
    "This notebook shows how to use the models I have saved to ML flow, for the purposes of predicting how many elective patients will arrive in the ICU in the 24 hours following 9.15 on a given day. \n",
    "\n",
    "One of three locations can be requested: tower, gwb and wms (all lower case). These have different trained models. You need to retrieve the relevant model from ML flow for the location requested. You would do this be setting model_name and model_version to the saved values (as an example for the tower: MODEL__TAP_ELECTIVE_TOWER__NAME, MODEL__TAP_ELECTIVE_TOWER__VERSION need to be set; these should eventually be saved as constants in global settings)\n",
    "\n",
    "Logic:\n",
    "- Find out how many patients are on the surgical list for a given day\n",
    "- Retrieve a ML model which uses simple date parameters (but could one day be more sophisticated) to determine probability of ICU admission for any patient (not taking patient level characteristics into account) based on day of week\n",
    "- Use this probability to generate a binomial probability distribution over the number of beds needed in ICU for those patients\n",
    "\n",
    "NOTES \n",
    "- we decided not to make predictions for weekends, as almost all weekend days have no elective patients\n",
    "- we use a lens here which does not really serve any purpose, other than to one-hot encode the day of week. However, in future, other covariates (eg the number of patients in the hospital currently) could be added to the model, and the lens is already in place to add scaling functions\n",
    "\n",
    "#### Input required\n",
    "\n",
    "The input data to the models takes the form of of one-row dataframe with the following columns; ['model_function', 'date', 'icu_counts', 'noticu_counts', 'wkday', 'N']\n",
    "- model_function - set this to 'binom'\n",
    "- date - use pd.to_datetime to set format eg pd.to_datetime('2022-08-08')\n",
    "- icu_counts - set this field to zero [this is an artefact of the lens method]\n",
    "- noticu_counts - ditto\n",
    "- wkday - an integer for the day of the week, where Monday is 0\n",
    "- N - number of patients in the elective list (retrieved from Caboodle)\n",
    "\n",
    "#### Input validation\n",
    "\n",
    "The called function SKProbabilityPredictorStats() will return an error if:\n",
    "- you request a weekend day\n",
    "- there are no patients on the elective list\n"
   ]
  },
  {
   "cell_type": "markdown",
   "id": "dd160934-4e5f-4585-ae91-a54b6fc85352",
   "metadata": {},
   "source": [
    "## Packages"
   ]
  },
  {
   "cell_type": "code",
   "execution_count": null,
   "id": "9f375b90-d259-4f19-86cd-22d67df980be",
   "metadata": {
    "tags": []
   },
   "outputs": [],
   "source": [
    "import pkg_resources\n",
    "\n",
    "installed_packages = pkg_resources.working_set\n",
    "installed_packages_list = sorted([f\"{i.key}=={i.version}\" for i in installed_packages])"
   ]
  },
  {
   "cell_type": "code",
   "execution_count": null,
   "id": "6ea5e91d-769d-48a9-8aaf-3211d8f2bf4e",
   "metadata": {
    "tags": []
   },
   "outputs": [],
   "source": [
    "from datetime import datetime\n",
    "\n",
    "import numpy as np\n",
    "import pandas as pd"
   ]
  },
  {
   "cell_type": "code",
   "execution_count": null,
   "id": "6ba1074a-3f80-44c0-8f63-7e715740a177",
   "metadata": {
    "tags": []
   },
   "outputs": [],
   "source": [
    "import os\n",
    "import pickle\n",
    "import tempfile\n",
    "from pathlib import Path\n",
    "\n",
    "import mlflow\n",
    "from mlflow.tracking import MlflowClient"
   ]
  },
  {
   "cell_type": "code",
   "execution_count": null,
   "id": "3de1ce0c-34d2-49fa-8ac6-fee3225bb30c",
   "metadata": {
    "tags": []
   },
   "outputs": [],
   "source": [
    "import urllib\n",
    "\n",
    "from hylib import settings\n",
    "from hylib.dt import LONDON_TZ\n",
    "from hymind.predict.base import BaseLensPredictor\n",
    "from patsy import dmatrices\n",
    "from scipy.stats import binom\n",
    "from sqlalchemy import create_engine"
   ]
  },
  {
   "cell_type": "markdown",
   "id": "3a3e171b-f6ad-4640-a796-dba8f5b036f9",
   "metadata": {},
   "source": [
    "## Database connection"
   ]
  },
  {
   "cell_type": "code",
   "execution_count": null,
   "id": "924e24c0-9af2-4df9-8b7a-8996b4ed6222",
   "metadata": {
    "tags": []
   },
   "outputs": [],
   "source": [
    "conn_str = \"DRIVER={{ODBC Driver 17 for SQL Server}};SERVER={},{};DATABASE={};UID={};PWD={}\".format(\n",
    "    settings.CABOODLE_DB_HOST,\n",
    "    settings.CABOODLE_DB_PORT,\n",
    "    settings.CABOODLE_DB_NAME,\n",
    "    settings.CABOODLE_DB_USER,\n",
    "    settings.CABOODLE_DB_PASSWORD,\n",
    ")\n",
    "caboodle_db = create_engine(\n",
    "    f\"mssql+pyodbc:///?odbc_connect={urllib.parse.quote_plus(conn_str)}\"\n",
    ")"
   ]
  },
  {
   "cell_type": "markdown",
   "id": "91a7d3bd-f0a2-40cb-aad3-33ab9dd8cf3d",
   "metadata": {},
   "source": [
    "## Set parameters"
   ]
  },
  {
   "cell_type": "code",
   "execution_count": null,
   "id": "15738483-fce3-4d06-a6f2-1cb4167f85a4",
   "metadata": {
    "tags": []
   },
   "outputs": [],
   "source": [
    "mlflow.set_tracking_uri(\"sqlite:///mlruns.db\")\n",
    "\n",
    "mlflow_var = os.getenv(\"HYMIND_REPO_TRACKING_URI\")\n",
    "mlflow.set_tracking_uri(mlflow_var)\n",
    "\n",
    "client = MlflowClient()"
   ]
  },
  {
   "cell_type": "code",
   "execution_count": null,
   "id": "0ac1e397-61c4-414d-8b85-983e038287df",
   "metadata": {
    "tags": []
   },
   "outputs": [],
   "source": [
    "MODEL__TAP_ELECTIVE_TOWER__NAME = \"tap_elective_tower\"\n",
    "MODEL__TAP_ELECTIVE_TOWER__VERSION = 5\n",
    "MODEL__TAP_ELECTIVE_GWB__NAME = \"tap_elective_gwb\"\n",
    "MODEL__TAP_ELECTIVE_GWB__VERSION = 5\n",
    "MODEL__TAP_ELECTIVE_WMS__NAME = \"tap_elective_wms\"\n",
    "MODEL__TAP_ELECTIVE_WMS__VERSION = 5"
   ]
  },
  {
   "cell_type": "code",
   "execution_count": null,
   "id": "e92abf74-444c-45fd-97cb-0bdebb875a43",
   "metadata": {
    "tags": []
   },
   "outputs": [],
   "source": [
    "def get_model_details(location):\n",
    "\n",
    "    if location == \"tower\":\n",
    "        model_name, model_version = (\n",
    "            MODEL__TAP_ELECTIVE_TOWER__NAME,\n",
    "            MODEL__TAP_ELECTIVE_TOWER__VERSION,\n",
    "        )\n",
    "    elif location == \"gwb\":\n",
    "        model_name, model_version = (\n",
    "            MODEL__TAP_ELECTIVE_GWB__NAME,\n",
    "            MODEL__TAP_ELECTIVE_GWB__VERSION,\n",
    "        )\n",
    "    else:\n",
    "        model_name, model_version = (\n",
    "            MODEL__TAP_ELECTIVE_WMS__NAME,\n",
    "            MODEL__TAP_ELECTIVE_WMS__VERSION,\n",
    "        )\n",
    "    return model_name, model_version"
   ]
  },
  {
   "cell_type": "markdown",
   "id": "4ba6d811-bc8d-4a7d-8469-f84ac3ae51ab",
   "metadata": {},
   "source": [
    "## Create predictor class"
   ]
  },
  {
   "cell_type": "code",
   "execution_count": null,
   "id": "65a971c6-4bb4-4a9a-8027-8e128ad2367a",
   "metadata": {
    "tags": []
   },
   "outputs": [],
   "source": [
    "class SKProbabilityPredictorStats(BaseLensPredictor):\n",
    "    def __init__(self, model_name: str, model_version: int) -> None:\n",
    "        super().__init__(model_name, model_version)\n",
    "        self.model = mlflow.sklearn.load_model(f\"models:/{model_name}/{model_version}\")\n",
    "        self.expr = self._load_expr(self.model_info.run_id)\n",
    "        self.lens = self._load_lens(self.model_info.run_id)\n",
    "        self.input_df = self._is_weekday(input_df)\n",
    "        self.input_df = self._elective_list_gt0(input_df)\n",
    "\n",
    "    def _is_weekday(self, input_df: pd.DataFrame):\n",
    "        if input_df.iloc[0, 0] == \"binom\":\n",
    "            if not input_df.iloc[0, 4] in list(range(0, 5)):\n",
    "                raise ValueError(\"Date requested is not a weekday\")\n",
    "            return input_df\n",
    "\n",
    "    def _elective_list_gt0(self, input_df: pd.DataFrame):\n",
    "        if input_df.iloc[0, 0] == \"binom\":\n",
    "            if input_df.iloc[0, 5] == 0:\n",
    "                raise ValueError(\"There are no patients on the elective list\")\n",
    "            return input_df\n",
    "\n",
    "    @staticmethod\n",
    "    def _load_expr(run_id: str):\n",
    "        with tempfile.TemporaryDirectory() as tmp:\n",
    "            tmp_dir = Path(tmp)\n",
    "\n",
    "            client.download_artifacts(run_id, \"expr\", tmp_dir)\n",
    "\n",
    "            expr_path = next((tmp_dir / \"expr\").rglob(\"*.txt\"))\n",
    "            with open(expr_path, \"rb\") as f:\n",
    "                expr = f.read()\n",
    "            expr = str(expr, \"utf-8\")\n",
    "\n",
    "            return expr\n",
    "\n",
    "    def predict(self, input_df: pd.DataFrame) -> pd.DataFrame:\n",
    "\n",
    "        X_df = self.lens.transform(input_df)\n",
    "        X_df__, X_df = dmatrices(self.expr, X_df, return_type=\"dataframe\")\n",
    "\n",
    "        predictions_set_df = self.model.get_prediction(X_df)\n",
    "        p = predictions_set_df.summary_frame().iloc[0, 0]\n",
    "\n",
    "        if input_df.iloc[0, 0] == \"binom\":\n",
    "\n",
    "            N = input_df.iloc[0, 5]\n",
    "            predictions_df = pd.DataFrame.from_dict(\n",
    "                {\n",
    "                    \"bed_count\": list(range(0, N + 1)),\n",
    "                    \"probability\": binom.pmf(list(range(0, N + 1)), N, p),\n",
    "                }\n",
    "            )\n",
    "\n",
    "        else:\n",
    "\n",
    "            N = 11\n",
    "            predictions_df = pd.DataFrame.from_dict(\n",
    "                {\n",
    "                    \"bed_count\": list(range(0, N + 1)),\n",
    "                    \"probability\": poisson.pmf(list(range(0, N + 1)), p),\n",
    "                }\n",
    "            )\n",
    "\n",
    "        predictions_df[\"predict_dt\"] = datetime.now(LONDON_TZ)\n",
    "        predictions_df[\"model_name\"] = self.model_name\n",
    "        predictions_df[\"model_version\"] = self.model_version\n",
    "        predictions_df[\"run_id\"] = self.model_info.run_id\n",
    "\n",
    "        return predictions_df"
   ]
  },
  {
   "cell_type": "markdown",
   "id": "104e2e1c-58c9-4148-b895-569470a89ded",
   "metadata": {},
   "source": [
    "## Get current number of patients"
   ]
  },
  {
   "cell_type": "code",
   "execution_count": null,
   "id": "fc3e5563-977e-4b10-a316-61a623ece20c",
   "metadata": {
    "tags": []
   },
   "outputs": [],
   "source": [
    "def get_elective_cases(date, location):\n",
    "\n",
    "    if location == \"tower\":\n",
    "\n",
    "        department1 = \"UCH P03 THEATRE SUITE\"\n",
    "        department2 = \"UCH T02 DAY SURG THR\"\n",
    "\n",
    "    elif location == \"wms\":\n",
    "\n",
    "        department1 = \"WMS W01 THEATRE SUITE\"\n",
    "        department2 = \"WMS W01 THEATRE SUITE\"\n",
    "\n",
    "    elif location == \"gwb\":\n",
    "\n",
    "        department1 = \"GWB B-1 THEATRE SUITE\"\n",
    "        department2 = \"GWB B-1 THEATRE SUITE\"\n",
    "\n",
    "    data = pd.read_sql(\n",
    "        \"\"\"\n",
    "        SELECT COUNT (DISTINCT scf.[PatientKey]) \n",
    "  \n",
    "      FROM [CABOODLE_REPORT].[dbo].[SurgicalCaseFact] scf \n",
    "      LEFT JOIN [CABOODLE_REPORT].[dbo].[WaitingListEntryFact] wlef ON wlef.[SurgicalCaseKey] = scf.[SurgicalCaseKey]\n",
    "      LEFT JOIN [CABOODLE_REPORT].[dbo].[SurgicalCaseUclhFactX] scufx ON scf.[SurgicalCaseKey] = scufx.[SurgicalCaseKey]\n",
    "      LEFT JOIN [CABOODLE_REPORT].[dbo].[PatientDim] patd ON scf.[PatientDurableKey] = patd.[DurableKey]\n",
    "      LEFT JOIN [CABOODLE_REPORT].[dbo].[ProcedureDim] pd ON scf.[PrimaryProcedureKey] = pd.[ProcedureKey]\n",
    "      LEFT JOIN [CABOODLE_REPORT].[dbo].[DepartmentDim] dd ON scf.[OperatingRoomKey] = dd.[DepartmentKey]\n",
    "      LEFT JOIN [CABOODLE_REPORT].[dbo].[DateDim] datewl ON wlef.[PlacedOnWaitingListDateKey] = datewl.[DateKey]\n",
    "      LEFT JOIN [CABOODLE_REPORT].[dbo].[DateDim] datedta ON wlef.[DecidedToAdmitDateKey] = datedta.[DateKey]\n",
    "      LEFT JOIN [CABOODLE_REPORT].[dbo].[DateDim] datesurg ON scf.[SurgeryDateKey] = datesurg.[DateKey]\n",
    "      LEFT JOIN [CABOODLE_REPORT].[dbo].[DateDim] datecasereq ON scf.[CaseRequestDateKey] = datecasereq.[DateKey]\n",
    "      LEFT JOIN [CABOODLE_REPORT].[dbo].[TimeOfDayDim] todcase ON scf.[CaseRequestTimeOfDayKey] = todcase.[TimeOfDayKey]\n",
    "      LEFT JOIN [CABOODLE_REPORT].[dbo].[DateDim] datecancel ON scufx.[CancelDateKey] = datecancel.[DateKey]\n",
    "      WHERE scf.[PatientDurableKey] > 1 AND scf.[PatientDurableKey] IS NOT NULL\n",
    "    --  AND wlef.[SurgicalService] != '*Unspecified' \n",
    "      AND scf.[PrimaryService] != 'Obstetrics' AND scf.[PrimaryService] != 'Neurosurgery' AND scf.[PrimaryService] != 'Paediatric Dental'\n",
    "      AND scf.[PatientInFacilityDateKey] < 0\n",
    "      AND dd.[DepartmentName] != 'NHNN THEATRE SUITE' AND dd.[DepartmentName] != 'RNTNE THEATRE SUITE' AND dd.[DepartmentName] != 'EGA E02 LABOUR WARD'\n",
    "      AND dd.[DepartmentName] != 'MCC H-1 THEATRE SUITE' AND dd.[DepartmentName] != 'UCH ANAESTHESIA DEPT'\n",
    "      --AND dd.[DepartmentName] != 'UCH P02 ENDOSCOPY'\n",
    "      AND patd.[AgeInYears] >= 18\n",
    "      AND (wlef.[IntendedManagement] IN ('*Unspecified', 'Inpatient', 'Inpatient Series', 'Night Admit Series') OR wlef.[IntendedManagement] IS NULL)\n",
    "      AND CONVERT(DATE, scufx.[PlannedOperationStartInstant]) = ?\n",
    "      AND ((scf.[Classification] = 'Elective') OR (scf.[Classification] = 'Expedited (within 2 weeks on elective list)'))\n",
    "      AND ((dd.[DepartmentName] = ?) OR (dd.[DepartmentName] = ?))\n",
    "      \n",
    "        \"\"\",\n",
    "        caboodle_db,\n",
    "        params=[date, department1, department2],\n",
    "    )\n",
    "\n",
    "    return data"
   ]
  },
  {
   "cell_type": "markdown",
   "id": "1c1d191b-eca2-482e-bb8e-ef997a7d7d31",
   "metadata": {},
   "source": [
    "## Retrieve model predictions"
   ]
  },
  {
   "cell_type": "code",
   "execution_count": null,
   "id": "a2a04560-2259-49ab-bf51-de25bda20575",
   "metadata": {
    "tags": []
   },
   "outputs": [],
   "source": [
    "## Create input matrix for model, specifying a date to make a prediction for. The model will return a probability of admission to ICU\n",
    "\n",
    "date = \"2022-08-05\"\n",
    "to_predict = pd.to_datetime(date)\n",
    "location = \"gwb\"\n",
    "model_name, model_version = get_model_details(location)\n",
    "\n",
    "input_df = pd.DataFrame(\n",
    "    np.array([\"binom\", to_predict, 0, 0])[np.newaxis],\n",
    "    columns=[\"model_function\", \"date\", \"icu_counts\", \"noticu_counts\"],\n",
    ")\n",
    "input_df.loc[:, \"wkday\"] = (\n",
    "    input_df.loc[:, \"date\"].apply(datetime.weekday).astype(\"object\")\n",
    ")\n",
    "input_df[\"date\"] = input_df[\"date\"].values.astype(np.float)\n",
    "input_df[\"N\"] = get_elective_cases(to_predict, location)\n",
    "input_df.columns"
   ]
  },
  {
   "cell_type": "code",
   "execution_count": null,
   "id": "cb1c2fa8-75c5-42b4-89cf-48e2323fa498",
   "metadata": {
    "tags": []
   },
   "outputs": [],
   "source": [
    "predictor = SKProbabilityPredictorStats(model_name, model_version)\n",
    "predictions_df = predictor.predict(input_df)"
   ]
  },
  {
   "cell_type": "code",
   "execution_count": null,
   "id": "e3863d46-ecc2-4971-a064-f03bfe8393ec",
   "metadata": {
    "tags": []
   },
   "outputs": [],
   "source": [
    "predictions_df[\"probability\"].values"
   ]
  },
  {
   "cell_type": "markdown",
   "id": "a52a9635-cd66-40a0-8309-8890cc0fbd79",
   "metadata": {},
   "source": [
    "## Optional code to inspect the model"
   ]
  },
  {
   "cell_type": "code",
   "execution_count": null,
   "id": "68cd5895-9e20-4261-967b-6d2518087a52",
   "metadata": {
    "tags": []
   },
   "outputs": [],
   "source": [
    "# Retrieve the model and the saved lens\n",
    "\n",
    "model = mlflow.sklearn.load_model(f\"models:/{model_name}/{model_version}\")\n",
    "print(model.summary())\n",
    "\n",
    "with tempfile.TemporaryDirectory() as tmp:\n",
    "    tmp_dir = Path(tmp)\n",
    "\n",
    "    client.download_artifacts(run_id, \"lens\", tmp_dir)\n",
    "\n",
    "    lens_path = next((tmp_dir / \"lens\").rglob(\"*.pkl\"))\n",
    "    with open(lens_path, \"rb\") as f:\n",
    "        lens = pickle.load(f)\n",
    "\n",
    "X_df = lens.transform(input_df)\n",
    "X_df__, X_df = dmatrices(expr, X_df, return_type=\"dataframe\")"
   ]
  }
 ],
 "metadata": {
  "language_info": {
   "codemirror_mode": {
    "name": "ipython",
    "version": 3
   },
   "file_extension": ".py",
   "mimetype": "text/x-python",
   "name": "python",
   "nbconvert_exporter": "python",
   "pygments_lexer": "ipython3",
   "version": "3.9.13"
  },
  "vscode": {
   "interpreter": {
    "hash": "c6e4e9f98eb68ad3b7c296f83d20e6de614cb42e90992a65aa266555a3137d0d"
   }
  }
 },
 "nbformat": 4,
 "nbformat_minor": 5
}
