{
 "cells": [
  {
   "cell_type": "markdown",
   "id": "3938ac91-5761-48ea-bcff-b6852395ef75",
   "metadata": {},
   "source": [
    "## Wrangle live beds into a simple census\n",
    "\n",
    "Run the beds live sql and then wrangle the data into a simple census"
   ]
  },
  {
   "cell_type": "code",
   "execution_count": null,
   "id": "16c18670-2a7c-4f3b-8333-112f3eafae2b",
   "metadata": {},
   "outputs": [],
   "source": [
    "from pathlib import Path\n",
    "\n",
    "import numpy as np\n",
    "import pandas as pd\n",
    "import sqlalchemy as sa"
   ]
  },
  {
   "cell_type": "markdown",
   "id": "b1872d51-c5fa-486e-91e4-793ccf08de94",
   "metadata": {},
   "source": [
    "Assume that we're running from the notebooks directory and need to pull data from ./src/mock/mock.db"
   ]
  },
  {
   "cell_type": "code",
   "execution_count": null,
   "id": "acaac998-80e8-4e2a-ba5b-4c1337f41e3d",
   "metadata": {},
   "outputs": [],
   "source": [
    "sqlite_db = \"../src/mock/mock.db\"\n",
    "assert Path(sqlite_db).is_file()"
   ]
  },
  {
   "cell_type": "code",
   "execution_count": null,
   "id": "2ccfd55f-d438-4d88-bc5d-6d12a06dda2c",
   "metadata": {},
   "outputs": [],
   "source": [
    "engine = sa.create_engine(f\"sqlite:///{sqlite_db}\")"
   ]
  },
  {
   "cell_type": "code",
   "execution_count": null,
   "id": "70092f08-15ce-446d-a794-7dd7d5e0e4d2",
   "metadata": {},
   "outputs": [],
   "source": [
    "df = pd.read_sql(\"bedsmock\", engine)"
   ]
  },
  {
   "cell_type": "code",
   "execution_count": null,
   "id": "7bc3e0d4-d8b5-4497-9867-6400ff923eb6",
   "metadata": {},
   "outputs": [],
   "source": [
    "df.iloc[0]"
   ]
  },
  {
   "cell_type": "markdown",
   "id": "dbe7ed19-c1f2-41c8-9fba-0f25b9546388",
   "metadata": {},
   "source": [
    "So now you want to return a dataframe with the following characteristics\n",
    "- per department (one row per department)\n",
    "- count number of beds\n",
    "- count number of occupied beds\n",
    "- count number of empty beds\n",
    "- last date of closed discharge from that department (i.e. if > 1 week and most beds empty then is the department closed)\n",
    "- number of side rooms?"
   ]
  },
  {
   "cell_type": "code",
   "execution_count": null,
   "id": "d5d9fb66-8a0d-4cd9-b5c6-cf22caebfc42",
   "metadata": {},
   "outputs": [],
   "source": [
    "temp = (\n",
    "    df[\"location_string\"]\n",
    "    .str.split(\"^\", expand=True)\n",
    "    .rename(columns={0: \"dept\", 1: \"room\", 2: \"bed\"})\n",
    ")\n",
    "for s in [\"dept\", \"room\", \"bed\"]:\n",
    "    df[s] = temp[s]"
   ]
  },
  {
   "cell_type": "code",
   "execution_count": null,
   "id": "00dc9c03-b6ae-470d-8508-412573fa8166",
   "metadata": {},
   "outputs": [],
   "source": [
    "del temp"
   ]
  },
  {
   "cell_type": "markdown",
   "id": "0e23ef8d-7b7b-4c27-8795-29d3673a3fcc",
   "metadata": {},
   "source": [
    "remove null and waiting locations"
   ]
  },
  {
   "cell_type": "code",
   "execution_count": null,
   "id": "bf91ca26-4f52-442f-9b4a-79e9fbdad937",
   "metadata": {},
   "outputs": [],
   "source": [
    "mask = df[\"bed\"].str.lower().isin([\"null\", \"wait\"])\n",
    "df = df[~mask]"
   ]
  },
  {
   "cell_type": "code",
   "execution_count": null,
   "id": "cdf2bbf0-ee6b-4b63-aece-86fa6cd199af",
   "metadata": {},
   "outputs": [],
   "source": []
  },
  {
   "cell_type": "code",
   "execution_count": null,
   "id": "4755bcee-0ec5-4c31-b098-71829a192371",
   "metadata": {},
   "outputs": [],
   "source": [
    "df.shape"
   ]
  },
  {
   "cell_type": "code",
   "execution_count": null,
   "id": "2f4fd3fb-8648-41b3-a450-24088f0a0b44",
   "metadata": {},
   "outputs": [],
   "source": [
    "groups = df.groupby(\"department\")"
   ]
  },
  {
   "cell_type": "code",
   "execution_count": null,
   "id": "2fff9270-227f-445d-a839-6b1b37a444b8",
   "metadata": {
    "tags": []
   },
   "outputs": [],
   "source": [
    "groups.get_group(\"GWB L01 CRITICAL CARE\")"
   ]
  },
  {
   "cell_type": "code",
   "execution_count": null,
   "id": "71abd542-23fe-4bd6-af35-ce39279baa5e",
   "metadata": {},
   "outputs": [],
   "source": [
    "res = groups.agg(\n",
    "    beds=(\"location_id\", \"count\"),\n",
    "    patients=(\"occupied\", \"sum\"),\n",
    "    last_dc=(\"cvl_discharge\", lambda x: x.max(skipna=True)),\n",
    "    modified_at=(\"modified_at\", \"max\"),\n",
    ")\n",
    "res[\"empties\"] = res[\"beds\"] - res[\"patients\"]\n",
    "res[\"opens\"] = res[\"empties\"]  # place holder : need to subtract closed from empties"
   ]
  },
  {
   "cell_type": "code",
   "execution_count": null,
   "id": "1f4ccb14-4a78-476a-9cae-c0bb9743fb8f",
   "metadata": {},
   "outputs": [],
   "source": [
    "res[\"last_dc\"] = (res[\"modified_at\"] - res[\"last_dc\"]).apply(\n",
    "    lambda x: pd.Timedelta.floor(x, \"d\")\n",
    ")"
   ]
  },
  {
   "cell_type": "code",
   "execution_count": null,
   "id": "2128efb4-38c6-484e-a507-484469625605",
   "metadata": {},
   "outputs": [],
   "source": [
    "res[\"closed_temp\"] = pd.DataFrame(\n",
    "    [\n",
    "        res[\"last_dc\"] > pd.Timedelta(2, \"days\"),\n",
    "        res[\"last_dc\"] <= pd.Timedelta(30, \"days\"),\n",
    "        res[\"patients\"] == 0,\n",
    "    ]\n",
    ").T.all(axis=\"columns\")\n",
    "\n",
    "res[\"closed_perm\"] = pd.DataFrame(\n",
    "    [\n",
    "        res[\"last_dc\"] > pd.Timedelta(30, \"days\"),\n",
    "        res[\"patients\"] == 0,\n",
    "    ]\n",
    ").T.all(axis=\"columns\")"
   ]
  },
  {
   "cell_type": "code",
   "execution_count": null,
   "id": "643b8c42-536c-4508-b346-0d7aa79bafe2",
   "metadata": {},
   "outputs": [],
   "source": [
    "mask = ~res[\"closed_perm\"]\n",
    "\n",
    "res = res[mask]\n",
    "res = res[\n",
    "    [\"beds\", \"patients\", \"empties\", \"opens\", \"last_dc\", \"closed_temp\" \"modified_at\"]\n",
    "]"
   ]
  },
  {
   "cell_type": "code",
   "execution_count": null,
   "id": "f757b057-591c-4a2b-b0f2-cc25dc8ff8ae",
   "metadata": {},
   "outputs": [],
   "source": [
    "res"
   ]
  },
  {
   "cell_type": "code",
   "execution_count": null,
   "id": "97e4b523-9900-4f85-977e-54ffc6f95db1",
   "metadata": {},
   "outputs": [],
   "source": [
    "from typing import List\n",
    "\n",
    "import pandas as pd\n",
    "\n",
    "\n",
    "def _split_location_string(df: pd.DataFrame) -> pd.DataFrame:\n",
    "    \"\"\"\n",
    "    Splits a location string into dept/room/bed\n",
    "    \"\"\"\n",
    "    temp = (\n",
    "        df[\"location_string\"]\n",
    "        .str.split(\"^\", expand=True)\n",
    "        .rename(columns={0: \"dept\", 1: \"room\", 2: \"bed\"})\n",
    "    )\n",
    "    for s in [\"dept\", \"room\", \"bed\"]:\n",
    "        df[s] = temp[s]\n",
    "    return df\n",
    "\n",
    "\n",
    "def _remove_non_beds(\n",
    "    df: pd.DataFrame, nonbeds: List[str] = [\"null\", \"wait\"]\n",
    ") -> pd.DataFrame:\n",
    "    \"\"\"\n",
    "    Removes non beds e.g. null, wait\n",
    "    \"\"\"\n",
    "    mask = df[\"bed\"].str.lower().isin(nonbeds)\n",
    "    df = df[~mask]\n",
    "    return df\n",
    "\n",
    "\n",
    "def _aggregate_by_department(df: pd.DataFrame) -> pd.DataFrame:\n",
    "    \"\"\"\n",
    "    Aggregation from location (bed) level to ward level\n",
    "    \"\"\"\n",
    "    groups = df.groupby(\"department\")\n",
    "    # aggregate by dept\n",
    "    res = groups.agg(\n",
    "        beds=(\"location_id\", \"count\"),\n",
    "        patients=(\"occupied\", \"sum\"),\n",
    "        last_dc=(\"cvl_discharge\", lambda x: x.max(skipna=True)),\n",
    "        modified_at=(\"modified_at\", \"max\"),\n",
    "    )\n",
    "    # calculate additional numbers\n",
    "    res[\"empties\"] = res[\"beds\"] - res[\"patients\"]\n",
    "    res[\"opens\"] = res[\"empties\"]  # place holder : need to subtract closed from empties\n",
    "    res[\"last_dc\"] = (\n",
    "        (res[\"modified_at\"] - res[\"last_dc\"])\n",
    "        .apply(lambda x: pd.Timedelta.floor(x, \"d\"))\n",
    "        .dt.days\n",
    "    )\n",
    "\n",
    "    # defined closed: temp and perm\n",
    "    res[\"closed_temp\"] = pd.DataFrame(\n",
    "        [\n",
    "            res[\"last_dc\"] > 2,\n",
    "            res[\"last_dc\"] <= 30,\n",
    "            res[\"patients\"] == 0,\n",
    "        ]\n",
    "    ).T.all(axis=\"columns\")\n",
    "\n",
    "    res[\"closed_perm\"] = pd.DataFrame(\n",
    "        [\n",
    "            res[\"last_dc\"] > 30,\n",
    "            res[\"patients\"] == 0,\n",
    "        ]\n",
    "    ).T.all(axis=\"columns\")\n",
    "\n",
    "    # drop closed perm\n",
    "    mask = ~res[\"closed_perm\"]\n",
    "\n",
    "    res = res[mask]\n",
    "    res = res[\n",
    "        [\n",
    "            \"beds\",\n",
    "            \"patients\",\n",
    "            \"empties\",\n",
    "            \"opens\",\n",
    "            \"last_dc\",\n",
    "            \"closed_temp\",\n",
    "            \"modified_at\",\n",
    "        ]\n",
    "    ]\n",
    "    res.reset_index(inplace=True)\n",
    "    return res\n",
    "\n",
    "\n",
    "def aggregate_by_department(df: pd.DataFrame) -> pd.DataFrame:\n",
    "    \"\"\"\n",
    "    Aggregation from location (bed) level to ward level\n",
    "    Wrapper function\n",
    "    \"\"\"\n",
    "    df = _split_location_string(df)\n",
    "    df = _remove_non_beds(df)\n",
    "    df = _aggregate_by_department(df)\n",
    "    return df"
   ]
  },
  {
   "cell_type": "code",
   "execution_count": null,
   "id": "61d459c7-c585-4b83-98e6-914465b4459e",
   "metadata": {},
   "outputs": [],
   "source": [
    "df = pd.read_sql(\"bedsmock\", engine)\n",
    "aggregate_by_department(df)"
   ]
  },
  {
   "cell_type": "code",
   "execution_count": null,
   "id": "849d8692-635b-47be-893a-b3c506191712",
   "metadata": {},
   "outputs": [],
   "source": []
  }
 ],
 "metadata": {
  "language_info": {
   "codemirror_mode": {
    "name": "ipython",
    "version": 3
   },
   "file_extension": ".py",
   "mimetype": "text/x-python",
   "name": "python",
   "nbconvert_exporter": "python",
   "pygments_lexer": "ipython3",
   "version": "3.9.13"
  },
  "vscode": {
   "interpreter": {
    "hash": "c6e4e9f98eb68ad3b7c296f83d20e6de614cb42e90992a65aa266555a3137d0d"
   }
  }
 },
 "nbformat": 4,
 "nbformat_minor": 5
}
