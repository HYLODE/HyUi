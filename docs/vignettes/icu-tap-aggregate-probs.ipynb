{
 "cells": [
  {
   "cell_type": "markdown",
   "id": "cac99b72",
   "metadata": {},
   "source": [
    "## ICU aggregate probabilities"
   ]
  },
  {
   "cell_type": "code",
   "execution_count": null,
   "id": "ecfae12d-923a-47ba-a6cf-879f6ac85956",
   "metadata": {
    "tags": []
   },
   "outputs": [],
   "source": [
    "import json\n",
    "from datetime import date\n",
    "\n",
    "import matplotlib.pyplot as plt\n",
    "import numpy as np\n",
    "import requests\n",
    "from scipy.stats import binom\n",
    "\n",
    "data = json.dumps(\n",
    "    {\n",
    "        \"horizon_dt\": date.today().strftime(\"%Y-%m-%dT%H:%M:%S.%f\"),\n",
    "        \"department\": \"gwb\",\n",
    "    }\n",
    ")"
   ]
  },
  {
   "cell_type": "code",
   "execution_count": null,
   "id": "4c8059dc-95fd-4736-837c-96b84895c0f6",
   "metadata": {
    "tags": []
   },
   "outputs": [],
   "source": [
    "elective_preds = requests.post(\"http://uclvlddpragae08:5219/predict/\", data).json()\n",
    "nonelective_preds = requests.post(\"http://uclvlddpragae08:5230/predict/\", data).json()"
   ]
  },
  {
   "cell_type": "code",
   "execution_count": null,
   "id": "e8957329-26b9-4cbe-b0c0-d8978ce2f2f2",
   "metadata": {
    "tags": []
   },
   "outputs": [],
   "source": [
    "elective = []\n",
    "for bed_num in elective_preds[\"data\"]:\n",
    "    elective.append(bed_num[\"probability\"])\n",
    "print(\n",
    "    \"If the number of elective patients on list is \" + str(len(elective) - 1),\n",
    "    \"the ML model will return a set of predictions from 0 beds, needed, up to that maximum, so our first array has \"\n",
    "    + str(len(elective))\n",
    "    + \" values, starting with zero\",\n",
    ")\n",
    "poss_beds = list(range(0, len(elective)))\n",
    "print(poss_beds)\n",
    "fig, ax = plt.subplots(1, 1)\n",
    "plt.scatter(poss_beds, elective)\n",
    "plt.title(\"Distribution of elective probabilities\")\n",
    "plt.show()"
   ]
  },
  {
   "cell_type": "code",
   "execution_count": null,
   "id": "6eec88a6-4e5e-4cef-b015-35003f8041fe",
   "metadata": {
    "tags": []
   },
   "outputs": [],
   "source": [
    "nonelective = []\n",
    "for bed_num in nonelective_preds[\"data\"]:\n",
    "    nonelective.append(bed_num[\"probability\"])\n",
    "print(\n",
    "    \"The ML model will return predictions for a set of beds needed for nonelective patients that might arrive ranging from 0 to  \"\n",
    "    + str(len(nonelective) - 1),\n",
    "    \" so our second array has \" + str(len(nonelective)) + \" values, starting with zero\",\n",
    ")\n",
    "poss_beds = list(range(0, len(nonelective)))\n",
    "print(poss_beds)"
   ]
  },
  {
   "cell_type": "code",
   "execution_count": null,
   "id": "7612490a-3736-41a9-a608-b729cac7e365",
   "metadata": {
    "tags": []
   },
   "outputs": [],
   "source": [
    "fig, ax = plt.subplots(1, 1)\n",
    "plt.scatter(poss_beds, nonelective)\n",
    "plt.title(\"Distribution of nonelective probabilities\")\n",
    "plt.show()"
   ]
  },
  {
   "cell_type": "code",
   "execution_count": null,
   "id": "2df94de1-6c08-48b1-a695-464ac6df4c14",
   "metadata": {
    "tags": []
   },
   "outputs": [],
   "source": [
    "num_on_unit = 18\n",
    "prob_still_here = 0.8\n",
    "onunit = binom.pmf(list(range(0, num_on_unit + 1)), num_on_unit, prob_still_here)\n",
    "print(\n",
    "    \"Let's say there are \"\n",
    "    + str(num_on_unit)\n",
    "    + \" already on the unit each with a probability of \"\n",
    "    + str(prob_still_here)\n",
    "    + \" of still being here in 24 hours time, so our third array has \"\n",
    "    + str(len(onunit))\n",
    "    + \" values, starting with zero\"\n",
    ")\n",
    "poss_beds = list(range(0, len(onunit)))\n",
    "print(poss_beds)"
   ]
  },
  {
   "cell_type": "code",
   "execution_count": null,
   "id": "1b046196-d138-475f-a289-9cbe80df851b",
   "metadata": {
    "tags": []
   },
   "outputs": [],
   "source": [
    "fig, ax = plt.subplots(1, 1)\n",
    "plt.scatter(poss_beds, onunit)\n",
    "plt.title(\"Distribution of probabilities for pats on unit\")\n",
    "plt.show()"
   ]
  },
  {
   "cell_type": "code",
   "execution_count": null,
   "id": "4ada4d3e-cef7-4362-8061-c8f49c696c1f",
   "metadata": {
    "tags": []
   },
   "outputs": [],
   "source": [
    "print(\n",
    "    \"The total possible number of admissions is the sum of the maximum possible from each of these separate distributions, which is \"\n",
    "    + str(num_on_unit + len(elective) - 1 + len(nonelective) - 1),\n",
    "    \"so the length of our aggregated predictions is one more than this number, as it is starting at zero\",\n",
    ")\n",
    "tot_beds_array = list(range(0, len(onunit) + len(elective) - 1 + len(nonelective) - 1))\n",
    "print(tot_beds_array)"
   ]
  },
  {
   "cell_type": "code",
   "execution_count": null,
   "id": "69e9e6af-b3a7-4754-af4f-c35ce21cdd9e",
   "metadata": {
    "tags": []
   },
   "outputs": [],
   "source": [
    "print(\n",
    "    \"To get a probability distribution over all these, we simply convolve them together like this: \"\n",
    ")\n",
    "aggregated = np.convolve(onunit, np.convolve(elective, nonelective))"
   ]
  },
  {
   "cell_type": "code",
   "execution_count": null,
   "id": "b9e9c291-8e09-4824-8300-32bdba028068",
   "metadata": {
    "tags": []
   },
   "outputs": [],
   "source": [
    "fig, ax = plt.subplots(1, 1)\n",
    "plt.scatter(tot_beds_array, aggregated)\n",
    "plt.title(\"Distribution of aggregated probabilities\")\n",
    "plt.show()"
   ]
  },
  {
   "cell_type": "code",
   "execution_count": null,
   "id": "a3ae2963-3731-4075-b7e5-e03121cf51b9",
   "metadata": {},
   "outputs": [],
   "source": []
  }
 ],
 "metadata": {
  "language_info": {
   "codemirror_mode": {
    "name": "ipython",
    "version": 3
   },
   "file_extension": ".py",
   "mimetype": "text/x-python",
   "name": "python",
   "nbconvert_exporter": "python",
   "pygments_lexer": "ipython3",
   "version": "3.9.13"
  },
  "vscode": {
   "interpreter": {
    "hash": "c6e4e9f98eb68ad3b7c296f83d20e6de614cb42e90992a65aa266555a3137d0d"
   }
  }
 },
 "nbformat": 4,
 "nbformat_minor": 5
}
