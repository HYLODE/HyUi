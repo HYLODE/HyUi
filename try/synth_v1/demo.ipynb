{
 "cells": [
  {
   "cell_type": "code",
   "execution_count": null,
   "id": "0c479601-1da1-42fa-9111-cbb0e9fd53dc",
   "metadata": {},
   "outputs": [],
   "source": [
    "from sdv.constraints import GreaterThan, Unique, UniqueCombinations\n",
    "from sdv.demo import load_tabular_demo\n",
    "from sdv.tabular import GaussianCopula\n",
    "\n",
    "employees = load_tabular_demo()"
   ]
  },
  {
   "cell_type": "code",
   "execution_count": null,
   "id": "7f1cf8b5-2b85-4075-ab30-bf0b18100473",
   "metadata": {},
   "outputs": [],
   "source": [
    "employees"
   ]
  },
  {
   "cell_type": "code",
   "execution_count": null,
   "id": "d2e736bb-17cf-4b92-bbec-b59d774c0a53",
   "metadata": {},
   "outputs": [],
   "source": [
    "unique_employee_id_company_constraint = Unique(columns=[\"employee_id\", \"company\"])"
   ]
  },
  {
   "cell_type": "code",
   "execution_count": null,
   "id": "ea2ec764-c8d0-4222-b2af-3f1317d365b3",
   "metadata": {},
   "outputs": [],
   "source": [
    "unique_company_department_constraint = UniqueCombinations(\n",
    "    columns=[\"company\", \"department\"], handling_strategy=\"transform\"\n",
    ")"
   ]
  },
  {
   "cell_type": "code",
   "execution_count": null,
   "id": "d25bbd87-a078-4914-a2df-ad5b696ac4a4",
   "metadata": {},
   "outputs": [],
   "source": [
    "salary_gt_30000_constraint = GreaterThan(\n",
    "    low=30000, high=\"salary\", scalar=\"low\", handling_strategy=\"reject_sampling\"\n",
    ")"
   ]
  },
  {
   "cell_type": "code",
   "execution_count": null,
   "id": "89482a97-c8a1-41ed-8cb2-f93862db3d5d",
   "metadata": {},
   "outputs": [],
   "source": [
    "constraints = [\n",
    "    unique_employee_id_company_constraint,\n",
    "    unique_company_department_constraint,\n",
    "    salary_gt_30000_constraint,\n",
    "]"
   ]
  },
  {
   "cell_type": "code",
   "execution_count": null,
   "id": "9c1615dd-e0b1-4daf-86bb-1dae8bd0f140",
   "metadata": {},
   "outputs": [],
   "source": [
    "gc = GaussianCopula(constraints=constraints)"
   ]
  },
  {
   "cell_type": "code",
   "execution_count": null,
   "id": "68247364-cd65-4bc5-970e-b5a9fc948c66",
   "metadata": {},
   "outputs": [],
   "source": [
    "gc.fit(employees)"
   ]
  },
  {
   "cell_type": "code",
   "execution_count": null,
   "id": "d2a38746-15f8-4e96-9c21-6ad3cec07fcc",
   "metadata": {},
   "outputs": [],
   "source": [
    "gc.sample(10)"
   ]
  },
  {
   "cell_type": "code",
   "execution_count": null,
   "id": "56e457fc-ef57-4e0e-b8ea-ef356078b2d9",
   "metadata": {},
   "outputs": [],
   "source": [
    "from sdv.demo import load_tabular_demo\n",
    "\n",
    "metadata, data = load_tabular_demo(\"student_placements\", metadata=True)"
   ]
  },
  {
   "cell_type": "code",
   "execution_count": null,
   "id": "5013e9b7-0c99-43a5-b3c9-3a02af772c4f",
   "metadata": {},
   "outputs": [],
   "source": [
    "data.head()"
   ]
  },
  {
   "cell_type": "code",
   "execution_count": null,
   "id": "0bd2e784-454c-4b44-9af8-0c8cc62370a4",
   "metadata": {},
   "outputs": [],
   "source": []
  }
 ],
 "metadata": {
  "language_info": {
   "codemirror_mode": {
    "name": "ipython",
    "version": 3
   },
   "file_extension": ".py",
   "mimetype": "text/x-python",
   "name": "python",
   "nbconvert_exporter": "python",
   "pygments_lexer": "ipython3",
   "version": "3.9.9"
  }
 },
 "nbformat": 4,
 "nbformat_minor": 5
}
