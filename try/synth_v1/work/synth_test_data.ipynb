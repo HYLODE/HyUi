{
 "cells": [
  {
   "cell_type": "markdown",
   "id": "96687d16-17db-47f6-8cd7-41444a6d00b4",
   "metadata": {},
   "source": [
    "# Prepare synthetic data \n",
    "It is going to be much easier to develop if you have realistic synthetic data.\n",
    "Here we take a sql query that generates a single tabular output.\n",
    "We run that query against the live identifiable data once.\n",
    "We then use the [Synthetic Data Vault](https://sdv.dev/SDV/index.html) to prepare a synthetic model of those data.\n",
    "The code below serves as a vignette for that process but will need adjusting to match the exact contents of the original query.\n",
    "\n",
    "More complex examples that include multiple tables with joins and dependencies are also possible.\n",
    "\n",
    "This notebook should be run interactively just once"
   ]
  },
  {
   "cell_type": "markdown",
   "id": "b8eb5db6-f3cb-4640-a668-cebb21d0e7e1",
   "metadata": {},
   "source": [
    "## Set-up, query and return the data as datafame\n",
    "The query lives in `./src/api` where `.` represents the project root.\n",
    "If you run this JupyterNotebook using the local **Makefile** and `make run` then that query will be automatically copied here.\n",
    "\n",
    "So first steps should be (from _this_ directory)\n",
    "```sh\n",
    "make build\n",
    "make run\n",
    "```\n",
    "then navigate to http://uclvlddpragae07:8091/lab/tree/steve/work/synth_test_data.ipynb"
   ]
  },
  {
   "cell_type": "code",
   "execution_count": 1,
   "id": "515d4a8b-0480-4a42-a751-36a1b41172a9",
   "metadata": {},
   "outputs": [],
   "source": [
    "import os\n",
    "import pandas as pd\n",
    "\n",
    "from pathlib import Path\n",
    "from sqlalchemy import create_engine"
   ]
  },
  {
   "cell_type": "code",
   "execution_count": 2,
   "id": "1d9d5210-3bca-41b7-a31d-3c06df7b6f0d",
   "metadata": {},
   "outputs": [],
   "source": [
    "# Construct the PostgreSQL connection\n",
    "uds_host = os.getenv('UDS_HOST')\n",
    "uds_user = os.getenv('UDS_USER')\n",
    "uds_passwd = os.getenv('UDS_PWD')\n",
    "\n",
    "emapdb_engine = create_engine(f'postgresql://{uds_user}:{uds_passwd}@{uds_host}:5432/uds')"
   ]
  },
  {
   "cell_type": "code",
   "execution_count": 3,
   "id": "7b0478ca-b292-4320-8e28-63379df934b7",
   "metadata": {},
   "outputs": [],
   "source": [
    "# Read the sql file into a query 'q' and the query into a dataframe\n",
    "q = Path('query.sql').read_text()\n",
    "df = pd.read_sql_query(q, emapdb_engine)"
   ]
  },
  {
   "cell_type": "markdown",
   "id": "8785b6f4-b2cd-4e5c-970a-d793b3c60738",
   "metadata": {},
   "source": [
    "## Generate a synthetic version of the real data\n",
    "\n",
    "Use the table above to generate the metadata you need for the synthetic data\n",
    "\n",
    "https://sdv.dev/SDV/user_guides/relational/relational_metadata.html#relational-metadata"
   ]
  },
  {
   "cell_type": "code",
   "execution_count": 4,
   "id": "6992f5ac-02f6-4fa3-94fd-992c598891aa",
   "metadata": {},
   "outputs": [],
   "source": [
    "# Minimal imports\n",
    "from sdv import Metadata, SDV"
   ]
  },
  {
   "cell_type": "code",
   "execution_count": 5,
   "id": "14f7ced8-a783-4f42-8ba8-46c546bb8dab",
   "metadata": {},
   "outputs": [],
   "source": [
    "# PostgreSQL returns datetimes with tz info which sdv does not seem to be able to handle\n",
    "def remove_timezone(df, col_name: str) -> pd.DataFrame:\n",
    "    \"\"\"sdv does not like timezones\"\"\"\n",
    "    df[col_name] = df[col_name].dt.tz_localize(None)\n",
    "    return df"
   ]
  },
  {
   "cell_type": "markdown",
   "id": "3e9026fd-646c-48fc-bbc2-48994973e9c6",
   "metadata": {},
   "source": [
    "### Prepare data and metadata"
   ]
  },
  {
   "cell_type": "code",
   "execution_count": 6,
   "id": "558eeb3f-a30f-4d81-9b7d-5f5a98e6c59c",
   "metadata": {},
   "outputs": [],
   "source": [
    "tz_cols = ['valid_from', 'scheduled_datetime', 'status_change_time', 'admission_time', 'discharge_time']\n",
    "for col in tz_cols:\n",
    "    df = remove_timezone(df, col)"
   ]
  },
  {
   "cell_type": "markdown",
   "id": "00035b60-16dd-4f83-ab98-08b03d8cd6f0",
   "metadata": {},
   "source": [
    "sdv doesn't always recognise the columns correctly. Here we specify data_of_birth explicitly as a date."
   ]
  },
  {
   "cell_type": "code",
   "execution_count": 7,
   "id": "bfdb3380-bf71-448a-ab45-a876c544ebb9",
   "metadata": {},
   "outputs": [],
   "source": [
    "fields = {\n",
    "    'date_of_birth': {\n",
    "        'type': 'datetime',\n",
    "        'format': '%Y-%m-%d',\n",
    "    }\n",
    "}"
   ]
  },
  {
   "cell_type": "markdown",
   "id": "356fe5bc-5cc2-4e55-9723-f4a03c96cda8",
   "metadata": {},
   "source": [
    "Prepare the metadata"
   ]
  },
  {
   "cell_type": "code",
   "execution_count": 8,
   "id": "38bd8e12-8e18-4bb9-9251-26fa0a9608b9",
   "metadata": {},
   "outputs": [],
   "source": [
    "metadata = Metadata()\n",
    "metadata.add_table(\n",
    "    name='tabpid',\n",
    "    data=df,\n",
    "    fields_metadata=fields,\n",
    ")"
   ]
  },
  {
   "cell_type": "code",
   "execution_count": 9,
   "id": "d03cdaa8-aa2b-4d13-b932-0fb4bbf438bf",
   "metadata": {},
   "outputs": [
    {
     "data": {
      "text/plain": [
       "{'fields': {'date_of_birth': {'type': 'datetime', 'format': '%Y-%m-%d'},\n",
       "  'firstname': {'type': 'categorical'},\n",
       "  'lastname': {'type': 'categorical'},\n",
       "  'mrn': {'type': 'categorical'},\n",
       "  'nhs_number': {'type': 'categorical'},\n",
       "  'valid_from': {'type': 'datetime'},\n",
       "  'cancelled': {'type': 'boolean'},\n",
       "  'closed_due_to_discharge': {'type': 'boolean'},\n",
       "  'comments': {'type': 'categorical'},\n",
       "  'scheduled_datetime': {'type': 'datetime'},\n",
       "  'status_change_time': {'type': 'datetime'},\n",
       "  'name': {'type': 'categorical'},\n",
       "  'admission_time': {'type': 'datetime'},\n",
       "  'discharge_time': {'type': 'datetime'},\n",
       "  'dept_name': {'type': 'categorical'}}}"
      ]
     },
     "execution_count": 9,
     "metadata": {},
     "output_type": "execute_result"
    }
   ],
   "source": [
    "# Inspect the conversion that metadata.add_table did to the dataframe that you loaded\n",
    "metadata.get_table_meta('tabpid')"
   ]
  },
  {
   "cell_type": "markdown",
   "id": "6c80c8ca-5407-47e4-8b41-3f35a2ee627f",
   "metadata": {},
   "source": [
    "Prepare the table(s)"
   ]
  },
  {
   "cell_type": "code",
   "execution_count": 10,
   "id": "dc43f428-e404-4bc4-a160-7cf477500633",
   "metadata": {},
   "outputs": [],
   "source": [
    "tables = dict(tabpid=df)"
   ]
  },
  {
   "cell_type": "markdown",
   "id": "4f2d5f72-6b34-46dc-b9fe-01a4cb7f6730",
   "metadata": {},
   "source": [
    "Fit the model"
   ]
  },
  {
   "cell_type": "code",
   "execution_count": 11,
   "id": "073a892b-dd55-483b-8d11-7333b5f2e9e9",
   "metadata": {},
   "outputs": [],
   "source": [
    "sdv = SDV()\n",
    "sdv.fit(metadata, tables)"
   ]
  },
  {
   "cell_type": "markdown",
   "id": "aa4071f4-cbff-4fe1-ad29-9747d751cc1a",
   "metadata": {},
   "source": [
    "Inspect the original data"
   ]
  },
  {
   "cell_type": "markdown",
   "id": "8614d48b-a339-45d4-b072-0651270f6a02",
   "metadata": {},
   "source": [
    "Inspect the synthetic data"
   ]
  },
  {
   "cell_type": "code",
   "execution_count": 12,
   "id": "00b16a46-e44f-4da3-8109-7916250c4fb4",
   "metadata": {},
   "outputs": [
    {
     "data": {
      "text/html": [
       "<div>\n",
       "<style scoped>\n",
       "    .dataframe tbody tr th:only-of-type {\n",
       "        vertical-align: middle;\n",
       "    }\n",
       "\n",
       "    .dataframe tbody tr th {\n",
       "        vertical-align: top;\n",
       "    }\n",
       "\n",
       "    .dataframe thead th {\n",
       "        text-align: right;\n",
       "    }\n",
       "</style>\n",
       "<table border=\"1\" class=\"dataframe\">\n",
       "  <thead>\n",
       "    <tr style=\"text-align: right;\">\n",
       "      <th></th>\n",
       "      <th>date_of_birth</th>\n",
       "      <th>firstname</th>\n",
       "      <th>lastname</th>\n",
       "      <th>mrn</th>\n",
       "      <th>nhs_number</th>\n",
       "      <th>valid_from</th>\n",
       "      <th>cancelled</th>\n",
       "      <th>closed_due_to_discharge</th>\n",
       "      <th>comments</th>\n",
       "      <th>scheduled_datetime</th>\n",
       "      <th>status_change_time</th>\n",
       "      <th>name</th>\n",
       "      <th>admission_time</th>\n",
       "      <th>discharge_time</th>\n",
       "      <th>dept_name</th>\n",
       "    </tr>\n",
       "  </thead>\n",
       "  <tbody>\n",
       "    <tr>\n",
       "      <th>0</th>\n",
       "      <td>2018-08-09</td>\n",
       "      <td>TIANYUN</td>\n",
       "      <td>WILLIAMS</td>\n",
       "      <td>21010530</td>\n",
       "      <td>4667319151</td>\n",
       "      <td>2022-05-19 01:46:33</td>\n",
       "      <td>False</td>\n",
       "      <td>False</td>\n",
       "      <td>NaN</td>\n",
       "      <td>2022-05-18 22:53:00</td>\n",
       "      <td>2022-05-19 01:46:20</td>\n",
       "      <td>Inpatient consult to Haematology</td>\n",
       "      <td>2022-05-19 05:16:51</td>\n",
       "      <td>NaT</td>\n",
       "      <td>UCH SDEC</td>\n",
       "    </tr>\n",
       "    <tr>\n",
       "      <th>1</th>\n",
       "      <td>1954-07-04</td>\n",
       "      <td>DANIELLE</td>\n",
       "      <td>MONTOYA</td>\n",
       "      <td>21506951</td>\n",
       "      <td>4085170767</td>\n",
       "      <td>2022-05-19 03:17:45</td>\n",
       "      <td>False</td>\n",
       "      <td>False</td>\n",
       "      <td>NaN</td>\n",
       "      <td>2022-05-19 03:35:00</td>\n",
       "      <td>2022-05-19 03:18:21</td>\n",
       "      <td>Inpatient consult to Urology</td>\n",
       "      <td>2022-05-19 06:13:41</td>\n",
       "      <td>NaT</td>\n",
       "      <td>UCH SDEC</td>\n",
       "    </tr>\n",
       "    <tr>\n",
       "      <th>2</th>\n",
       "      <td>1961-11-27</td>\n",
       "      <td>CHI</td>\n",
       "      <td>SUMANG</td>\n",
       "      <td>21507592</td>\n",
       "      <td>4964860787</td>\n",
       "      <td>2022-05-18 22:36:18</td>\n",
       "      <td>False</td>\n",
       "      <td>False</td>\n",
       "      <td>NaN</td>\n",
       "      <td>2022-05-18 22:08:00</td>\n",
       "      <td>2022-05-18 22:36:26</td>\n",
       "      <td>Inpatient consult to Oncology</td>\n",
       "      <td>2022-05-19 02:05:34</td>\n",
       "      <td>2022-05-19 03:48:01</td>\n",
       "      <td>UCH EMERGENCY DEPT</td>\n",
       "    </tr>\n",
       "    <tr>\n",
       "      <th>3</th>\n",
       "      <td>1949-01-10</td>\n",
       "      <td>BEAU</td>\n",
       "      <td>BRERETON</td>\n",
       "      <td>21508917</td>\n",
       "      <td>7158435865</td>\n",
       "      <td>2022-05-19 14:37:01</td>\n",
       "      <td>False</td>\n",
       "      <td>False</td>\n",
       "      <td>NaN</td>\n",
       "      <td>2022-05-19 14:40:00</td>\n",
       "      <td>2022-05-19 14:37:00</td>\n",
       "      <td>Inpatient consult to Acute Medicine</td>\n",
       "      <td>2022-05-19 06:09:03</td>\n",
       "      <td>NaT</td>\n",
       "      <td>UCH SDEC</td>\n",
       "    </tr>\n",
       "    <tr>\n",
       "      <th>4</th>\n",
       "      <td>1970-12-20</td>\n",
       "      <td>KISHOR</td>\n",
       "      <td>MONTOYA</td>\n",
       "      <td>21507592</td>\n",
       "      <td>4324403708</td>\n",
       "      <td>2022-05-19 16:11:25</td>\n",
       "      <td>False</td>\n",
       "      <td>False</td>\n",
       "      <td>NaN</td>\n",
       "      <td>2022-05-19 15:08:00</td>\n",
       "      <td>2022-05-19 16:11:16</td>\n",
       "      <td>Inpatient consult to Mental Health Liaison Team</td>\n",
       "      <td>2022-05-19 11:33:00</td>\n",
       "      <td>NaT</td>\n",
       "      <td>UCH SDEC</td>\n",
       "    </tr>\n",
       "  </tbody>\n",
       "</table>\n",
       "</div>"
      ],
      "text/plain": [
       "  date_of_birth firstname  lastname       mrn  nhs_number          valid_from  \\\n",
       "0    2018-08-09   TIANYUN  WILLIAMS  21010530  4667319151 2022-05-19 01:46:33   \n",
       "1    1954-07-04  DANIELLE   MONTOYA  21506951  4085170767 2022-05-19 03:17:45   \n",
       "2    1961-11-27       CHI    SUMANG  21507592  4964860787 2022-05-18 22:36:18   \n",
       "3    1949-01-10      BEAU  BRERETON  21508917  7158435865 2022-05-19 14:37:01   \n",
       "4    1970-12-20    KISHOR   MONTOYA  21507592  4324403708 2022-05-19 16:11:25   \n",
       "\n",
       "   cancelled  closed_due_to_discharge comments  scheduled_datetime  \\\n",
       "0      False                    False      NaN 2022-05-18 22:53:00   \n",
       "1      False                    False      NaN 2022-05-19 03:35:00   \n",
       "2      False                    False      NaN 2022-05-18 22:08:00   \n",
       "3      False                    False      NaN 2022-05-19 14:40:00   \n",
       "4      False                    False      NaN 2022-05-19 15:08:00   \n",
       "\n",
       "   status_change_time                                             name  \\\n",
       "0 2022-05-19 01:46:20                 Inpatient consult to Haematology   \n",
       "1 2022-05-19 03:18:21                     Inpatient consult to Urology   \n",
       "2 2022-05-18 22:36:26                    Inpatient consult to Oncology   \n",
       "3 2022-05-19 14:37:00              Inpatient consult to Acute Medicine   \n",
       "4 2022-05-19 16:11:16  Inpatient consult to Mental Health Liaison Team   \n",
       "\n",
       "       admission_time      discharge_time           dept_name  \n",
       "0 2022-05-19 05:16:51                 NaT            UCH SDEC  \n",
       "1 2022-05-19 06:13:41                 NaT            UCH SDEC  \n",
       "2 2022-05-19 02:05:34 2022-05-19 03:48:01  UCH EMERGENCY DEPT  \n",
       "3 2022-05-19 06:09:03                 NaT            UCH SDEC  \n",
       "4 2022-05-19 11:33:00                 NaT            UCH SDEC  "
      ]
     },
     "execution_count": 12,
     "metadata": {},
     "output_type": "execute_result"
    }
   ],
   "source": [
    "sdv.sample_all()['tabpid'].head()"
   ]
  },
  {
   "cell_type": "markdown",
   "id": "375226dd-4acc-434f-b9f4-6ac334990a04",
   "metadata": {},
   "source": [
    "### Save the synthetic data\n",
    "\n",
    "Options\n",
    "- save the model and not the synthetic data (but then you need *sdv* to run the model)\n",
    "- save the data (need some care with type conversions if you use csv etc.)"
   ]
  },
  {
   "cell_type": "code",
   "execution_count": 13,
   "id": "7a5043a3-4cb9-4445-beb0-8fe6d3fa3360",
   "metadata": {},
   "outputs": [],
   "source": [
    "sdv.save('sdv_model.pkl')"
   ]
  },
  {
   "cell_type": "code",
   "execution_count": 14,
   "id": "c1be99b9-b79d-4a1f-b1cb-dd7b89d0e369",
   "metadata": {},
   "outputs": [],
   "source": [
    "sample = sdv.sample_all()\n",
    "sample_df = sample['tabpid']\n",
    "sample_df.to_pickle('sample_df')"
   ]
  },
  {
   "cell_type": "code",
   "execution_count": null,
   "id": "802c5fa7-93ac-4a18-b7fb-b7fa10f0190b",
   "metadata": {},
   "outputs": [],
   "source": []
  }
 ],
 "metadata": {
  "kernelspec": {
   "display_name": "Python 3 (ipykernel)",
   "language": "python",
   "name": "python3"
  },
  "language_info": {
   "codemirror_mode": {
    "name": "ipython",
    "version": 3
   },
   "file_extension": ".py",
   "mimetype": "text/x-python",
   "name": "python",
   "nbconvert_exporter": "python",
   "pygments_lexer": "ipython3",
   "version": "3.9.12"
  }
 },
 "nbformat": 4,
 "nbformat_minor": 5
}
