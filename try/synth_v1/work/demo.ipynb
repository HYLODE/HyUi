{
 "cells": [
  {
   "cell_type": "code",
   "execution_count": 1,
   "id": "f2eaa9b2-3b24-4910-b95a-0a5b66fa09c4",
   "metadata": {},
   "outputs": [],
   "source": [
    "from sdv import load_demo\n",
    "metadata, tables = load_demo(metadata=True)"
   ]
  },
  {
   "cell_type": "code",
   "execution_count": 2,
   "id": "b5813fb2-8f1a-4393-9317-3d3058701528",
   "metadata": {},
   "outputs": [
    {
     "data": {
      "text/plain": [
       "Metadata\n",
       "  root_path: .\n",
       "  tables: ['users', 'sessions', 'transactions']\n",
       "  relationships:\n",
       "    sessions.user_id -> users.user_id\n",
       "    transactions.session_id -> sessions.session_id"
      ]
     },
     "execution_count": 2,
     "metadata": {},
     "output_type": "execute_result"
    }
   ],
   "source": [
    "metadata"
   ]
  },
  {
   "cell_type": "code",
   "execution_count": 4,
   "id": "60b688c1-7695-4e2a-a25d-0f43a2961ad7",
   "metadata": {},
   "outputs": [
    {
     "data": {
      "text/plain": [
       "transaction_id             int64\n",
       "session_id                 int64\n",
       "timestamp         datetime64[ns]\n",
       "amount                   float64\n",
       "cancelled                   bool\n",
       "dtype: object"
      ]
     },
     "execution_count": 4,
     "metadata": {},
     "output_type": "execute_result"
    }
   ],
   "source": [
    "tables['transactions'].dtypes"
   ]
  },
  {
   "cell_type": "code",
   "execution_count": null,
   "id": "85def970-65e2-4700-86c4-8a63ec5cec7e",
   "metadata": {},
   "outputs": [],
   "source": []
  }
 ],
 "metadata": {
  "kernelspec": {
   "display_name": "Python 3 (ipykernel)",
   "language": "python",
   "name": "python3"
  },
  "language_info": {
   "codemirror_mode": {
    "name": "ipython",
    "version": 3
   },
   "file_extension": ".py",
   "mimetype": "text/x-python",
   "name": "python",
   "nbconvert_exporter": "python",
   "pygments_lexer": "ipython3",
   "version": "3.9.12"
  }
 },
 "nbformat": 4,
 "nbformat_minor": 5
}
