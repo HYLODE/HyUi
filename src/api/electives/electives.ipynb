{
 "cells": [
  {
   "cell_type": "markdown",
   "id": "3a5aa4d8-5b46-46e3-8312-2d8661b0a549",
   "metadata": {},
   "source": [
    "Workings with elective data"
   ]
  },
  {
   "cell_type": "code",
   "execution_count": null,
   "id": "e19fccd2-b61e-4d4e-8486-d89ad2f9d5bb",
   "metadata": {},
   "outputs": [],
   "source": [
    "%cd ../src"
   ]
  },
  {
   "cell_type": "code",
   "execution_count": null,
   "id": "90862be2-d78e-4ae6-a6e3-aa37b1726254",
   "metadata": {},
   "outputs": [],
   "source": [
    "from pathlib import Path\n",
    "from typing import List\n",
    "\n",
    "import pandas as pd\n",
    "from pydantic import BaseModel"
   ]
  },
  {
   "cell_type": "markdown",
   "id": "005555cb-3a51-4fc1-92bd-ccb23e22758e",
   "metadata": {},
   "source": [
    "Make sure you are simulating work as if you're in the src directory"
   ]
  },
  {
   "cell_type": "code",
   "execution_count": null,
   "id": "b7e9e84a-ecbe-4c91-9e16-003f4decd3ba",
   "metadata": {},
   "outputs": [],
   "source": [
    "from mock import mock"
   ]
  },
  {
   "cell_type": "code",
   "execution_count": null,
   "id": "928b7061-4209-448c-bb84-fccb9328665c",
   "metadata": {},
   "outputs": [],
   "source": [
    "electives_file = mock.path_to_hdf_file(\"electives\")\n",
    "df = pd.read_hdf(electives_file)"
   ]
  },
  {
   "cell_type": "code",
   "execution_count": null,
   "id": "e73a41df-4060-4ffe-bd8f-cb9dc9ad34dd",
   "metadata": {},
   "outputs": [],
   "source": [
    "df.head()"
   ]
  },
  {
   "cell_type": "code",
   "execution_count": null,
   "id": "21b051fb-8326-4d86-a01b-c8d614970594",
   "metadata": {},
   "outputs": [],
   "source": [
    "df.columns"
   ]
  },
  {
   "cell_type": "code",
   "execution_count": null,
   "id": "90ecc7c1-0ebd-4e28-b68f-944366fd04ba",
   "metadata": {},
   "outputs": [],
   "source": [
    "df.info()"
   ]
  },
  {
   "cell_type": "code",
   "execution_count": null,
   "id": "64dd1e0f-1095-4cc0-b204-418530b13e3a",
   "metadata": {},
   "outputs": [],
   "source": [
    "df.to_csv(\"tmp.csv\")"
   ]
  },
  {
   "cell_type": "code",
   "execution_count": null,
   "id": "aa32c308-f0df-4e53-98b6-125b3a15b4bd",
   "metadata": {},
   "outputs": [],
   "source": [
    "engine = mock.make_mock_db_in_memory(\"electives\")"
   ]
  },
  {
   "cell_type": "code",
   "execution_count": null,
   "id": "68e14e56-7655-4b88-ac60-39a315684cdf",
   "metadata": {},
   "outputs": [],
   "source": [
    "import sqlalchemy as sa\n",
    "\n",
    "from api.electives import QUERY_MOCK_PATH"
   ]
  },
  {
   "cell_type": "code",
   "execution_count": null,
   "id": "ab20e536-07b6-4742-97b7-b5a77bd94123",
   "metadata": {},
   "outputs": [],
   "source": [
    "QUERY_MOCK_PATH.read_text()"
   ]
  },
  {
   "cell_type": "code",
   "execution_count": null,
   "id": "6579fb08-8adc-4d19-886e-4e9eac02416a",
   "metadata": {},
   "outputs": [],
   "source": [
    "# with engine.connect() as conn:\n",
    "#     _ = pd.read_sql(\"select * from electives\", conn)\n",
    "#     _.head()"
   ]
  },
  {
   "cell_type": "code",
   "execution_count": null,
   "id": "f277c445-d326-43b9-ad47-56c6b77f74c8",
   "metadata": {},
   "outputs": [],
   "source": []
  },
  {
   "cell_type": "code",
   "execution_count": null,
   "id": "f4d028ce-0bcb-4448-962d-f0e670061de8",
   "metadata": {},
   "outputs": [],
   "source": []
  }
 ],
 "metadata": {
  "language_info": {
   "codemirror_mode": {
    "name": "ipython",
    "version": 3
   },
   "file_extension": ".py",
   "mimetype": "text/x-python",
   "name": "python",
   "nbconvert_exporter": "python",
   "pygments_lexer": "ipython3",
   "version": "3.9.9"
  }
 },
 "nbformat": 4,
 "nbformat_minor": 5
}
