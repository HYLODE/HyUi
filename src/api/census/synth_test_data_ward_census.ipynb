{
 "cells": [
  {
   "cell_type": "markdown",
   "id": "96687d16-17db-47f6-8cd7-41444a6d00b4",
   "metadata": {},
   "source": [
    "# Prepare synthetic data to define census of wards in the tower flow report\n",
    "It is going to be much easier to develop if you have realistic synthetic data.\n",
    "Here we take a sql query that generates a single tabular output.\n",
    "We run that query against the live identifiable data once.\n",
    "We then use the [Synthetic Data Vault](https://sdv.dev/SDV/index.html) to prepare a synthetic model of those data.\n",
    "The code below serves as a vignette for that process but will need adjusting to match the exact contents of the original query.\n",
    "\n",
    "More complex examples that include multiple tables with joins and dependencies are also possible.\n",
    "\n",
    "This notebook should be run interactively just once"
   ]
  },
  {
   "cell_type": "code",
   "execution_count": null,
   "id": "515d4a8b-0480-4a42-a751-36a1b41172a9",
   "metadata": {},
   "outputs": [],
   "source": [
    "import os\n",
    "from pathlib import Path\n",
    "\n",
    "import pandas as pd\n",
    "from sqlalchemy import create_engine"
   ]
  },
  {
   "cell_type": "code",
   "execution_count": null,
   "id": "1d9d5210-3bca-41b7-a31d-3c06df7b6f0d",
   "metadata": {},
   "outputs": [],
   "source": [
    "# Construct the PostgreSQL connection\n",
    "uds_host = os.getenv(\"EMAP_DB_HOST\")\n",
    "uds_user = os.getenv(\"EMAP_DB_USER\")\n",
    "uds_passwd = os.getenv(\"EMAP_DB_PASSWORD\")\n",
    "dsn = f\"postgresql://{uds_user}:{uds_passwd}@{uds_host}:5432/uds\"\n",
    "emapdb_engine = create_engine(dsn)"
   ]
  },
  {
   "cell_type": "code",
   "execution_count": null,
   "id": "9fc848a9-bb52-4cd5-ad0f-03087201bf80",
   "metadata": {},
   "outputs": [],
   "source": [
    "from wards import wards"
   ]
  },
  {
   "cell_type": "code",
   "execution_count": null,
   "id": "4f84f815-5d20-4e59-83c5-1a375d2b0998",
   "metadata": {},
   "outputs": [],
   "source": [
    "wards[49:]"
   ]
  },
  {
   "cell_type": "code",
   "execution_count": null,
   "id": "83c1f80f-58a0-4153-84af-629efac24c44",
   "metadata": {},
   "outputs": [],
   "source": [
    "# Read the sql file into a query 'q' and the query into a dataframe\n",
    "q = Path(\"beds.sql\").read_text()\n",
    "_wards = wards[49:]  # for testing just work with WMS\n",
    "_wards = wards[:]\n",
    "_locations = [\"T06C^T06C BY08^BY08-36\"]"
   ]
  },
  {
   "cell_type": "code",
   "execution_count": null,
   "id": "77dae100-1819-44ee-b49b-86c55c00d824",
   "metadata": {},
   "outputs": [],
   "source": [
    "_wards = list(_wards) if type(_wards) is str else _wards\n",
    "df = pd.read_sql_query(\n",
    "    sql=q, con=emapdb_engine, params={\"wards\": _wards, \"locations\": []}\n",
    ")\n",
    "df.head()"
   ]
  },
  {
   "cell_type": "markdown",
   "id": "afd2426f-956c-4581-acf5-12baa9a7b4fc",
   "metadata": {},
   "source": [
    "## Fake Personsally Identifiable Information"
   ]
  },
  {
   "cell_type": "code",
   "execution_count": null,
   "id": "44d9dc44-bfca-433b-97d3-0050b1c9b907",
   "metadata": {},
   "outputs": [],
   "source": [
    "from faker import Faker\n",
    "\n",
    "fake = Faker()"
   ]
  },
  {
   "cell_type": "code",
   "execution_count": null,
   "id": "eb5abefb-ff5c-4058-94bb-065a2de0289f",
   "metadata": {},
   "outputs": [],
   "source": [
    "df[\"encounter\"] = df[\"encounter\"].map(\n",
    "    lambda x: int(fake.numerify(\"10########\")), na_action=\"ignore\"\n",
    ")\n",
    "df[\"mrn\"] = df[\"mrn\"].map(lambda x: int(fake.numerify(\"40######\")), na_action=\"ignore\")\n",
    "df[\"lastname\"] = df[\"lastname\"].map(\n",
    "    lambda x: fake.last_name().upper(), na_action=\"ignore\"\n",
    ")\n",
    "df[\"firstname\"] = df[\"firstname\"].map(\n",
    "    lambda x: fake.first_name().upper(), na_action=\"ignore\"\n",
    ")\n",
    "df[\"date_of_birth\"] = df[\"date_of_birth\"].map(\n",
    "    lambda x: fake.date_of_birth(), na_action=\"ignore\"\n",
    ")\n",
    "df[\"cvl_hv_id\"] = df[\"cvl_hv_id\"].map(\n",
    "    lambda x: fake.random_number(digits=6, fix_len=True), na_action=\"ignore\"\n",
    ")\n",
    "df[\"ovl_hv_id\"] = df[\"ovl_hv_id\"].map(\n",
    "    lambda x: fake.random_number(digits=6, fix_len=True), na_action=\"ignore\"\n",
    ")"
   ]
  },
  {
   "cell_type": "code",
   "execution_count": null,
   "id": "0f9fdc71-7266-4668-8d29-7e1ba2ad8757",
   "metadata": {},
   "outputs": [],
   "source": [
    "# inspect an example\n",
    "df.iloc[0]"
   ]
  },
  {
   "cell_type": "markdown",
   "id": "375226dd-4acc-434f-b9f4-6ac334990a04",
   "metadata": {},
   "source": [
    "### Save the synthetic data via sqlite\n"
   ]
  },
  {
   "cell_type": "code",
   "execution_count": null,
   "id": "9900fe47-976b-4ec8-9fdf-3c692892bf09",
   "metadata": {},
   "outputs": [],
   "source": [
    "engine_sqlite = create_engine(\"sqlite:///beds.db\")\n",
    "con = engine_sqlite.connect()\n",
    "df.to_sql(\"beds\", con=con, if_exists=\"replace\", index=False)"
   ]
  },
  {
   "cell_type": "code",
   "execution_count": null,
   "id": "802c5fa7-93ac-4a18-b7fb-b7fa10f0190b",
   "metadata": {},
   "outputs": [],
   "source": [
    "pd.read_sql(\"beds\", con=con)"
   ]
  },
  {
   "cell_type": "code",
   "execution_count": null,
   "id": "1d27c85f-d9d8-49e2-89bf-c5b2ccfcd2c5",
   "metadata": {},
   "outputs": [],
   "source": []
  }
 ],
 "metadata": {
  "language_info": {
   "codemirror_mode": {
    "name": "ipython",
    "version": 3
   },
   "file_extension": ".py",
   "mimetype": "text/x-python",
   "name": "python",
   "nbconvert_exporter": "python",
   "pygments_lexer": "ipython3",
   "version": "3.9.9"
  }
 },
 "nbformat": 4,
 "nbformat_minor": 5
}
