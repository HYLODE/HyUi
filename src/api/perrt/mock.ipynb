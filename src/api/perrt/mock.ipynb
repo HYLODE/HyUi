{
 "cells": [
  {
   "cell_type": "markdown",
   "id": "96687d16-17db-47f6-8cd7-41444a6d00b4",
   "metadata": {},
   "source": [
    "# Prepare synthetic data (Vitals)\n",
    "It is going to be much easier to develop if you have realistic synthetic data.\n",
    "Here we take a sql query that generates a single tabular output.\n",
    "We run that query against the live identifiable data once.\n",
    "We then use the [Synthetic Data Vault](https://sdv.dev/SDV/index.html) to prepare a synthetic model of those data.\n",
    "The code below serves as a vignette for that process but will need adjusting to match the exact contents of the original query.\n",
    "\n",
    "More complex examples that include multiple tables with joins and dependencies are also possible.\n",
    "\n",
    "This notebook should be run interactively just once"
   ]
  },
  {
   "cell_type": "markdown",
   "id": "b8eb5db6-f3cb-4640-a668-cebb21d0e7e1",
   "metadata": {},
   "source": [
    "## Set-up, query and return the data as datafame\n",
    "The query lives in `./src/api/sitrep/` where `.` represents the project root.\n",
    "If you run this JupyterNotebook using the local **Makefile** and `make run` then that query will be automatically copied here.\n",
    "\n",
    "So first steps should be (from _this_ directory)\n",
    "```sh\n",
    "make mock1build\n",
    "make mock2copyin\n",
    "make mock3run\n",
    "```\n",
    "then navigate to http://uclvlddpragae07:8091/lab/tree/steve/work/synth_test_data_vitals.ipynb"
   ]
  },
  {
   "cell_type": "code",
   "execution_count": 73,
   "id": "515d4a8b-0480-4a42-a751-36a1b41172a9",
   "metadata": {},
   "outputs": [],
   "source": [
    "import os\n",
    "import pandas as pd\n",
    "import numpy as np\n",
    "import requests\n",
    "\n",
    "from pathlib import Path\n",
    "import sqlalchemy as sa"
   ]
  },
  {
   "cell_type": "code",
   "execution_count": 74,
   "id": "53e7e8a4-4157-409f-8687-a589d680c7e6",
   "metadata": {},
   "outputs": [],
   "source": [
    "# Construct the PostgreSQL connection\n",
    "emap_host = os.getenv('EMAP_DB_HOST')\n",
    "emap_user = os.getenv('EMAP_DB_USER')\n",
    "emap_passwd = os.getenv('EMAP_DB_PASSWORD')\n",
    "\n",
    "emapdb_engine = sa.create_engine(f'postgresql://{emap_user}:{emap_passwd}@{emap_host}:5432/uds')"
   ]
  },
  {
   "cell_type": "code",
   "execution_count": 75,
   "id": "008cfb43-0496-43f2-a08e-f4a72c840b03",
   "metadata": {},
   "outputs": [],
   "source": [
    "# Read the sql file into a query 'q' and the query into a dataframe\n",
    "q = Path('vitals.sql').read_text()"
   ]
  },
  {
   "cell_type": "code",
   "execution_count": 76,
   "id": "e8868898-3897-425f-a971-d0ed9f0d1707",
   "metadata": {},
   "outputs": [],
   "source": [
    "df = pd.read_sql_query(sa.text(q), emapdb_engine)"
   ]
  },
  {
   "cell_type": "markdown",
   "id": "087d2f00-6458-436c-a4fd-789765c807f1",
   "metadata": {},
   "source": [
    "Now rather than using a SQL query, this time we are going to use an existing API to populate a dataframe"
   ]
  },
  {
   "cell_type": "code",
   "execution_count": 77,
   "id": "f8879d80-2c77-455e-b81b-b6ab3524a301",
   "metadata": {},
   "outputs": [
    {
     "data": {
      "text/plain": [
       "(4085, 16)"
      ]
     },
     "execution_count": 77,
     "metadata": {},
     "output_type": "execute_result"
    }
   ],
   "source": [
    "df.shape"
   ]
  },
  {
   "cell_type": "code",
   "execution_count": 78,
   "id": "588ee543-03bb-490a-a7bb-9092fc4964cb",
   "metadata": {},
   "outputs": [
    {
     "name": "stdout",
     "output_type": "stream",
     "text": [
      "<class 'pandas.core.frame.DataFrame'>\n",
      "RangeIndex: 4085 entries, 0 to 4084\n",
      "Data columns (total 16 columns):\n",
      " #   Column                Non-Null Count  Dtype              \n",
      "---  ------                --------------  -----              \n",
      " 0   visit_observation_id  4085 non-null   int64              \n",
      " 1   ob_tail_i             4085 non-null   int64              \n",
      " 2   observation_datetime  4085 non-null   datetime64[ns, UTC]\n",
      " 3   id_in_application     4085 non-null   object             \n",
      " 4   value_as_real         2137 non-null   float64            \n",
      " 5   value_as_text         1939 non-null   object             \n",
      " 6   unit                  536 non-null    object             \n",
      " 7   mrn                   4085 non-null   object             \n",
      " 8   lastname              4085 non-null   object             \n",
      " 9   firstname             4085 non-null   object             \n",
      " 10  sex                   4085 non-null   object             \n",
      " 11  date_of_birth         4085 non-null   object             \n",
      " 12  bed_admit_dt          4085 non-null   object             \n",
      " 13  dept_name             4085 non-null   object             \n",
      " 14  room_name             4085 non-null   object             \n",
      " 15  bed_hl7               4085 non-null   object             \n",
      "dtypes: datetime64[ns, UTC](1), float64(1), int64(2), object(12)\n",
      "memory usage: 510.8+ KB\n"
     ]
    }
   ],
   "source": [
    "df.info()"
   ]
  },
  {
   "cell_type": "markdown",
   "id": "8785b6f4-b2cd-4e5c-970a-d793b3c60738",
   "metadata": {},
   "source": [
    "## Generate a synthetic version of the real data\n",
    "\n",
    "Use the table above to generate the metadata you need for the synthetic data\n",
    "\n",
    "https://sdv.dev/SDV/user_guides/relational/relational_metadata.html#relational-metadata"
   ]
  },
  {
   "cell_type": "code",
   "execution_count": 79,
   "id": "6992f5ac-02f6-4fa3-94fd-992c598891aa",
   "metadata": {},
   "outputs": [],
   "source": [
    "# Minimal imports\n",
    "from sdv import Metadata, SDV\n",
    "from sdv.constraints import FixedCombinations"
   ]
  },
  {
   "cell_type": "markdown",
   "id": "00ddee5f-54ba-436e-8afa-d5ee027556ba",
   "metadata": {},
   "source": [
    "SDV does not handle timezones nicely so remove"
   ]
  },
  {
   "cell_type": "code",
   "execution_count": 80,
   "id": "14f7ced8-a783-4f42-8ba8-46c546bb8dab",
   "metadata": {},
   "outputs": [],
   "source": [
    "# PostgreSQL returns datetimes with tz info which sdv does not seem to be able to handle\n",
    "def remove_timezone(df, col_name: str) -> pd.DataFrame:\n",
    "    \"\"\"sdv does not like timezones\"\"\"\n",
    "    df[col_name] = pd.to_datetime(df[col_name], utc=True).dt.tz_localize(None)    \n",
    "    return df"
   ]
  },
  {
   "cell_type": "code",
   "execution_count": 81,
   "id": "558eeb3f-a30f-4d81-9b7d-5f5a98e6c59c",
   "metadata": {},
   "outputs": [
    {
     "name": "stdout",
     "output_type": "stream",
     "text": [
      "observation_datetime\n",
      "bed_admit_dt\n"
     ]
    }
   ],
   "source": [
    "tz_cols = ['observation_datetime', 'bed_admit_dt']\n",
    "for col in tz_cols:\n",
    "    print(col)\n",
    "    df = remove_timezone(df, col)"
   ]
  },
  {
   "cell_type": "markdown",
   "id": "349e327c-cbfe-4d2c-9b7e-809f44a36f26",
   "metadata": {},
   "source": [
    "### Define PII that must be faked and not modelled"
   ]
  },
  {
   "cell_type": "markdown",
   "id": "6ce47142-2c30-401e-8969-43fa323a875b",
   "metadata": {},
   "source": [
    "Define fields that contain PII and need faking (see the sketchy documentation [here](https://sdv.dev/SDV/developer_guides/sdv/metadata.html?highlight=pii#categorical-fields-data-anonymization) and the [Faker Documentation](https://faker.readthedocs.io/en/master/providers.html) for a full list of providers. Here is a brief example that specifies Fakers for [name](https://faker.readthedocs.io/en/master/providers/faker.providers.person.html#faker.providers.person.Provider.name) and [date of birth](https://faker.readthedocs.io/en/master/providers/faker.providers.date_time.html#faker.providers.date_time.Provider.date_of_birth). Note that you must pass arguments to a faker as a list."
   ]
  },
  {
   "cell_type": "markdown",
   "id": "d003ce5f-98ce-4f02-83f1-03ea3d2e454a",
   "metadata": {},
   "source": [
    "NB: sdv also doesn't always recognise the columns correctly. Here we specify data_of_birth explicitly as a date whilst working on the larger task of defining columns that contain PII. See [field details](https://sdv.dev/SDV/developer_guides/sdv/metadata.html#field-details)"
   ]
  },
  {
   "cell_type": "markdown",
   "id": "17091598-7447-4908-914e-bcaffc7073e1",
   "metadata": {},
   "source": [
    "Now a full specification for the Vitals data"
   ]
  },
  {
   "cell_type": "code",
   "execution_count": 82,
   "id": "82378d3c-7649-4356-94c3-37d121fcc4aa",
   "metadata": {},
   "outputs": [],
   "source": [
    "fields = {\n",
    "    'visit_observation_id' : {\n",
    "        'type': 'id',\n",
    "        'subtype': 'integer',\n",
    "    },\n",
    "    'date_of_birth': {\n",
    "        'type': 'datetime',\n",
    "        'format': '%Y-%m-%d',\n",
    "        'pii': True,\n",
    "        # the 'pii_category' key defines the Faker function name (method)\n",
    "        'pii_category': \"date_of_birth\", \n",
    "    },\n",
    "    'lastname': {\n",
    "        'type': 'categorical',\n",
    "        'pii': True,\n",
    "        'pii_category': 'last_name'\n",
    "    },\n",
    "    'firstname': {\n",
    "        'type': 'categorical',\n",
    "        'pii': True,\n",
    "        'pii_category': 'first_name'\n",
    "    },\n",
    "    'mrn': {\n",
    "        'type': 'categorical',\n",
    "        'pii': True,\n",
    "        'pii_category': ['random_number', 8 ]\n",
    "    },\n",
    "}"
   ]
  },
  {
   "cell_type": "markdown",
   "id": "b854dd82-76c6-42bb-9d53-dac79f2f8edc",
   "metadata": {},
   "source": [
    "Prepare the constraints"
   ]
  },
  {
   "cell_type": "code",
   "execution_count": 108,
   "id": "d4c0db20-1be1-4a59-97c2-74999e6faf56",
   "metadata": {},
   "outputs": [],
   "source": [
    "fixed_obs_constraint = FixedCombinations(\n",
    "    column_names=['id_in_application', 'value_as_text', 'value_as_real', 'unit'],\n",
    "    handling_strategy='reject_sampling',  # transform strategy fails ?b/c data types vary\n",
    ")"
   ]
  },
  {
   "cell_type": "markdown",
   "id": "356fe5bc-5cc2-4e55-9723-f4a03c96cda8",
   "metadata": {},
   "source": [
    "Prepare the metadata"
   ]
  },
  {
   "cell_type": "code",
   "execution_count": 109,
   "id": "38bd8e12-8e18-4bb9-9251-26fa0a9608b9",
   "metadata": {},
   "outputs": [],
   "source": [
    "metadata = Metadata()\n",
    "metadata.add_table(\n",
    "    name='tabpid',\n",
    "    data=df,\n",
    "    fields_metadata=fields,\n",
    "    primary_key = 'visit_observation_id',\n",
    "    constraints=[fixed_obs_constraint], # be patient; reject_sampling is slow\n",
    ")"
   ]
  },
  {
   "cell_type": "code",
   "execution_count": 110,
   "id": "d03cdaa8-aa2b-4d13-b932-0fb4bbf438bf",
   "metadata": {},
   "outputs": [
    {
     "data": {
      "text/plain": [
       "{'fields': {'visit_observation_id': {'type': 'id', 'subtype': 'integer'},\n",
       "  'date_of_birth': {'type': 'datetime',\n",
       "   'format': '%Y-%m-%d',\n",
       "   'pii': True,\n",
       "   'pii_category': 'date_of_birth'},\n",
       "  'lastname': {'type': 'categorical',\n",
       "   'pii': True,\n",
       "   'pii_category': 'last_name'},\n",
       "  'firstname': {'type': 'categorical',\n",
       "   'pii': True,\n",
       "   'pii_category': 'first_name'},\n",
       "  'mrn': {'type': 'categorical',\n",
       "   'pii': True,\n",
       "   'pii_category': ['random_number', 8]},\n",
       "  'ob_tail_i': {'type': 'numerical', 'subtype': 'integer'},\n",
       "  'observation_datetime': {'type': 'datetime'},\n",
       "  'id_in_application': {'type': 'categorical'},\n",
       "  'value_as_real': {'type': 'numerical', 'subtype': 'float'},\n",
       "  'value_as_text': {'type': 'categorical'},\n",
       "  'unit': {'type': 'categorical'},\n",
       "  'sex': {'type': 'categorical'},\n",
       "  'bed_admit_dt': {'type': 'datetime'},\n",
       "  'dept_name': {'type': 'categorical'},\n",
       "  'room_name': {'type': 'categorical'},\n",
       "  'bed_hl7': {'type': 'categorical'}},\n",
       " 'constraints': [{'constraint': 'sdv.constraints.tabular.FixedCombinations',\n",
       "   'column_names': ['id_in_application',\n",
       "    'value_as_text',\n",
       "    'value_as_real',\n",
       "    'unit'],\n",
       "   'handling_strategy': 'reject_sampling'}],\n",
       " 'primary_key': 'visit_observation_id'}"
      ]
     },
     "execution_count": 110,
     "metadata": {},
     "output_type": "execute_result"
    }
   ],
   "source": [
    "# Inspect the conversion that metadata.add_table did to the dataframe that you loaded\n",
    "metadata.get_table_meta('tabpid')"
   ]
  },
  {
   "cell_type": "markdown",
   "id": "6c80c8ca-5407-47e4-8b41-3f35a2ee627f",
   "metadata": {},
   "source": [
    "Prepare the table(s)"
   ]
  },
  {
   "cell_type": "code",
   "execution_count": 111,
   "id": "dc43f428-e404-4bc4-a160-7cf477500633",
   "metadata": {},
   "outputs": [],
   "source": [
    "tables = dict(tabpid=df)"
   ]
  },
  {
   "cell_type": "markdown",
   "id": "4f2d5f72-6b34-46dc-b9fe-01a4cb7f6730",
   "metadata": {},
   "source": [
    "Fit the model"
   ]
  },
  {
   "cell_type": "code",
   "execution_count": 112,
   "id": "001192a9-71b0-420c-a219-907a50e6469b",
   "metadata": {},
   "outputs": [],
   "source": [
    "sdv = SDV()\n",
    "sdv.fit(metadata, tables)"
   ]
  },
  {
   "cell_type": "code",
   "execution_count": 113,
   "id": "ef9dfc98-907f-48d7-87cf-7651002ce013",
   "metadata": {},
   "outputs": [],
   "source": [
    "dfs = sdv.sample_all()['tabpid']"
   ]
  },
  {
   "cell_type": "code",
   "execution_count": 114,
   "id": "157a1f37-3bd1-424e-9bf5-ebe2ea837ce4",
   "metadata": {},
   "outputs": [
    {
     "data": {
      "text/html": [
       "<div>\n",
       "<style scoped>\n",
       "    .dataframe tbody tr th:only-of-type {\n",
       "        vertical-align: middle;\n",
       "    }\n",
       "\n",
       "    .dataframe tbody tr th {\n",
       "        vertical-align: top;\n",
       "    }\n",
       "\n",
       "    .dataframe thead th {\n",
       "        text-align: right;\n",
       "    }\n",
       "</style>\n",
       "<table border=\"1\" class=\"dataframe\">\n",
       "  <thead>\n",
       "    <tr style=\"text-align: right;\">\n",
       "      <th></th>\n",
       "      <th>visit_observation_id</th>\n",
       "      <th>date_of_birth</th>\n",
       "      <th>lastname</th>\n",
       "      <th>firstname</th>\n",
       "      <th>mrn</th>\n",
       "      <th>ob_tail_i</th>\n",
       "      <th>observation_datetime</th>\n",
       "      <th>id_in_application</th>\n",
       "      <th>value_as_real</th>\n",
       "      <th>value_as_text</th>\n",
       "      <th>unit</th>\n",
       "      <th>sex</th>\n",
       "      <th>bed_admit_dt</th>\n",
       "      <th>dept_name</th>\n",
       "      <th>room_name</th>\n",
       "      <th>bed_hl7</th>\n",
       "    </tr>\n",
       "  </thead>\n",
       "  <tbody>\n",
       "    <tr>\n",
       "      <th>0</th>\n",
       "      <td>0</td>\n",
       "      <td>1965-03-08</td>\n",
       "      <td>Carroll</td>\n",
       "      <td>Kelsey</td>\n",
       "      <td>26856213</td>\n",
       "      <td>1</td>\n",
       "      <td>2022-06-26 09:30:13</td>\n",
       "      <td>6466</td>\n",
       "      <td>NaN</td>\n",
       "      <td>A</td>\n",
       "      <td>NaN</td>\n",
       "      <td>M</td>\n",
       "      <td>2022-07-07 07:51:59</td>\n",
       "      <td>UCH T03 INTENSIVE CARE</td>\n",
       "      <td>BY05</td>\n",
       "      <td>BY01-05</td>\n",
       "    </tr>\n",
       "    <tr>\n",
       "      <th>1</th>\n",
       "      <td>1</td>\n",
       "      <td>1984-01-27</td>\n",
       "      <td>Jacobson</td>\n",
       "      <td>Jonathan</td>\n",
       "      <td>38519026</td>\n",
       "      <td>1</td>\n",
       "      <td>2022-06-26 09:06:04</td>\n",
       "      <td>6466</td>\n",
       "      <td>NaN</td>\n",
       "      <td>A</td>\n",
       "      <td>NaN</td>\n",
       "      <td>F</td>\n",
       "      <td>2022-07-04 15:46:07</td>\n",
       "      <td>UCH T12 SOUTH (T12S)</td>\n",
       "      <td>BY13</td>\n",
       "      <td>BY10-47</td>\n",
       "    </tr>\n",
       "    <tr>\n",
       "      <th>2</th>\n",
       "      <td>2</td>\n",
       "      <td>1915-09-07</td>\n",
       "      <td>Jordan</td>\n",
       "      <td>Rebecca</td>\n",
       "      <td>12042535</td>\n",
       "      <td>1</td>\n",
       "      <td>2022-06-26 08:20:30</td>\n",
       "      <td>8</td>\n",
       "      <td>67.0</td>\n",
       "      <td>NaN</td>\n",
       "      <td>NaN</td>\n",
       "      <td>M</td>\n",
       "      <td>2022-07-08 18:38:10</td>\n",
       "      <td>UCH T16 NORTH (T16N)</td>\n",
       "      <td>BY01</td>\n",
       "      <td>BY09-45</td>\n",
       "    </tr>\n",
       "    <tr>\n",
       "      <th>3</th>\n",
       "      <td>3</td>\n",
       "      <td>1915-08-06</td>\n",
       "      <td>Taylor</td>\n",
       "      <td>Jonathan</td>\n",
       "      <td>5592674</td>\n",
       "      <td>1</td>\n",
       "      <td>2022-06-26 09:23:29</td>\n",
       "      <td>28315</td>\n",
       "      <td>NaN</td>\n",
       "      <td>NaN</td>\n",
       "      <td>NaN</td>\n",
       "      <td>M</td>\n",
       "      <td>2022-06-28 15:04:20</td>\n",
       "      <td>UCH P02 ENDOSCOPY</td>\n",
       "      <td>POOL ROOM</td>\n",
       "      <td>BY11-55</td>\n",
       "    </tr>\n",
       "    <tr>\n",
       "      <th>4</th>\n",
       "      <td>4</td>\n",
       "      <td>1942-09-02</td>\n",
       "      <td>Duncan</td>\n",
       "      <td>Matthew</td>\n",
       "      <td>7517646</td>\n",
       "      <td>1</td>\n",
       "      <td>2022-06-26 08:19:44</td>\n",
       "      <td>6466</td>\n",
       "      <td>NaN</td>\n",
       "      <td>A</td>\n",
       "      <td>NaN</td>\n",
       "      <td>F</td>\n",
       "      <td>2022-06-10 09:29:38</td>\n",
       "      <td>UCH T10 NORTH (T10N)</td>\n",
       "      <td>MAJ-CHAIR</td>\n",
       "      <td>SR32-32</td>\n",
       "    </tr>\n",
       "    <tr>\n",
       "      <th>5</th>\n",
       "      <td>5</td>\n",
       "      <td>1989-02-21</td>\n",
       "      <td>Lyons</td>\n",
       "      <td>Michael</td>\n",
       "      <td>10532857</td>\n",
       "      <td>1</td>\n",
       "      <td>2022-06-26 09:53:25</td>\n",
       "      <td>6466</td>\n",
       "      <td>NaN</td>\n",
       "      <td>A</td>\n",
       "      <td>NaN</td>\n",
       "      <td>M</td>\n",
       "      <td>2022-06-24 22:04:02</td>\n",
       "      <td>UCH T03 INTENSIVE CARE</td>\n",
       "      <td>SR03</td>\n",
       "      <td>BY02-05</td>\n",
       "    </tr>\n",
       "  </tbody>\n",
       "</table>\n",
       "</div>"
      ],
      "text/plain": [
       "   visit_observation_id date_of_birth  lastname firstname       mrn  \\\n",
       "0                     0    1965-03-08   Carroll    Kelsey  26856213   \n",
       "1                     1    1984-01-27  Jacobson  Jonathan  38519026   \n",
       "2                     2    1915-09-07    Jordan   Rebecca  12042535   \n",
       "3                     3    1915-08-06    Taylor  Jonathan   5592674   \n",
       "4                     4    1942-09-02    Duncan   Matthew   7517646   \n",
       "5                     5    1989-02-21     Lyons   Michael  10532857   \n",
       "\n",
       "   ob_tail_i observation_datetime id_in_application  value_as_real  \\\n",
       "0          1  2022-06-26 09:30:13              6466            NaN   \n",
       "1          1  2022-06-26 09:06:04              6466            NaN   \n",
       "2          1  2022-06-26 08:20:30                 8           67.0   \n",
       "3          1  2022-06-26 09:23:29             28315            NaN   \n",
       "4          1  2022-06-26 08:19:44              6466            NaN   \n",
       "5          1  2022-06-26 09:53:25              6466            NaN   \n",
       "\n",
       "  value_as_text unit sex        bed_admit_dt               dept_name  \\\n",
       "0             A  NaN   M 2022-07-07 07:51:59  UCH T03 INTENSIVE CARE   \n",
       "1             A  NaN   F 2022-07-04 15:46:07    UCH T12 SOUTH (T12S)   \n",
       "2           NaN  NaN   M 2022-07-08 18:38:10    UCH T16 NORTH (T16N)   \n",
       "3           NaN  NaN   M 2022-06-28 15:04:20       UCH P02 ENDOSCOPY   \n",
       "4             A  NaN   F 2022-06-10 09:29:38    UCH T10 NORTH (T10N)   \n",
       "5             A  NaN   M 2022-06-24 22:04:02  UCH T03 INTENSIVE CARE   \n",
       "\n",
       "   room_name  bed_hl7  \n",
       "0       BY05  BY01-05  \n",
       "1       BY13  BY10-47  \n",
       "2       BY01  BY09-45  \n",
       "3  POOL ROOM  BY11-55  \n",
       "4  MAJ-CHAIR  SR32-32  \n",
       "5       SR03  BY02-05  "
      ]
     },
     "execution_count": 114,
     "metadata": {},
     "output_type": "execute_result"
    }
   ],
   "source": [
    "dfs.loc[:5]"
   ]
  },
  {
   "cell_type": "code",
   "execution_count": 115,
   "id": "8b47a05b-bc03-48db-95a1-cf97d457bc7c",
   "metadata": {},
   "outputs": [
    {
     "data": {
      "text/plain": [
       "10              57\n",
       "28315          396\n",
       "28316           66\n",
       "3040109304     806\n",
       "5              406\n",
       "6              319\n",
       "6466          1480\n",
       "8              333\n",
       "9              222\n",
       "Name: id_in_application, dtype: int64"
      ]
     },
     "execution_count": 115,
     "metadata": {},
     "output_type": "execute_result"
    }
   ],
   "source": [
    "dfs['id_in_application'].value_counts().sort_index()"
   ]
  },
  {
   "cell_type": "markdown",
   "id": "aa4071f4-cbff-4fe1-ad29-9747d751cc1a",
   "metadata": {},
   "source": [
    "Inspect the original data"
   ]
  },
  {
   "cell_type": "code",
   "execution_count": 116,
   "id": "d30f0e56-4298-4128-a085-04e4c555b5b0",
   "metadata": {},
   "outputs": [
    {
     "data": {
      "text/plain": [
       "10            536\n",
       "28315         424\n",
       "28316          28\n",
       "3040109304    498\n",
       "5             481\n",
       "6             541\n",
       "6466          513\n",
       "8             534\n",
       "9             530\n",
       "Name: id_in_application, dtype: int64"
      ]
     },
     "execution_count": 116,
     "metadata": {},
     "output_type": "execute_result"
    }
   ],
   "source": [
    "df['id_in_application'].value_counts().sort_index()"
   ]
  },
  {
   "cell_type": "code",
   "execution_count": 117,
   "id": "68458bec-cad1-40ca-86c5-ade138b7e28f",
   "metadata": {},
   "outputs": [],
   "source": [
    "# df.head()"
   ]
  },
  {
   "cell_type": "markdown",
   "id": "8614d48b-a339-45d4-b072-0651270f6a02",
   "metadata": {},
   "source": [
    "Inspect the synthetic data"
   ]
  },
  {
   "cell_type": "markdown",
   "id": "7ae36c29-6856-4bc5-a7e5-539e72f7a02c",
   "metadata": {},
   "source": [
    "Finally transform admission_age_years to match the fake DoB"
   ]
  },
  {
   "cell_type": "markdown",
   "id": "375226dd-4acc-434f-b9f4-6ac334990a04",
   "metadata": {},
   "source": [
    "### Save the synthetic data\n",
    "\n",
    "Options\n",
    "- save the model and not the synthetic data (but then you need *sdv* to run the model)\n",
    "- save the data (need some care with type conversions if you use csv etc.)"
   ]
  },
  {
   "cell_type": "code",
   "execution_count": 118,
   "id": "7a5043a3-4cb9-4445-beb0-8fe6d3fa3360",
   "metadata": {},
   "outputs": [],
   "source": [
    "model.save('mock_vitals.pkl')"
   ]
  },
  {
   "cell_type": "code",
   "execution_count": 119,
   "id": "c1be99b9-b79d-4a1f-b1cb-dd7b89d0e369",
   "metadata": {},
   "outputs": [
    {
     "name": "stderr",
     "output_type": "stream",
     "text": [
      "/tmp/ipykernel_291/1530517875.py:1: PerformanceWarning: \n",
      "your performance may suffer as PyTables will pickle object types that it cannot\n",
      "map directly to c-types [inferred_type->mixed-integer,key->block2_values] [items->Index(['lastname', 'firstname', 'mrn', 'id_in_application', 'value_as_text',\n",
      "       'unit', 'sex', 'dept_name', 'room_name', 'bed_hl7'],\n",
      "      dtype='object')]\n",
      "\n",
      "  dfs.to_hdf('mock_vitals.h5', 'data')\n"
     ]
    }
   ],
   "source": [
    "dfs.to_hdf('mock_vitals.h5', 'data')"
   ]
  },
  {
   "cell_type": "code",
   "execution_count": 120,
   "id": "802c5fa7-93ac-4a18-b7fb-b7fa10f0190b",
   "metadata": {},
   "outputs": [
    {
     "data": {
      "text/html": [
       "<div>\n",
       "<style scoped>\n",
       "    .dataframe tbody tr th:only-of-type {\n",
       "        vertical-align: middle;\n",
       "    }\n",
       "\n",
       "    .dataframe tbody tr th {\n",
       "        vertical-align: top;\n",
       "    }\n",
       "\n",
       "    .dataframe thead th {\n",
       "        text-align: right;\n",
       "    }\n",
       "</style>\n",
       "<table border=\"1\" class=\"dataframe\">\n",
       "  <thead>\n",
       "    <tr style=\"text-align: right;\">\n",
       "      <th></th>\n",
       "      <th>visit_observation_id</th>\n",
       "      <th>date_of_birth</th>\n",
       "      <th>lastname</th>\n",
       "      <th>firstname</th>\n",
       "      <th>mrn</th>\n",
       "      <th>ob_tail_i</th>\n",
       "      <th>observation_datetime</th>\n",
       "      <th>id_in_application</th>\n",
       "      <th>value_as_real</th>\n",
       "      <th>value_as_text</th>\n",
       "      <th>unit</th>\n",
       "      <th>sex</th>\n",
       "      <th>bed_admit_dt</th>\n",
       "      <th>dept_name</th>\n",
       "      <th>room_name</th>\n",
       "      <th>bed_hl7</th>\n",
       "    </tr>\n",
       "  </thead>\n",
       "  <tbody>\n",
       "    <tr>\n",
       "      <th>0</th>\n",
       "      <td>0</td>\n",
       "      <td>1965-03-08</td>\n",
       "      <td>Carroll</td>\n",
       "      <td>Kelsey</td>\n",
       "      <td>26856213</td>\n",
       "      <td>1</td>\n",
       "      <td>2022-06-26 09:30:13</td>\n",
       "      <td>6466</td>\n",
       "      <td>NaN</td>\n",
       "      <td>A</td>\n",
       "      <td>NaN</td>\n",
       "      <td>M</td>\n",
       "      <td>2022-07-07 07:51:59</td>\n",
       "      <td>UCH T03 INTENSIVE CARE</td>\n",
       "      <td>BY05</td>\n",
       "      <td>BY01-05</td>\n",
       "    </tr>\n",
       "    <tr>\n",
       "      <th>1</th>\n",
       "      <td>1</td>\n",
       "      <td>1984-01-27</td>\n",
       "      <td>Jacobson</td>\n",
       "      <td>Jonathan</td>\n",
       "      <td>38519026</td>\n",
       "      <td>1</td>\n",
       "      <td>2022-06-26 09:06:04</td>\n",
       "      <td>6466</td>\n",
       "      <td>NaN</td>\n",
       "      <td>A</td>\n",
       "      <td>NaN</td>\n",
       "      <td>F</td>\n",
       "      <td>2022-07-04 15:46:07</td>\n",
       "      <td>UCH T12 SOUTH (T12S)</td>\n",
       "      <td>BY13</td>\n",
       "      <td>BY10-47</td>\n",
       "    </tr>\n",
       "    <tr>\n",
       "      <th>2</th>\n",
       "      <td>2</td>\n",
       "      <td>1915-09-07</td>\n",
       "      <td>Jordan</td>\n",
       "      <td>Rebecca</td>\n",
       "      <td>12042535</td>\n",
       "      <td>1</td>\n",
       "      <td>2022-06-26 08:20:30</td>\n",
       "      <td>8</td>\n",
       "      <td>67.0</td>\n",
       "      <td>NaN</td>\n",
       "      <td>NaN</td>\n",
       "      <td>M</td>\n",
       "      <td>2022-07-08 18:38:10</td>\n",
       "      <td>UCH T16 NORTH (T16N)</td>\n",
       "      <td>BY01</td>\n",
       "      <td>BY09-45</td>\n",
       "    </tr>\n",
       "    <tr>\n",
       "      <th>3</th>\n",
       "      <td>3</td>\n",
       "      <td>1915-08-06</td>\n",
       "      <td>Taylor</td>\n",
       "      <td>Jonathan</td>\n",
       "      <td>5592674</td>\n",
       "      <td>1</td>\n",
       "      <td>2022-06-26 09:23:29</td>\n",
       "      <td>28315</td>\n",
       "      <td>NaN</td>\n",
       "      <td>NaN</td>\n",
       "      <td>NaN</td>\n",
       "      <td>M</td>\n",
       "      <td>2022-06-28 15:04:20</td>\n",
       "      <td>UCH P02 ENDOSCOPY</td>\n",
       "      <td>POOL ROOM</td>\n",
       "      <td>BY11-55</td>\n",
       "    </tr>\n",
       "    <tr>\n",
       "      <th>4</th>\n",
       "      <td>4</td>\n",
       "      <td>1942-09-02</td>\n",
       "      <td>Duncan</td>\n",
       "      <td>Matthew</td>\n",
       "      <td>7517646</td>\n",
       "      <td>1</td>\n",
       "      <td>2022-06-26 08:19:44</td>\n",
       "      <td>6466</td>\n",
       "      <td>NaN</td>\n",
       "      <td>A</td>\n",
       "      <td>NaN</td>\n",
       "      <td>F</td>\n",
       "      <td>2022-06-10 09:29:38</td>\n",
       "      <td>UCH T10 NORTH (T10N)</td>\n",
       "      <td>MAJ-CHAIR</td>\n",
       "      <td>SR32-32</td>\n",
       "    </tr>\n",
       "    <tr>\n",
       "      <th>...</th>\n",
       "      <td>...</td>\n",
       "      <td>...</td>\n",
       "      <td>...</td>\n",
       "      <td>...</td>\n",
       "      <td>...</td>\n",
       "      <td>...</td>\n",
       "      <td>...</td>\n",
       "      <td>...</td>\n",
       "      <td>...</td>\n",
       "      <td>...</td>\n",
       "      <td>...</td>\n",
       "      <td>...</td>\n",
       "      <td>...</td>\n",
       "      <td>...</td>\n",
       "      <td>...</td>\n",
       "      <td>...</td>\n",
       "    </tr>\n",
       "    <tr>\n",
       "      <th>4080</th>\n",
       "      <td>4080</td>\n",
       "      <td>2018-06-05</td>\n",
       "      <td>Drake</td>\n",
       "      <td>Kathleen</td>\n",
       "      <td>70624460</td>\n",
       "      <td>1</td>\n",
       "      <td>2022-06-26 07:49:30</td>\n",
       "      <td>3040109304</td>\n",
       "      <td>NaN</td>\n",
       "      <td>Room air</td>\n",
       "      <td>NaN</td>\n",
       "      <td>M</td>\n",
       "      <td>2022-06-07 07:11:49</td>\n",
       "      <td>UCH T01 ACUTE MEDICAL</td>\n",
       "      <td>BY11</td>\n",
       "      <td>BY04-24G</td>\n",
       "    </tr>\n",
       "    <tr>\n",
       "      <th>4081</th>\n",
       "      <td>4081</td>\n",
       "      <td>1923-10-25</td>\n",
       "      <td>Hoffman</td>\n",
       "      <td>Jacqueline</td>\n",
       "      <td>72676299</td>\n",
       "      <td>1</td>\n",
       "      <td>2022-06-26 08:38:40</td>\n",
       "      <td>8</td>\n",
       "      <td>NaN</td>\n",
       "      <td>NaN</td>\n",
       "      <td>NaN</td>\n",
       "      <td>M</td>\n",
       "      <td>2022-07-14 01:09:04</td>\n",
       "      <td>UCH EMERGENCY DEPT</td>\n",
       "      <td>SR08</td>\n",
       "      <td>BY02-05</td>\n",
       "    </tr>\n",
       "    <tr>\n",
       "      <th>4082</th>\n",
       "      <td>4082</td>\n",
       "      <td>1939-11-04</td>\n",
       "      <td>Watts</td>\n",
       "      <td>Nathan</td>\n",
       "      <td>42941843</td>\n",
       "      <td>1</td>\n",
       "      <td>2022-06-26 08:53:26</td>\n",
       "      <td>28315</td>\n",
       "      <td>NaN</td>\n",
       "      <td>1</td>\n",
       "      <td>NaN</td>\n",
       "      <td>M</td>\n",
       "      <td>2022-05-23 06:48:29</td>\n",
       "      <td>UCH T16 SOUTH WINTER</td>\n",
       "      <td>BY08</td>\n",
       "      <td>BY12-59</td>\n",
       "    </tr>\n",
       "    <tr>\n",
       "      <th>4083</th>\n",
       "      <td>4083</td>\n",
       "      <td>1957-05-28</td>\n",
       "      <td>Luna</td>\n",
       "      <td>Katrina</td>\n",
       "      <td>98808371</td>\n",
       "      <td>1</td>\n",
       "      <td>2022-06-26 08:12:53</td>\n",
       "      <td>9</td>\n",
       "      <td>27.0</td>\n",
       "      <td>NaN</td>\n",
       "      <td>NaN</td>\n",
       "      <td>M</td>\n",
       "      <td>2022-06-06 19:12:13</td>\n",
       "      <td>UCH T03 INTENSIVE CARE</td>\n",
       "      <td>POOL ROOM</td>\n",
       "      <td>WAIT</td>\n",
       "    </tr>\n",
       "    <tr>\n",
       "      <th>4084</th>\n",
       "      <td>4084</td>\n",
       "      <td>2019-11-06</td>\n",
       "      <td>Neal</td>\n",
       "      <td>Henry</td>\n",
       "      <td>21099968</td>\n",
       "      <td>1</td>\n",
       "      <td>2022-06-26 10:06:27</td>\n",
       "      <td>5</td>\n",
       "      <td>NaN</td>\n",
       "      <td>98/60</td>\n",
       "      <td>NaN</td>\n",
       "      <td>M</td>\n",
       "      <td>2022-05-28 06:19:03</td>\n",
       "      <td>UCH T10 SOUTH (T10S)</td>\n",
       "      <td>BY08</td>\n",
       "      <td>10 SDEC</td>\n",
       "    </tr>\n",
       "  </tbody>\n",
       "</table>\n",
       "<p>4085 rows × 16 columns</p>\n",
       "</div>"
      ],
      "text/plain": [
       "      visit_observation_id date_of_birth  lastname   firstname       mrn  \\\n",
       "0                        0    1965-03-08   Carroll      Kelsey  26856213   \n",
       "1                        1    1984-01-27  Jacobson    Jonathan  38519026   \n",
       "2                        2    1915-09-07    Jordan     Rebecca  12042535   \n",
       "3                        3    1915-08-06    Taylor    Jonathan   5592674   \n",
       "4                        4    1942-09-02    Duncan     Matthew   7517646   \n",
       "...                    ...           ...       ...         ...       ...   \n",
       "4080                  4080    2018-06-05     Drake    Kathleen  70624460   \n",
       "4081                  4081    1923-10-25   Hoffman  Jacqueline  72676299   \n",
       "4082                  4082    1939-11-04     Watts      Nathan  42941843   \n",
       "4083                  4083    1957-05-28      Luna     Katrina  98808371   \n",
       "4084                  4084    2019-11-06      Neal       Henry  21099968   \n",
       "\n",
       "      ob_tail_i observation_datetime id_in_application  value_as_real  \\\n",
       "0             1  2022-06-26 09:30:13              6466            NaN   \n",
       "1             1  2022-06-26 09:06:04              6466            NaN   \n",
       "2             1  2022-06-26 08:20:30                 8           67.0   \n",
       "3             1  2022-06-26 09:23:29             28315            NaN   \n",
       "4             1  2022-06-26 08:19:44              6466            NaN   \n",
       "...         ...                  ...               ...            ...   \n",
       "4080          1  2022-06-26 07:49:30        3040109304            NaN   \n",
       "4081          1  2022-06-26 08:38:40                 8            NaN   \n",
       "4082          1  2022-06-26 08:53:26             28315            NaN   \n",
       "4083          1  2022-06-26 08:12:53                 9           27.0   \n",
       "4084          1  2022-06-26 10:06:27                 5            NaN   \n",
       "\n",
       "     value_as_text unit sex        bed_admit_dt               dept_name  \\\n",
       "0                A  NaN   M 2022-07-07 07:51:59  UCH T03 INTENSIVE CARE   \n",
       "1                A  NaN   F 2022-07-04 15:46:07    UCH T12 SOUTH (T12S)   \n",
       "2              NaN  NaN   M 2022-07-08 18:38:10    UCH T16 NORTH (T16N)   \n",
       "3              NaN  NaN   M 2022-06-28 15:04:20       UCH P02 ENDOSCOPY   \n",
       "4                A  NaN   F 2022-06-10 09:29:38    UCH T10 NORTH (T10N)   \n",
       "...            ...  ...  ..                 ...                     ...   \n",
       "4080      Room air  NaN   M 2022-06-07 07:11:49   UCH T01 ACUTE MEDICAL   \n",
       "4081           NaN  NaN   M 2022-07-14 01:09:04      UCH EMERGENCY DEPT   \n",
       "4082             1  NaN   M 2022-05-23 06:48:29    UCH T16 SOUTH WINTER   \n",
       "4083           NaN  NaN   M 2022-06-06 19:12:13  UCH T03 INTENSIVE CARE   \n",
       "4084         98/60  NaN   M 2022-05-28 06:19:03    UCH T10 SOUTH (T10S)   \n",
       "\n",
       "      room_name   bed_hl7  \n",
       "0          BY05   BY01-05  \n",
       "1          BY13   BY10-47  \n",
       "2          BY01   BY09-45  \n",
       "3     POOL ROOM   BY11-55  \n",
       "4     MAJ-CHAIR   SR32-32  \n",
       "...         ...       ...  \n",
       "4080       BY11  BY04-24G  \n",
       "4081       SR08   BY02-05  \n",
       "4082       BY08   BY12-59  \n",
       "4083  POOL ROOM      WAIT  \n",
       "4084       BY08   10 SDEC  \n",
       "\n",
       "[4085 rows x 16 columns]"
      ]
     },
     "execution_count": 120,
     "metadata": {},
     "output_type": "execute_result"
    }
   ],
   "source": [
    "pd.read_hdf('mock_vitals.h5', 'data')"
   ]
  },
  {
   "cell_type": "code",
   "execution_count": null,
   "id": "1d27c85f-d9d8-49e2-89bf-c5b2ccfcd2c5",
   "metadata": {},
   "outputs": [],
   "source": []
  },
  {
   "cell_type": "code",
   "execution_count": null,
   "id": "95784907-c013-48e3-9deb-a96380a74a6e",
   "metadata": {},
   "outputs": [],
   "source": []
  }
 ],
 "metadata": {
  "kernelspec": {
   "display_name": "Python 3 (ipykernel)",
   "language": "python",
   "name": "python3"
  },
  "language_info": {
   "codemirror_mode": {
    "name": "ipython",
    "version": 3
   },
   "file_extension": ".py",
   "mimetype": "text/x-python",
   "name": "python",
   "nbconvert_exporter": "python",
   "pygments_lexer": "ipython3",
   "version": "3.9.9"
  }
 },
 "nbformat": 4,
 "nbformat_minor": 5
}
