{
 "cells": [
  {
   "cell_type": "markdown",
   "id": "96687d16-17db-47f6-8cd7-41444a6d00b4",
   "metadata": {},
   "source": [
    "# Prepare synthetic data (Vitals)\n",
    "It is going to be much easier to develop if you have realistic synthetic data.\n",
    "Here we take a sql query that generates a single tabular output.\n",
    "We run that query against the live identifiable data once.\n",
    "We then use the [Synthetic Data Vault](https://sdv.dev/SDV/index.html) to prepare a synthetic model of those data.\n",
    "The code below serves as a vignette for that process but will need adjusting to match the exact contents of the original query.\n",
    "\n",
    "More complex examples that include multiple tables with joins and dependencies are also possible.\n",
    "\n",
    "This notebook should be run interactively just once"
   ]
  },
  {
   "cell_type": "markdown",
   "id": "b8eb5db6-f3cb-4640-a668-cebb21d0e7e1",
   "metadata": {},
   "source": [
    "## Set-up, query and return the data as datafame\n",
    "The query lives in `./src/api/sitrep/` where `.` represents the project root.\n",
    "If you run this JupyterNotebook using the local **Makefile** and `make run` then that query will be automatically copied here.\n",
    "\n",
    "So first steps should be (from _this_ directory)\n",
    "```sh\n",
    "make mock1build\n",
    "make mock2copyin\n",
    "make mock3run\n",
    "```\n",
    "then navigate to http://uclvlddpragae07:8091/lab/tree/steve/work/synth_test_data_vitals.ipynb"
   ]
  },
  {
   "cell_type": "code",
   "execution_count": 121,
   "id": "515d4a8b-0480-4a42-a751-36a1b41172a9",
   "metadata": {},
   "outputs": [],
   "source": [
    "import os\n",
    "import pandas as pd\n",
    "import numpy as np\n",
    "import requests\n",
    "\n",
    "from pathlib import Path\n",
    "import sqlalchemy as sa"
   ]
  },
  {
   "cell_type": "code",
   "execution_count": 122,
   "id": "53e7e8a4-4157-409f-8687-a589d680c7e6",
   "metadata": {},
   "outputs": [],
   "source": [
    "# Construct the PostgreSQL connection\n",
    "emap_host = os.getenv('EMAP_DB_HOST')\n",
    "emap_user = os.getenv('EMAP_DB_USER')\n",
    "emap_passwd = os.getenv('EMAP_DB_PASSWORD')\n",
    "\n",
    "emapdb_engine = sa.create_engine(f'postgresql://{emap_user}:{emap_passwd}@{emap_host}:5432/uds')"
   ]
  },
  {
   "cell_type": "code",
   "execution_count": 123,
   "id": "008cfb43-0496-43f2-a08e-f4a72c840b03",
   "metadata": {},
   "outputs": [],
   "source": [
    "# Read the sql file into a query 'q' and the query into a dataframe\n",
    "q = Path('vitals.sql').read_text()"
   ]
  },
  {
   "cell_type": "code",
   "execution_count": 124,
   "id": "e8868898-3897-425f-a971-d0ed9f0d1707",
   "metadata": {},
   "outputs": [],
   "source": [
    "df = pd.read_sql_query(sa.text(q), emapdb_engine)"
   ]
  },
  {
   "cell_type": "markdown",
   "id": "087d2f00-6458-436c-a4fd-789765c807f1",
   "metadata": {},
   "source": [
    "Now rather than using a SQL query, this time we are going to use an existing API to populate a dataframe"
   ]
  },
  {
   "cell_type": "code",
   "execution_count": 125,
   "id": "f8879d80-2c77-455e-b81b-b6ab3524a301",
   "metadata": {},
   "outputs": [
    {
     "data": {
      "text/plain": [
       "(4166, 17)"
      ]
     },
     "execution_count": 125,
     "metadata": {},
     "output_type": "execute_result"
    }
   ],
   "source": [
    "df.shape"
   ]
  },
  {
   "cell_type": "code",
   "execution_count": 126,
   "id": "588ee543-03bb-490a-a7bb-9092fc4964cb",
   "metadata": {},
   "outputs": [
    {
     "name": "stdout",
     "output_type": "stream",
     "text": [
      "<class 'pandas.core.frame.DataFrame'>\n",
      "RangeIndex: 4166 entries, 0 to 4165\n",
      "Data columns (total 17 columns):\n",
      " #   Column                  Non-Null Count  Dtype              \n",
      "---  ------                  --------------  -----              \n",
      " 0   visit_observation_id    4166 non-null   int64              \n",
      " 1   ob_tail_i               4166 non-null   int64              \n",
      " 2   observation_datetime    4166 non-null   datetime64[ns, UTC]\n",
      " 3   id_in_application       4166 non-null   object             \n",
      " 4   value_as_real           2174 non-null   float64            \n",
      " 5   value_as_text           1981 non-null   object             \n",
      " 6   unit                    546 non-null    object             \n",
      " 7   mrn                     4166 non-null   object             \n",
      " 8   lastname                4166 non-null   object             \n",
      " 9   firstname               4166 non-null   object             \n",
      " 10  sex                     4166 non-null   object             \n",
      " 11  date_of_birth           4166 non-null   object             \n",
      " 12  bed_admit_dt            4166 non-null   object             \n",
      " 13  dept_name               4166 non-null   object             \n",
      " 14  room_name               4166 non-null   object             \n",
      " 15  bed_hl7                 4166 non-null   object             \n",
      " 16  perrt_consult_datetime  803 non-null    datetime64[ns, UTC]\n",
      "dtypes: datetime64[ns, UTC](2), float64(1), int64(2), object(12)\n",
      "memory usage: 553.4+ KB\n"
     ]
    }
   ],
   "source": [
    "df.info()"
   ]
  },
  {
   "cell_type": "markdown",
   "id": "8785b6f4-b2cd-4e5c-970a-d793b3c60738",
   "metadata": {},
   "source": [
    "## Generate a synthetic version of the real data\n",
    "\n",
    "Use the table above to generate the metadata you need for the synthetic data\n",
    "\n",
    "https://sdv.dev/SDV/user_guides/relational/relational_metadata.html#relational-metadata"
   ]
  },
  {
   "cell_type": "code",
   "execution_count": 127,
   "id": "6992f5ac-02f6-4fa3-94fd-992c598891aa",
   "metadata": {},
   "outputs": [],
   "source": [
    "# Minimal imports\n",
    "from sdv import Metadata, SDV\n",
    "from sdv.constraints import FixedCombinations"
   ]
  },
  {
   "cell_type": "markdown",
   "id": "00ddee5f-54ba-436e-8afa-d5ee027556ba",
   "metadata": {},
   "source": [
    "SDV does not handle timezones nicely so remove"
   ]
  },
  {
   "cell_type": "code",
   "execution_count": 80,
   "id": "14f7ced8-a783-4f42-8ba8-46c546bb8dab",
   "metadata": {},
   "outputs": [],
   "source": [
    "# PostgreSQL returns datetimes with tz info which sdv does not seem to be able to handle\n",
    "def remove_timezone(df, col_name: str) -> pd.DataFrame:\n",
    "    \"\"\"sdv does not like timezones\"\"\"\n",
    "    df[col_name] = pd.to_datetime(df[col_name], utc=True).dt.tz_localize(None)    \n",
    "    return df"
   ]
  },
  {
   "cell_type": "code",
   "execution_count": 128,
   "id": "558eeb3f-a30f-4d81-9b7d-5f5a98e6c59c",
   "metadata": {},
   "outputs": [
    {
     "name": "stdout",
     "output_type": "stream",
     "text": [
      "observation_datetime\n",
      "bed_admit_dt\n",
      "perrt_consult_datetime\n"
     ]
    }
   ],
   "source": [
    "tz_cols = ['observation_datetime', 'bed_admit_dt', 'perrt_consult_datetime']\n",
    "for col in tz_cols:\n",
    "    print(col)\n",
    "    df = remove_timezone(df, col)"
   ]
  },
  {
   "cell_type": "markdown",
   "id": "349e327c-cbfe-4d2c-9b7e-809f44a36f26",
   "metadata": {},
   "source": [
    "### Define PII that must be faked and not modelled"
   ]
  },
  {
   "cell_type": "markdown",
   "id": "6ce47142-2c30-401e-8969-43fa323a875b",
   "metadata": {},
   "source": [
    "Define fields that contain PII and need faking (see the sketchy documentation [here](https://sdv.dev/SDV/developer_guides/sdv/metadata.html?highlight=pii#categorical-fields-data-anonymization) and the [Faker Documentation](https://faker.readthedocs.io/en/master/providers.html) for a full list of providers. Here is a brief example that specifies Fakers for [name](https://faker.readthedocs.io/en/master/providers/faker.providers.person.html#faker.providers.person.Provider.name) and [date of birth](https://faker.readthedocs.io/en/master/providers/faker.providers.date_time.html#faker.providers.date_time.Provider.date_of_birth). Note that you must pass arguments to a faker as a list."
   ]
  },
  {
   "cell_type": "markdown",
   "id": "d003ce5f-98ce-4f02-83f1-03ea3d2e454a",
   "metadata": {},
   "source": [
    "NB: sdv also doesn't always recognise the columns correctly. Here we specify data_of_birth explicitly as a date whilst working on the larger task of defining columns that contain PII. See [field details](https://sdv.dev/SDV/developer_guides/sdv/metadata.html#field-details)"
   ]
  },
  {
   "cell_type": "markdown",
   "id": "17091598-7447-4908-914e-bcaffc7073e1",
   "metadata": {},
   "source": [
    "Now a full specification for the Vitals data"
   ]
  },
  {
   "cell_type": "code",
   "execution_count": 129,
   "id": "82378d3c-7649-4356-94c3-37d121fcc4aa",
   "metadata": {},
   "outputs": [],
   "source": [
    "fields = {\n",
    "    'visit_observation_id' : {\n",
    "        'type': 'id',\n",
    "        'subtype': 'integer',\n",
    "    },\n",
    "    'date_of_birth': {\n",
    "        'type': 'datetime',\n",
    "        'format': '%Y-%m-%d',\n",
    "        'pii': True,\n",
    "        # the 'pii_category' key defines the Faker function name (method)\n",
    "        'pii_category': \"date_of_birth\", \n",
    "    },\n",
    "    'lastname': {\n",
    "        'type': 'categorical',\n",
    "        'pii': True,\n",
    "        'pii_category': 'last_name'\n",
    "    },\n",
    "    'firstname': {\n",
    "        'type': 'categorical',\n",
    "        'pii': True,\n",
    "        'pii_category': 'first_name'\n",
    "    },\n",
    "    'mrn': {\n",
    "        'type': 'categorical',\n",
    "        'pii': True,\n",
    "        'pii_category': ['random_number', 8 ]\n",
    "    },\n",
    "}"
   ]
  },
  {
   "cell_type": "markdown",
   "id": "b854dd82-76c6-42bb-9d53-dac79f2f8edc",
   "metadata": {},
   "source": [
    "Prepare the constraints"
   ]
  },
  {
   "cell_type": "code",
   "execution_count": 130,
   "id": "d4c0db20-1be1-4a59-97c2-74999e6faf56",
   "metadata": {},
   "outputs": [],
   "source": [
    "fixed_obs_constraint = FixedCombinations(\n",
    "    column_names=['id_in_application', 'value_as_text', 'value_as_real', 'unit'],\n",
    "    handling_strategy='reject_sampling',  # transform strategy fails ?b/c data types vary\n",
    ")"
   ]
  },
  {
   "cell_type": "markdown",
   "id": "356fe5bc-5cc2-4e55-9723-f4a03c96cda8",
   "metadata": {},
   "source": [
    "Prepare the metadata"
   ]
  },
  {
   "cell_type": "code",
   "execution_count": 131,
   "id": "38bd8e12-8e18-4bb9-9251-26fa0a9608b9",
   "metadata": {},
   "outputs": [],
   "source": [
    "metadata = Metadata()\n",
    "metadata.add_table(\n",
    "    name='tabpid',\n",
    "    data=df,\n",
    "    fields_metadata=fields,\n",
    "    primary_key = 'visit_observation_id',\n",
    "    constraints=[fixed_obs_constraint], # be patient; reject_sampling is slow\n",
    ")"
   ]
  },
  {
   "cell_type": "code",
   "execution_count": 132,
   "id": "d03cdaa8-aa2b-4d13-b932-0fb4bbf438bf",
   "metadata": {},
   "outputs": [
    {
     "data": {
      "text/plain": [
       "{'fields': {'visit_observation_id': {'type': 'id', 'subtype': 'integer'},\n",
       "  'date_of_birth': {'type': 'datetime',\n",
       "   'format': '%Y-%m-%d',\n",
       "   'pii': True,\n",
       "   'pii_category': 'date_of_birth'},\n",
       "  'lastname': {'type': 'categorical',\n",
       "   'pii': True,\n",
       "   'pii_category': 'last_name'},\n",
       "  'firstname': {'type': 'categorical',\n",
       "   'pii': True,\n",
       "   'pii_category': 'first_name'},\n",
       "  'mrn': {'type': 'categorical',\n",
       "   'pii': True,\n",
       "   'pii_category': ['random_number', 8]},\n",
       "  'ob_tail_i': {'type': 'numerical', 'subtype': 'integer'},\n",
       "  'observation_datetime': {'type': 'datetime'},\n",
       "  'id_in_application': {'type': 'categorical'},\n",
       "  'value_as_real': {'type': 'numerical', 'subtype': 'float'},\n",
       "  'value_as_text': {'type': 'categorical'},\n",
       "  'unit': {'type': 'categorical'},\n",
       "  'sex': {'type': 'categorical'},\n",
       "  'bed_admit_dt': {'type': 'datetime'},\n",
       "  'dept_name': {'type': 'categorical'},\n",
       "  'room_name': {'type': 'categorical'},\n",
       "  'bed_hl7': {'type': 'categorical'},\n",
       "  'perrt_consult_datetime': {'type': 'datetime'}},\n",
       " 'constraints': [{'constraint': 'sdv.constraints.tabular.FixedCombinations',\n",
       "   'column_names': ['id_in_application',\n",
       "    'value_as_text',\n",
       "    'value_as_real',\n",
       "    'unit'],\n",
       "   'handling_strategy': 'reject_sampling'}],\n",
       " 'primary_key': 'visit_observation_id'}"
      ]
     },
     "execution_count": 132,
     "metadata": {},
     "output_type": "execute_result"
    }
   ],
   "source": [
    "# Inspect the conversion that metadata.add_table did to the dataframe that you loaded\n",
    "metadata.get_table_meta('tabpid')"
   ]
  },
  {
   "cell_type": "markdown",
   "id": "6c80c8ca-5407-47e4-8b41-3f35a2ee627f",
   "metadata": {},
   "source": [
    "Prepare the table(s)"
   ]
  },
  {
   "cell_type": "code",
   "execution_count": 133,
   "id": "dc43f428-e404-4bc4-a160-7cf477500633",
   "metadata": {},
   "outputs": [],
   "source": [
    "tables = dict(tabpid=df)"
   ]
  },
  {
   "cell_type": "markdown",
   "id": "4f2d5f72-6b34-46dc-b9fe-01a4cb7f6730",
   "metadata": {},
   "source": [
    "Fit the model"
   ]
  },
  {
   "cell_type": "code",
   "execution_count": 134,
   "id": "001192a9-71b0-420c-a219-907a50e6469b",
   "metadata": {},
   "outputs": [],
   "source": [
    "sdv = SDV()\n",
    "sdv.fit(metadata, tables)"
   ]
  },
  {
   "cell_type": "code",
   "execution_count": 135,
   "id": "ef9dfc98-907f-48d7-87cf-7651002ce013",
   "metadata": {},
   "outputs": [],
   "source": [
    "dfs = sdv.sample_all()['tabpid']"
   ]
  },
  {
   "cell_type": "code",
   "execution_count": 136,
   "id": "157a1f37-3bd1-424e-9bf5-ebe2ea837ce4",
   "metadata": {},
   "outputs": [
    {
     "data": {
      "text/html": [
       "<div>\n",
       "<style scoped>\n",
       "    .dataframe tbody tr th:only-of-type {\n",
       "        vertical-align: middle;\n",
       "    }\n",
       "\n",
       "    .dataframe tbody tr th {\n",
       "        vertical-align: top;\n",
       "    }\n",
       "\n",
       "    .dataframe thead th {\n",
       "        text-align: right;\n",
       "    }\n",
       "</style>\n",
       "<table border=\"1\" class=\"dataframe\">\n",
       "  <thead>\n",
       "    <tr style=\"text-align: right;\">\n",
       "      <th></th>\n",
       "      <th>visit_observation_id</th>\n",
       "      <th>date_of_birth</th>\n",
       "      <th>lastname</th>\n",
       "      <th>firstname</th>\n",
       "      <th>mrn</th>\n",
       "      <th>ob_tail_i</th>\n",
       "      <th>observation_datetime</th>\n",
       "      <th>id_in_application</th>\n",
       "      <th>value_as_real</th>\n",
       "      <th>value_as_text</th>\n",
       "      <th>unit</th>\n",
       "      <th>sex</th>\n",
       "      <th>bed_admit_dt</th>\n",
       "      <th>dept_name</th>\n",
       "      <th>room_name</th>\n",
       "      <th>bed_hl7</th>\n",
       "      <th>perrt_consult_datetime</th>\n",
       "    </tr>\n",
       "  </thead>\n",
       "  <tbody>\n",
       "    <tr>\n",
       "      <th>0</th>\n",
       "      <td>0</td>\n",
       "      <td>1976-03-20</td>\n",
       "      <td>Adams</td>\n",
       "      <td>Suzanne</td>\n",
       "      <td>8887833</td>\n",
       "      <td>1</td>\n",
       "      <td>2022-06-26 10:54:02</td>\n",
       "      <td>3040109304</td>\n",
       "      <td>NaN</td>\n",
       "      <td>Room air</td>\n",
       "      <td>NaN</td>\n",
       "      <td>M</td>\n",
       "      <td>2022-06-30 00:41:47</td>\n",
       "      <td>UCH EMERGENCY DEPT</td>\n",
       "      <td>BY06</td>\n",
       "      <td>UTC TZ</td>\n",
       "      <td>NaT</td>\n",
       "    </tr>\n",
       "    <tr>\n",
       "      <th>1</th>\n",
       "      <td>1</td>\n",
       "      <td>1963-01-31</td>\n",
       "      <td>Scott</td>\n",
       "      <td>Stephen</td>\n",
       "      <td>55582361</td>\n",
       "      <td>1</td>\n",
       "      <td>2022-06-26 09:38:49</td>\n",
       "      <td>5</td>\n",
       "      <td>NaN</td>\n",
       "      <td>NaN</td>\n",
       "      <td>NaN</td>\n",
       "      <td>M</td>\n",
       "      <td>2022-06-25 17:12:23</td>\n",
       "      <td>UCH T02 VASCULAR ANGIO</td>\n",
       "      <td>OTF</td>\n",
       "      <td>SR04-04</td>\n",
       "      <td>NaT</td>\n",
       "    </tr>\n",
       "    <tr>\n",
       "      <th>2</th>\n",
       "      <td>2</td>\n",
       "      <td>1925-05-19</td>\n",
       "      <td>Love</td>\n",
       "      <td>Willie</td>\n",
       "      <td>23882699</td>\n",
       "      <td>1</td>\n",
       "      <td>2022-06-26 09:48:55</td>\n",
       "      <td>5</td>\n",
       "      <td>NaN</td>\n",
       "      <td>130/72</td>\n",
       "      <td>NaN</td>\n",
       "      <td>M</td>\n",
       "      <td>2022-07-11 06:05:08</td>\n",
       "      <td>UCH T08 SOUTH (T08S)</td>\n",
       "      <td>SR08</td>\n",
       "      <td>BY05-36</td>\n",
       "      <td>NaT</td>\n",
       "    </tr>\n",
       "    <tr>\n",
       "      <th>3</th>\n",
       "      <td>3</td>\n",
       "      <td>2009-03-21</td>\n",
       "      <td>Rice</td>\n",
       "      <td>Adam</td>\n",
       "      <td>29488187</td>\n",
       "      <td>1</td>\n",
       "      <td>2022-06-26 08:52:51</td>\n",
       "      <td>9</td>\n",
       "      <td>NaN</td>\n",
       "      <td>NaN</td>\n",
       "      <td>NaN</td>\n",
       "      <td>F</td>\n",
       "      <td>2022-06-20 21:40:10</td>\n",
       "      <td>UCH T16 NORTH (T16N)</td>\n",
       "      <td>SR34</td>\n",
       "      <td>SR32-32</td>\n",
       "      <td>2022-06-18 02:58:00</td>\n",
       "    </tr>\n",
       "    <tr>\n",
       "      <th>4</th>\n",
       "      <td>4</td>\n",
       "      <td>2018-05-12</td>\n",
       "      <td>Kline</td>\n",
       "      <td>Donald</td>\n",
       "      <td>65051604</td>\n",
       "      <td>1</td>\n",
       "      <td>2022-06-26 07:35:18</td>\n",
       "      <td>6</td>\n",
       "      <td>NaN</td>\n",
       "      <td>NaN</td>\n",
       "      <td>NaN</td>\n",
       "      <td>M</td>\n",
       "      <td>2022-07-04 00:13:53</td>\n",
       "      <td>UCH T02 DAY SURG THR</td>\n",
       "      <td>BY03</td>\n",
       "      <td>BY05-24</td>\n",
       "      <td>NaT</td>\n",
       "    </tr>\n",
       "    <tr>\n",
       "      <th>5</th>\n",
       "      <td>5</td>\n",
       "      <td>1959-01-13</td>\n",
       "      <td>Roberts</td>\n",
       "      <td>William</td>\n",
       "      <td>77402084</td>\n",
       "      <td>1</td>\n",
       "      <td>2022-06-26 09:11:01</td>\n",
       "      <td>9</td>\n",
       "      <td>NaN</td>\n",
       "      <td>NaN</td>\n",
       "      <td>NaN</td>\n",
       "      <td>M</td>\n",
       "      <td>2022-07-07 04:32:32</td>\n",
       "      <td>UCH SDEC</td>\n",
       "      <td>BY04</td>\n",
       "      <td>BY07-35</td>\n",
       "      <td>NaT</td>\n",
       "    </tr>\n",
       "  </tbody>\n",
       "</table>\n",
       "</div>"
      ],
      "text/plain": [
       "   visit_observation_id date_of_birth lastname firstname       mrn  ob_tail_i  \\\n",
       "0                     0    1976-03-20    Adams   Suzanne   8887833          1   \n",
       "1                     1    1963-01-31    Scott   Stephen  55582361          1   \n",
       "2                     2    1925-05-19     Love    Willie  23882699          1   \n",
       "3                     3    2009-03-21     Rice      Adam  29488187          1   \n",
       "4                     4    2018-05-12    Kline    Donald  65051604          1   \n",
       "5                     5    1959-01-13  Roberts   William  77402084          1   \n",
       "\n",
       "  observation_datetime id_in_application  value_as_real value_as_text unit  \\\n",
       "0  2022-06-26 10:54:02        3040109304            NaN      Room air  NaN   \n",
       "1  2022-06-26 09:38:49                 5            NaN           NaN  NaN   \n",
       "2  2022-06-26 09:48:55                 5            NaN        130/72  NaN   \n",
       "3  2022-06-26 08:52:51                 9            NaN           NaN  NaN   \n",
       "4  2022-06-26 07:35:18                 6            NaN           NaN  NaN   \n",
       "5  2022-06-26 09:11:01                 9            NaN           NaN  NaN   \n",
       "\n",
       "  sex        bed_admit_dt               dept_name room_name  bed_hl7  \\\n",
       "0   M 2022-06-30 00:41:47      UCH EMERGENCY DEPT      BY06   UTC TZ   \n",
       "1   M 2022-06-25 17:12:23  UCH T02 VASCULAR ANGIO       OTF  SR04-04   \n",
       "2   M 2022-07-11 06:05:08    UCH T08 SOUTH (T08S)      SR08  BY05-36   \n",
       "3   F 2022-06-20 21:40:10    UCH T16 NORTH (T16N)      SR34  SR32-32   \n",
       "4   M 2022-07-04 00:13:53    UCH T02 DAY SURG THR      BY03  BY05-24   \n",
       "5   M 2022-07-07 04:32:32                UCH SDEC      BY04  BY07-35   \n",
       "\n",
       "  perrt_consult_datetime  \n",
       "0                    NaT  \n",
       "1                    NaT  \n",
       "2                    NaT  \n",
       "3    2022-06-18 02:58:00  \n",
       "4                    NaT  \n",
       "5                    NaT  "
      ]
     },
     "execution_count": 136,
     "metadata": {},
     "output_type": "execute_result"
    }
   ],
   "source": [
    "dfs.loc[:5]"
   ]
  },
  {
   "cell_type": "code",
   "execution_count": 137,
   "id": "8b47a05b-bc03-48db-95a1-cf97d457bc7c",
   "metadata": {},
   "outputs": [
    {
     "data": {
      "text/plain": [
       "10              33\n",
       "28315          411\n",
       "28316           63\n",
       "3040109304     858\n",
       "5              390\n",
       "6              310\n",
       "6466          1508\n",
       "8              370\n",
       "9              223\n",
       "Name: id_in_application, dtype: int64"
      ]
     },
     "execution_count": 137,
     "metadata": {},
     "output_type": "execute_result"
    }
   ],
   "source": [
    "dfs['id_in_application'].value_counts().sort_index()"
   ]
  },
  {
   "cell_type": "markdown",
   "id": "aa4071f4-cbff-4fe1-ad29-9747d751cc1a",
   "metadata": {},
   "source": [
    "Inspect the original data"
   ]
  },
  {
   "cell_type": "code",
   "execution_count": 138,
   "id": "d30f0e56-4298-4128-a085-04e4c555b5b0",
   "metadata": {},
   "outputs": [
    {
     "data": {
      "text/plain": [
       "10            546\n",
       "28315         431\n",
       "28316          28\n",
       "3040109304    510\n",
       "5             493\n",
       "6             550\n",
       "6466          524\n",
       "8             544\n",
       "9             540\n",
       "Name: id_in_application, dtype: int64"
      ]
     },
     "execution_count": 138,
     "metadata": {},
     "output_type": "execute_result"
    }
   ],
   "source": [
    "df['id_in_application'].value_counts().sort_index()"
   ]
  },
  {
   "cell_type": "code",
   "execution_count": 139,
   "id": "68458bec-cad1-40ca-86c5-ade138b7e28f",
   "metadata": {},
   "outputs": [],
   "source": [
    "# df.head()"
   ]
  },
  {
   "cell_type": "markdown",
   "id": "8614d48b-a339-45d4-b072-0651270f6a02",
   "metadata": {},
   "source": [
    "Inspect the synthetic data"
   ]
  },
  {
   "cell_type": "markdown",
   "id": "7ae36c29-6856-4bc5-a7e5-539e72f7a02c",
   "metadata": {},
   "source": [
    "Finally transform admission_age_years to match the fake DoB"
   ]
  },
  {
   "cell_type": "markdown",
   "id": "375226dd-4acc-434f-b9f4-6ac334990a04",
   "metadata": {},
   "source": [
    "### Save the synthetic data\n",
    "\n",
    "Options\n",
    "- save the model and not the synthetic data (but then you need *sdv* to run the model)\n",
    "- save the data (need some care with type conversions if you use csv etc.)"
   ]
  },
  {
   "cell_type": "code",
   "execution_count": 140,
   "id": "7a5043a3-4cb9-4445-beb0-8fe6d3fa3360",
   "metadata": {},
   "outputs": [],
   "source": [
    "model.save('mock_vitals.pkl')"
   ]
  },
  {
   "cell_type": "code",
   "execution_count": 141,
   "id": "c1be99b9-b79d-4a1f-b1cb-dd7b89d0e369",
   "metadata": {},
   "outputs": [
    {
     "name": "stderr",
     "output_type": "stream",
     "text": [
      "/tmp/ipykernel_291/1530517875.py:1: PerformanceWarning: \n",
      "your performance may suffer as PyTables will pickle object types that it cannot\n",
      "map directly to c-types [inferred_type->mixed-integer,key->block2_values] [items->Index(['lastname', 'firstname', 'mrn', 'id_in_application', 'value_as_text',\n",
      "       'unit', 'sex', 'dept_name', 'room_name', 'bed_hl7'],\n",
      "      dtype='object')]\n",
      "\n",
      "  dfs.to_hdf('mock_vitals.h5', 'data')\n"
     ]
    }
   ],
   "source": [
    "dfs.to_hdf('mock_vitals.h5', 'data')"
   ]
  },
  {
   "cell_type": "code",
   "execution_count": 142,
   "id": "802c5fa7-93ac-4a18-b7fb-b7fa10f0190b",
   "metadata": {},
   "outputs": [
    {
     "data": {
      "text/html": [
       "<div>\n",
       "<style scoped>\n",
       "    .dataframe tbody tr th:only-of-type {\n",
       "        vertical-align: middle;\n",
       "    }\n",
       "\n",
       "    .dataframe tbody tr th {\n",
       "        vertical-align: top;\n",
       "    }\n",
       "\n",
       "    .dataframe thead th {\n",
       "        text-align: right;\n",
       "    }\n",
       "</style>\n",
       "<table border=\"1\" class=\"dataframe\">\n",
       "  <thead>\n",
       "    <tr style=\"text-align: right;\">\n",
       "      <th></th>\n",
       "      <th>visit_observation_id</th>\n",
       "      <th>date_of_birth</th>\n",
       "      <th>lastname</th>\n",
       "      <th>firstname</th>\n",
       "      <th>mrn</th>\n",
       "      <th>ob_tail_i</th>\n",
       "      <th>observation_datetime</th>\n",
       "      <th>id_in_application</th>\n",
       "      <th>value_as_real</th>\n",
       "      <th>value_as_text</th>\n",
       "      <th>unit</th>\n",
       "      <th>sex</th>\n",
       "      <th>bed_admit_dt</th>\n",
       "      <th>dept_name</th>\n",
       "      <th>room_name</th>\n",
       "      <th>bed_hl7</th>\n",
       "      <th>perrt_consult_datetime</th>\n",
       "    </tr>\n",
       "  </thead>\n",
       "  <tbody>\n",
       "    <tr>\n",
       "      <th>0</th>\n",
       "      <td>0</td>\n",
       "      <td>1976-03-20</td>\n",
       "      <td>Adams</td>\n",
       "      <td>Suzanne</td>\n",
       "      <td>8887833</td>\n",
       "      <td>1</td>\n",
       "      <td>2022-06-26 10:54:02</td>\n",
       "      <td>3040109304</td>\n",
       "      <td>NaN</td>\n",
       "      <td>Room air</td>\n",
       "      <td>NaN</td>\n",
       "      <td>M</td>\n",
       "      <td>2022-06-30 00:41:47</td>\n",
       "      <td>UCH EMERGENCY DEPT</td>\n",
       "      <td>BY06</td>\n",
       "      <td>UTC TZ</td>\n",
       "      <td>NaT</td>\n",
       "    </tr>\n",
       "    <tr>\n",
       "      <th>1</th>\n",
       "      <td>1</td>\n",
       "      <td>1963-01-31</td>\n",
       "      <td>Scott</td>\n",
       "      <td>Stephen</td>\n",
       "      <td>55582361</td>\n",
       "      <td>1</td>\n",
       "      <td>2022-06-26 09:38:49</td>\n",
       "      <td>5</td>\n",
       "      <td>NaN</td>\n",
       "      <td>NaN</td>\n",
       "      <td>NaN</td>\n",
       "      <td>M</td>\n",
       "      <td>2022-06-25 17:12:23</td>\n",
       "      <td>UCH T02 VASCULAR ANGIO</td>\n",
       "      <td>OTF</td>\n",
       "      <td>SR04-04</td>\n",
       "      <td>NaT</td>\n",
       "    </tr>\n",
       "    <tr>\n",
       "      <th>2</th>\n",
       "      <td>2</td>\n",
       "      <td>1925-05-19</td>\n",
       "      <td>Love</td>\n",
       "      <td>Willie</td>\n",
       "      <td>23882699</td>\n",
       "      <td>1</td>\n",
       "      <td>2022-06-26 09:48:55</td>\n",
       "      <td>5</td>\n",
       "      <td>NaN</td>\n",
       "      <td>130/72</td>\n",
       "      <td>NaN</td>\n",
       "      <td>M</td>\n",
       "      <td>2022-07-11 06:05:08</td>\n",
       "      <td>UCH T08 SOUTH (T08S)</td>\n",
       "      <td>SR08</td>\n",
       "      <td>BY05-36</td>\n",
       "      <td>NaT</td>\n",
       "    </tr>\n",
       "    <tr>\n",
       "      <th>3</th>\n",
       "      <td>3</td>\n",
       "      <td>2009-03-21</td>\n",
       "      <td>Rice</td>\n",
       "      <td>Adam</td>\n",
       "      <td>29488187</td>\n",
       "      <td>1</td>\n",
       "      <td>2022-06-26 08:52:51</td>\n",
       "      <td>9</td>\n",
       "      <td>NaN</td>\n",
       "      <td>NaN</td>\n",
       "      <td>NaN</td>\n",
       "      <td>F</td>\n",
       "      <td>2022-06-20 21:40:10</td>\n",
       "      <td>UCH T16 NORTH (T16N)</td>\n",
       "      <td>SR34</td>\n",
       "      <td>SR32-32</td>\n",
       "      <td>2022-06-18 02:58:00</td>\n",
       "    </tr>\n",
       "    <tr>\n",
       "      <th>4</th>\n",
       "      <td>4</td>\n",
       "      <td>2018-05-12</td>\n",
       "      <td>Kline</td>\n",
       "      <td>Donald</td>\n",
       "      <td>65051604</td>\n",
       "      <td>1</td>\n",
       "      <td>2022-06-26 07:35:18</td>\n",
       "      <td>6</td>\n",
       "      <td>NaN</td>\n",
       "      <td>NaN</td>\n",
       "      <td>NaN</td>\n",
       "      <td>M</td>\n",
       "      <td>2022-07-04 00:13:53</td>\n",
       "      <td>UCH T02 DAY SURG THR</td>\n",
       "      <td>BY03</td>\n",
       "      <td>BY05-24</td>\n",
       "      <td>NaT</td>\n",
       "    </tr>\n",
       "    <tr>\n",
       "      <th>...</th>\n",
       "      <td>...</td>\n",
       "      <td>...</td>\n",
       "      <td>...</td>\n",
       "      <td>...</td>\n",
       "      <td>...</td>\n",
       "      <td>...</td>\n",
       "      <td>...</td>\n",
       "      <td>...</td>\n",
       "      <td>...</td>\n",
       "      <td>...</td>\n",
       "      <td>...</td>\n",
       "      <td>...</td>\n",
       "      <td>...</td>\n",
       "      <td>...</td>\n",
       "      <td>...</td>\n",
       "      <td>...</td>\n",
       "      <td>...</td>\n",
       "    </tr>\n",
       "    <tr>\n",
       "      <th>4161</th>\n",
       "      <td>4161</td>\n",
       "      <td>2021-08-17</td>\n",
       "      <td>Romero</td>\n",
       "      <td>Christine</td>\n",
       "      <td>96344082</td>\n",
       "      <td>1</td>\n",
       "      <td>2022-06-26 10:05:28</td>\n",
       "      <td>9</td>\n",
       "      <td>NaN</td>\n",
       "      <td>NaN</td>\n",
       "      <td>NaN</td>\n",
       "      <td>M</td>\n",
       "      <td>2022-06-24 15:49:13</td>\n",
       "      <td>UCH T06 HEAD (T06H)</td>\n",
       "      <td>SR04</td>\n",
       "      <td>BY12-56</td>\n",
       "      <td>NaT</td>\n",
       "    </tr>\n",
       "    <tr>\n",
       "      <th>4162</th>\n",
       "      <td>4162</td>\n",
       "      <td>1933-12-08</td>\n",
       "      <td>Estrada</td>\n",
       "      <td>Timothy</td>\n",
       "      <td>90176637</td>\n",
       "      <td>1</td>\n",
       "      <td>2022-06-26 07:53:35</td>\n",
       "      <td>6466</td>\n",
       "      <td>NaN</td>\n",
       "      <td>A</td>\n",
       "      <td>NaN</td>\n",
       "      <td>M</td>\n",
       "      <td>2022-07-18 04:26:24</td>\n",
       "      <td>UCH T09 NORTH (T09N)</td>\n",
       "      <td>RAT 06</td>\n",
       "      <td>BY01-02</td>\n",
       "      <td>NaT</td>\n",
       "    </tr>\n",
       "    <tr>\n",
       "      <th>4163</th>\n",
       "      <td>4163</td>\n",
       "      <td>1971-03-23</td>\n",
       "      <td>Harper</td>\n",
       "      <td>Nicholas</td>\n",
       "      <td>95254572</td>\n",
       "      <td>1</td>\n",
       "      <td>2022-06-26 09:10:59</td>\n",
       "      <td>6466</td>\n",
       "      <td>NaN</td>\n",
       "      <td>A</td>\n",
       "      <td>NaN</td>\n",
       "      <td>F</td>\n",
       "      <td>2022-06-03 11:24:15</td>\n",
       "      <td>UCH T09 NORTH (T09N)</td>\n",
       "      <td>BY04</td>\n",
       "      <td>03 SDEC</td>\n",
       "      <td>2022-06-17 12:23:00</td>\n",
       "    </tr>\n",
       "    <tr>\n",
       "      <th>4164</th>\n",
       "      <td>4164</td>\n",
       "      <td>2001-05-13</td>\n",
       "      <td>Montgomery</td>\n",
       "      <td>Natasha</td>\n",
       "      <td>85394685</td>\n",
       "      <td>1</td>\n",
       "      <td>2022-06-26 08:19:52</td>\n",
       "      <td>3040109304</td>\n",
       "      <td>NaN</td>\n",
       "      <td>Room air</td>\n",
       "      <td>NaN</td>\n",
       "      <td>F</td>\n",
       "      <td>2022-06-10 15:09:12</td>\n",
       "      <td>UCH EMERGENCY DEPT</td>\n",
       "      <td>BY13</td>\n",
       "      <td>UTC TZ</td>\n",
       "      <td>2022-06-17 07:28:00</td>\n",
       "    </tr>\n",
       "    <tr>\n",
       "      <th>4165</th>\n",
       "      <td>4165</td>\n",
       "      <td>1946-01-17</td>\n",
       "      <td>Atkinson</td>\n",
       "      <td>Mike</td>\n",
       "      <td>89921341</td>\n",
       "      <td>1</td>\n",
       "      <td>2022-06-26 10:06:17</td>\n",
       "      <td>28315</td>\n",
       "      <td>NaN</td>\n",
       "      <td>3</td>\n",
       "      <td>NaN</td>\n",
       "      <td>F</td>\n",
       "      <td>2022-06-09 21:16:25</td>\n",
       "      <td>UCH T14 SOUTH ASU</td>\n",
       "      <td>BY05</td>\n",
       "      <td>UTC WR</td>\n",
       "      <td>2022-06-19 11:36:00</td>\n",
       "    </tr>\n",
       "  </tbody>\n",
       "</table>\n",
       "<p>4166 rows × 17 columns</p>\n",
       "</div>"
      ],
      "text/plain": [
       "      visit_observation_id date_of_birth    lastname  firstname       mrn  \\\n",
       "0                        0    1976-03-20       Adams    Suzanne   8887833   \n",
       "1                        1    1963-01-31       Scott    Stephen  55582361   \n",
       "2                        2    1925-05-19        Love     Willie  23882699   \n",
       "3                        3    2009-03-21        Rice       Adam  29488187   \n",
       "4                        4    2018-05-12       Kline     Donald  65051604   \n",
       "...                    ...           ...         ...        ...       ...   \n",
       "4161                  4161    2021-08-17      Romero  Christine  96344082   \n",
       "4162                  4162    1933-12-08     Estrada    Timothy  90176637   \n",
       "4163                  4163    1971-03-23      Harper   Nicholas  95254572   \n",
       "4164                  4164    2001-05-13  Montgomery    Natasha  85394685   \n",
       "4165                  4165    1946-01-17    Atkinson       Mike  89921341   \n",
       "\n",
       "      ob_tail_i observation_datetime id_in_application  value_as_real  \\\n",
       "0             1  2022-06-26 10:54:02        3040109304            NaN   \n",
       "1             1  2022-06-26 09:38:49                 5            NaN   \n",
       "2             1  2022-06-26 09:48:55                 5            NaN   \n",
       "3             1  2022-06-26 08:52:51                 9            NaN   \n",
       "4             1  2022-06-26 07:35:18                 6            NaN   \n",
       "...         ...                  ...               ...            ...   \n",
       "4161          1  2022-06-26 10:05:28                 9            NaN   \n",
       "4162          1  2022-06-26 07:53:35              6466            NaN   \n",
       "4163          1  2022-06-26 09:10:59              6466            NaN   \n",
       "4164          1  2022-06-26 08:19:52        3040109304            NaN   \n",
       "4165          1  2022-06-26 10:06:17             28315            NaN   \n",
       "\n",
       "     value_as_text unit sex        bed_admit_dt               dept_name  \\\n",
       "0         Room air  NaN   M 2022-06-30 00:41:47      UCH EMERGENCY DEPT   \n",
       "1              NaN  NaN   M 2022-06-25 17:12:23  UCH T02 VASCULAR ANGIO   \n",
       "2           130/72  NaN   M 2022-07-11 06:05:08    UCH T08 SOUTH (T08S)   \n",
       "3              NaN  NaN   F 2022-06-20 21:40:10    UCH T16 NORTH (T16N)   \n",
       "4              NaN  NaN   M 2022-07-04 00:13:53    UCH T02 DAY SURG THR   \n",
       "...            ...  ...  ..                 ...                     ...   \n",
       "4161           NaN  NaN   M 2022-06-24 15:49:13     UCH T06 HEAD (T06H)   \n",
       "4162             A  NaN   M 2022-07-18 04:26:24    UCH T09 NORTH (T09N)   \n",
       "4163             A  NaN   F 2022-06-03 11:24:15    UCH T09 NORTH (T09N)   \n",
       "4164      Room air  NaN   F 2022-06-10 15:09:12      UCH EMERGENCY DEPT   \n",
       "4165             3  NaN   F 2022-06-09 21:16:25       UCH T14 SOUTH ASU   \n",
       "\n",
       "     room_name  bed_hl7 perrt_consult_datetime  \n",
       "0         BY06   UTC TZ                    NaT  \n",
       "1          OTF  SR04-04                    NaT  \n",
       "2         SR08  BY05-36                    NaT  \n",
       "3         SR34  SR32-32    2022-06-18 02:58:00  \n",
       "4         BY03  BY05-24                    NaT  \n",
       "...        ...      ...                    ...  \n",
       "4161      SR04  BY12-56                    NaT  \n",
       "4162    RAT 06  BY01-02                    NaT  \n",
       "4163      BY04  03 SDEC    2022-06-17 12:23:00  \n",
       "4164      BY13   UTC TZ    2022-06-17 07:28:00  \n",
       "4165      BY05   UTC WR    2022-06-19 11:36:00  \n",
       "\n",
       "[4166 rows x 17 columns]"
      ]
     },
     "execution_count": 142,
     "metadata": {},
     "output_type": "execute_result"
    }
   ],
   "source": [
    "pd.read_hdf('mock_vitals.h5', 'data')"
   ]
  },
  {
   "cell_type": "code",
   "execution_count": null,
   "id": "1d27c85f-d9d8-49e2-89bf-c5b2ccfcd2c5",
   "metadata": {},
   "outputs": [],
   "source": []
  },
  {
   "cell_type": "code",
   "execution_count": null,
   "id": "95784907-c013-48e3-9deb-a96380a74a6e",
   "metadata": {},
   "outputs": [],
   "source": []
  }
 ],
 "metadata": {
  "kernelspec": {
   "display_name": "Python 3 (ipykernel)",
   "language": "python",
   "name": "python3"
  },
  "language_info": {
   "codemirror_mode": {
    "name": "ipython",
    "version": 3
   },
   "file_extension": ".py",
   "mimetype": "text/x-python",
   "name": "python",
   "nbconvert_exporter": "python",
   "pygments_lexer": "ipython3",
   "version": "3.9.9"
  }
 },
 "nbformat": 4,
 "nbformat_minor": 5
}
