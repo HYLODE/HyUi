{
 "cells": [
  {
   "cell_type": "markdown",
   "id": "d6b21770-958e-4d48-8530-7cd6a40e1140",
   "metadata": {},
   "source": [
    "**NOTE**: please run this notebook from `./src`"
   ]
  },
  {
   "cell_type": "code",
   "execution_count": null,
   "id": "f5e6386a-7e3c-4130-8b24-847dd43b0873",
   "metadata": {},
   "outputs": [],
   "source": [
    "%cd ../..\n",
    "%pwd"
   ]
  },
  {
   "cell_type": "code",
   "execution_count": null,
   "id": "e8b4d732-9dc5-4349-8445-ef34fc8befc1",
   "metadata": {},
   "outputs": [],
   "source": [
    "from pathlib import Path\n",
    "from typing import List\n",
    "\n",
    "import pandas as pd\n",
    "from pydantic import BaseModel"
   ]
  },
  {
   "cell_type": "code",
   "execution_count": null,
   "id": "9df8d407-3ca2-4e96-b3ee-c3b49f423221",
   "metadata": {},
   "outputs": [],
   "source": [
    "from mock import mock  # hence the need to get the directory set up"
   ]
  },
  {
   "cell_type": "code",
   "execution_count": null,
   "id": "818303c9-5ee7-4afc-be3e-1a294987a2a1",
   "metadata": {},
   "outputs": [],
   "source": [
    "vitals_file = mock.path_to_hdf_file(\"perrt\")\n",
    "df = pd.read_hdf(vitals_file)"
   ]
  },
  {
   "cell_type": "code",
   "execution_count": null,
   "id": "45c4eb3b-c8e3-447c-941b-c3803a0c6a02",
   "metadata": {},
   "outputs": [],
   "source": [
    "df.info()"
   ]
  },
  {
   "cell_type": "code",
   "execution_count": null,
   "id": "71d21a5b-4b91-420a-89cd-ac0438630d22",
   "metadata": {},
   "outputs": [],
   "source": [
    "df.head()"
   ]
  },
  {
   "cell_type": "code",
   "execution_count": null,
   "id": "82a75cfe-6858-4bdc-b98f-bb9ea714f390",
   "metadata": {},
   "outputs": [],
   "source": [
    "# drop na's inserted by synthetic data process\n",
    "# df.dropna(subset=['id_in_application'], inplace=True)\n",
    "# df.to_hdf('mock.h5', 'data')"
   ]
  },
  {
   "cell_type": "code",
   "execution_count": null,
   "id": "2bbe31b0-47ec-4f83-8c5c-0fa3383d47ae",
   "metadata": {},
   "outputs": [],
   "source": [
    "engine = mock.make_mock_db_in_memory(\"perrt\")"
   ]
  },
  {
   "cell_type": "code",
   "execution_count": null,
   "id": "c5b91e35-ba2a-435c-97df-193fc6004d40",
   "metadata": {},
   "outputs": [],
   "source": []
  }
 ],
 "metadata": {
  "language_info": {
   "codemirror_mode": {
    "name": "ipython",
    "version": 3
   },
   "file_extension": ".py",
   "mimetype": "text/x-python",
   "name": "python",
   "nbconvert_exporter": "python",
   "pygments_lexer": "ipython3",
   "version": "3.9.9"
  }
 },
 "nbformat": 4,
 "nbformat_minor": 5
}
