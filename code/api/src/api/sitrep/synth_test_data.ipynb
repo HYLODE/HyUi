{
 "cells": [
  {
   "cell_type": "markdown",
   "id": "96687d16-17db-47f6-8cd7-41444a6d00b4",
   "metadata": {},
   "source": [
    "# Prepare synthetic data \n",
    "It is going to be much easier to develop if you have realistic synthetic data.\n",
    "Here we take a sql query that generates a single tabular output.\n",
    "We run that query against the live identifiable data once.\n",
    "We then use the [Synthetic Data Vault](https://sdv.dev/SDV/index.html) to prepare a synthetic model of those data.\n",
    "The code below serves as a vignette for that process but will need adjusting to match the exact contents of the original query.\n",
    "\n",
    "More complex examples that include multiple tables with joins and dependencies are also possible.\n",
    "\n",
    "This notebook should be run interactively just once"
   ]
  },
  {
   "cell_type": "markdown",
   "id": "b8eb5db6-f3cb-4640-a668-cebb21d0e7e1",
   "metadata": {},
   "source": [
    "## Set-up, query and return the data as datafame\n",
    "The query lives in `./src/api/sitrep/` where `.` represents the project root.\n",
    "If you run this JupyterNotebook using the local **Makefile** and `make run` then that query will be automatically copied here.\n",
    "\n",
    "So first steps should be (from _this_ directory)\n",
    "```sh\n",
    "make mock1build\n",
    "make mock2copyin\n",
    "make mock3run\n",
    "```\n",
    "then navigate to http://uclvlddpragae07:8091/lab/tree/steve/work/synth_test_data_sitrep.ipynb"
   ]
  },
  {
   "cell_type": "code",
   "execution_count": null,
   "id": "515d4a8b-0480-4a42-a751-36a1b41172a9",
   "metadata": {},
   "outputs": [],
   "source": [
    "import os\n",
    "from pathlib import Path\n",
    "\n",
    "import numpy as np\n",
    "import pandas as pd\n",
    "import requests\n",
    "from sqlalchemy import create_engine"
   ]
  },
  {
   "cell_type": "markdown",
   "id": "087d2f00-6458-436c-a4fd-789765c807f1",
   "metadata": {},
   "source": [
    "Now rather than using a SQL query, this time we are going to use an existing API to populate a dataframe"
   ]
  },
  {
   "cell_type": "code",
   "execution_count": null,
   "id": "d4edfdcc-3164-40ee-990d-02914cbd9e49",
   "metadata": {},
   "outputs": [],
   "source": [
    "response = requests.get(\"http://uclvlddpragae07:5006/icu/live/T03/ui\")\n",
    "df = pd.DataFrame.from_dict(response.json()[\"data\"])"
   ]
  },
  {
   "cell_type": "code",
   "execution_count": null,
   "id": "588ee543-03bb-490a-a7bb-9092fc4964cb",
   "metadata": {},
   "outputs": [],
   "source": [
    "df.dtypes"
   ]
  },
  {
   "cell_type": "code",
   "execution_count": null,
   "id": "57d4de46-263d-401b-a898-0432122779ec",
   "metadata": {},
   "outputs": [],
   "source": [
    "df.head()"
   ]
  },
  {
   "cell_type": "markdown",
   "id": "8785b6f4-b2cd-4e5c-970a-d793b3c60738",
   "metadata": {},
   "source": [
    "## Generate a synthetic version of the real data\n",
    "\n",
    "Use the table above to generate the metadata you need for the synthetic data\n",
    "\n",
    "https://sdv.dev/SDV/user_guides/relational/relational_metadata.html#relational-metadata"
   ]
  },
  {
   "cell_type": "code",
   "execution_count": null,
   "id": "6992f5ac-02f6-4fa3-94fd-992c598891aa",
   "metadata": {},
   "outputs": [],
   "source": [
    "# Minimal imports\n",
    "from sdv import SDV, Metadata"
   ]
  },
  {
   "cell_type": "markdown",
   "id": "00ddee5f-54ba-436e-8afa-d5ee027556ba",
   "metadata": {},
   "source": [
    "SDV does not handle timezones nicely so remove"
   ]
  },
  {
   "cell_type": "code",
   "execution_count": null,
   "id": "14f7ced8-a783-4f42-8ba8-46c546bb8dab",
   "metadata": {},
   "outputs": [],
   "source": [
    "# PostgreSQL returns datetimes with tz info which sdv does not seem to be able to handle\n",
    "def remove_timezone(df, col_name: str) -> pd.DataFrame:\n",
    "    \"\"\"sdv does not like timezones\"\"\"\n",
    "    df[col_name] = pd.to_datetime(df[col_name], utc=True).dt.tz_localize(None)\n",
    "    return df"
   ]
  },
  {
   "cell_type": "code",
   "execution_count": null,
   "id": "558eeb3f-a30f-4d81-9b7d-5f5a98e6c59c",
   "metadata": {},
   "outputs": [],
   "source": [
    "tz_cols = [\n",
    "    \"admission_dt\",\n",
    "]\n",
    "for col in tz_cols:\n",
    "    print(col)\n",
    "    df = remove_timezone(df, col)"
   ]
  },
  {
   "cell_type": "markdown",
   "id": "349e327c-cbfe-4d2c-9b7e-809f44a36f26",
   "metadata": {},
   "source": [
    "### Define PII that must be faked and not modelled"
   ]
  },
  {
   "cell_type": "markdown",
   "id": "6ce47142-2c30-401e-8969-43fa323a875b",
   "metadata": {},
   "source": [
    "Define fields that contain PII and need faking (see the sketchy documentation [here](https://sdv.dev/SDV/developer_guides/sdv/metadata.html?highlight=pii#categorical-fields-data-anonymization) and the [Faker Documentation](https://faker.readthedocs.io/en/master/providers.html) for a full list of providers. Here is a brief example that specifies Fakers for [name](https://faker.readthedocs.io/en/master/providers/faker.providers.person.html#faker.providers.person.Provider.name) and [date of birth](https://faker.readthedocs.io/en/master/providers/faker.providers.date_time.html#faker.providers.date_time.Provider.date_of_birth). Note that you must pass arguments to a faker as a list."
   ]
  },
  {
   "cell_type": "code",
   "execution_count": null,
   "id": "bfdb3380-bf71-448a-ab45-a876c544ebb9",
   "metadata": {},
   "outputs": [],
   "source": [
    "fields = {\n",
    "    \"dob\": {\n",
    "        \"type\": \"datetime\",\n",
    "        \"format\": \"%Y-%m-%d\",\n",
    "        \"pii\": True,\n",
    "        \"pii_category\": \"date_of_birth\",\n",
    "    },\n",
    "    \"name\": {\"type\": \"categorical\", \"pii\": True, \"pii_category\": \"name\"},\n",
    "}"
   ]
  },
  {
   "cell_type": "markdown",
   "id": "d003ce5f-98ce-4f02-83f1-03ea3d2e454a",
   "metadata": {},
   "source": [
    "NB: sdv also doesn't always recognise the columns correctly. Here we specify data_of_birth explicitly as a date whilst working on the larger task of defining columns that contain PII. See [field details](https://sdv.dev/SDV/developer_guides/sdv/metadata.html#field-details)"
   ]
  },
  {
   "cell_type": "markdown",
   "id": "17091598-7447-4908-914e-bcaffc7073e1",
   "metadata": {},
   "source": [
    "Now a full specification for the Sitrep data"
   ]
  },
  {
   "cell_type": "code",
   "execution_count": null,
   "id": "82378d3c-7649-4356-94c3-37d121fcc4aa",
   "metadata": {},
   "outputs": [],
   "source": [
    "fields = {\n",
    "    \"dob\": {\n",
    "        \"type\": \"datetime\",\n",
    "        \"format\": \"%Y-%m-%d\",\n",
    "        \"pii\": True,\n",
    "        # the 'pii_category' key defines the Faker function name (method)\n",
    "        \"pii_category\": \"date_of_birth\",\n",
    "    },\n",
    "    \"admission_age_years\": {\n",
    "        \"type\": \"numerical\",\n",
    "        \"pii\": True,\n",
    "        \"pii_category\": [\"random_number\", 2],\n",
    "    },\n",
    "    \"name\": {\"type\": \"categorical\", \"pii\": True, \"pii_category\": \"name\"},\n",
    "    \"mrn\": {\"type\": \"categorical\", \"pii\": True, \"pii_category\": [\"random_number\", 8]},\n",
    "    \"csn\": {\n",
    "        \"type\": \"categorical\",\n",
    "        \"pii\": True,\n",
    "        \"pii_category\": [\"numerify\", \"10########\"],\n",
    "    },\n",
    "}"
   ]
  },
  {
   "cell_type": "markdown",
   "id": "356fe5bc-5cc2-4e55-9723-f4a03c96cda8",
   "metadata": {},
   "source": [
    "Prepare the metadata"
   ]
  },
  {
   "cell_type": "code",
   "execution_count": null,
   "id": "38bd8e12-8e18-4bb9-9251-26fa0a9608b9",
   "metadata": {},
   "outputs": [],
   "source": [
    "metadata = Metadata()\n",
    "metadata.add_table(\n",
    "    name=\"tabpid\",\n",
    "    data=df,\n",
    "    fields_metadata=fields,\n",
    ")"
   ]
  },
  {
   "cell_type": "code",
   "execution_count": null,
   "id": "d03cdaa8-aa2b-4d13-b932-0fb4bbf438bf",
   "metadata": {},
   "outputs": [],
   "source": [
    "# Inspect the conversion that metadata.add_table did to the dataframe that you loaded\n",
    "metadata.get_table_meta(\"tabpid\")"
   ]
  },
  {
   "cell_type": "markdown",
   "id": "6c80c8ca-5407-47e4-8b41-3f35a2ee627f",
   "metadata": {},
   "source": [
    "Prepare the table(s)"
   ]
  },
  {
   "cell_type": "code",
   "execution_count": null,
   "id": "dc43f428-e404-4bc4-a160-7cf477500633",
   "metadata": {},
   "outputs": [],
   "source": [
    "tables = dict(tabpid=df)"
   ]
  },
  {
   "cell_type": "markdown",
   "id": "4f2d5f72-6b34-46dc-b9fe-01a4cb7f6730",
   "metadata": {},
   "source": [
    "Fit the model"
   ]
  },
  {
   "cell_type": "code",
   "execution_count": null,
   "id": "073a892b-dd55-483b-8d11-7333b5f2e9e9",
   "metadata": {},
   "outputs": [],
   "source": [
    "sdv = SDV()\n",
    "sdv.fit(metadata, tables)"
   ]
  },
  {
   "cell_type": "markdown",
   "id": "aa4071f4-cbff-4fe1-ad29-9747d751cc1a",
   "metadata": {},
   "source": [
    "Inspect the original data"
   ]
  },
  {
   "cell_type": "code",
   "execution_count": null,
   "id": "1b9da339-21c9-4cad-9e89-db0fd74e100b",
   "metadata": {},
   "outputs": [],
   "source": [
    "df.to_csv(\"sitrep_orig.csv\")"
   ]
  },
  {
   "cell_type": "markdown",
   "id": "8614d48b-a339-45d4-b072-0651270f6a02",
   "metadata": {},
   "source": [
    "Inspect the synthetic data"
   ]
  },
  {
   "cell_type": "code",
   "execution_count": null,
   "id": "00b16a46-e44f-4da3-8109-7916250c4fb4",
   "metadata": {},
   "outputs": [],
   "source": [
    "sdv.sample_all()[\"tabpid\"].head()"
   ]
  },
  {
   "cell_type": "markdown",
   "id": "7ae36c29-6856-4bc5-a7e5-539e72f7a02c",
   "metadata": {},
   "source": [
    "Finally transform admission_age_years to match the fake DoB"
   ]
  },
  {
   "cell_type": "code",
   "execution_count": null,
   "id": "22661188-0e1e-416b-973e-0861f6e07e33",
   "metadata": {},
   "outputs": [],
   "source": [
    "df = sdv.sample_all()[\"tabpid\"]"
   ]
  },
  {
   "cell_type": "code",
   "execution_count": null,
   "id": "4e4a4ed8-930a-4151-b797-8001a96bca77",
   "metadata": {},
   "outputs": [],
   "source": [
    "df[\"admission_age_years\"] = (\n",
    "    np.floor(((df[\"admission_dt\"] - df[\"dob\"]) / np.timedelta64(1, \"Y\")))\n",
    ").astype(int)"
   ]
  },
  {
   "cell_type": "code",
   "execution_count": null,
   "id": "2cf4e28e-afa0-4853-ac9b-b8b247c6c5de",
   "metadata": {},
   "outputs": [],
   "source": [
    "df.head()"
   ]
  },
  {
   "cell_type": "code",
   "execution_count": null,
   "id": "9913ab6e-9b67-492e-bd90-dc1d5280c6a7",
   "metadata": {},
   "outputs": [],
   "source": [
    "df.to_csv(\"sitrep_synth.csv\")"
   ]
  },
  {
   "cell_type": "markdown",
   "id": "375226dd-4acc-434f-b9f4-6ac334990a04",
   "metadata": {},
   "source": [
    "### Save the synthetic data\n",
    "\n",
    "Options\n",
    "- save the model and not the synthetic data (but then you need *sdv* to run the model)\n",
    "- save the data (need some care with type conversions if you use csv etc.)"
   ]
  },
  {
   "cell_type": "code",
   "execution_count": null,
   "id": "7a5043a3-4cb9-4445-beb0-8fe6d3fa3360",
   "metadata": {},
   "outputs": [],
   "source": [
    "sdv.save(\"mock_model.pkl\")"
   ]
  },
  {
   "cell_type": "code",
   "execution_count": null,
   "id": "c1be99b9-b79d-4a1f-b1cb-dd7b89d0e369",
   "metadata": {},
   "outputs": [],
   "source": [
    "df.to_hdf(\"mock_sitrep.h5\", \"data\")"
   ]
  },
  {
   "cell_type": "code",
   "execution_count": null,
   "id": "802c5fa7-93ac-4a18-b7fb-b7fa10f0190b",
   "metadata": {},
   "outputs": [],
   "source": [
    "pd.read_hdf(\"mock_sitrep.h5\", \"data\")"
   ]
  },
  {
   "cell_type": "code",
   "execution_count": null,
   "id": "1d27c85f-d9d8-49e2-89bf-c5b2ccfcd2c5",
   "metadata": {},
   "outputs": [],
   "source": []
  }
 ],
 "metadata": {
  "language_info": {
   "codemirror_mode": {
    "name": "ipython",
    "version": 3
   },
   "file_extension": ".py",
   "mimetype": "text/x-python",
   "name": "python",
   "nbconvert_exporter": "python",
   "pygments_lexer": "ipython3",
   "version": "3.9.12"
  }
 },
 "nbformat": 4,
 "nbformat_minor": 5
}
