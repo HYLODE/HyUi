{
 "cells": [
  {
   "cell_type": "markdown",
   "id": "df8c0c31-c0cb-497f-a75c-ea089efd75be",
   "metadata": {},
   "source": [
    "## NHNN\n",
    "\n",
    "- 2022-07-03vNHNN\n",
    "- specifically for NHNN critical care\n",
    "\n",
    "- working notes on merging caboodle info on beds with EMAP\n",
    "- aim is to build a reliable view of bed census\n",
    "- programmatically returns a list of locatoins with Caboodle detail\n",
    "- but no testing/quality control\n",
    "- works in conjunction with add_caboodle2emap_beds.py\n",
    "- use to populate base bed definitions for the tower flow\n"
   ]
  },
  {
   "cell_type": "markdown",
   "id": "c2454fb9-89f5-4e63-80f2-49b85718daa4",
   "metadata": {},
   "source": [
    "## Set-up incl database connections"
   ]
  },
  {
   "cell_type": "code",
   "execution_count": null,
   "id": "1d9cdcc5-a3bb-4cf1-853f-3a3f8b5e26dd",
   "metadata": {},
   "outputs": [],
   "source": [
    "import os\n",
    "import urllib\n",
    "from pathlib import Path\n",
    "\n",
    "import matplotlib.pyplot as plt\n",
    "import numpy as np\n",
    "import pandas as pd\n",
    "from sqlalchemy import create_engine\n",
    "from sqlalchemy.engine import Engine"
   ]
  },
  {
   "cell_type": "code",
   "execution_count": null,
   "id": "0f007e3a-e7d6-4108-98db-38c0744b9cea",
   "metadata": {},
   "outputs": [],
   "source": [
    "def emap_db() -> Engine:\n",
    "    url = \"postgresql+psycopg2://{}:{}@{}:{}/{}\".format(\n",
    "        os.getenv(\"EMAP_DB_USER\"),\n",
    "        os.getenv(\"EMAP_DB_PASSWORD\"),\n",
    "        os.getenv(\"EMAP_DB_HOST\"),\n",
    "        os.getenv(\"EMAP_DB_PORT\"),\n",
    "        os.getenv(\"EMAP_DB_NAME\"),\n",
    "    )\n",
    "    engine = create_engine(\n",
    "        url, pool_size=4, max_overflow=6, connect_args={\"connect_timeout\": 120}\n",
    "    )\n",
    "    return engine\n",
    "\n",
    "\n",
    "def caboodle_db() -> Engine:\n",
    "    db_host = os.getenv(\"CABOODLE_DB_HOST\")\n",
    "    db_user = os.getenv(\"CABOODLE_DB_USER\")\n",
    "    db_password = os.getenv(\"CABOODLE_DB_PASSWORD\")\n",
    "    db_port = os.getenv(\"CABOODLE_DB_PORT\")\n",
    "    db_name = os.getenv(\"CABOODLE_DB_NAME\")\n",
    "    connection_str = f\"mssql+pyodbc://{db_user}:{db_password}@{db_host}:{db_port}/{db_name}?driver=ODBC+Driver+17+for+SQL+Server\"\n",
    "    engine = create_engine(connection_str)\n",
    "    return engine"
   ]
  },
  {
   "cell_type": "code",
   "execution_count": null,
   "id": "53de3d33-9605-415b-8e4c-94f8e220db5d",
   "metadata": {},
   "outputs": [],
   "source": [
    "emap_engine = emap_db()\n",
    "caboodle_engine = caboodle_db()"
   ]
  },
  {
   "cell_type": "markdown",
   "id": "bd44a5d8-f097-4afa-a778-5892f2fcbc68",
   "metadata": {},
   "source": [
    "## Reliable way of joining Caboodle and EMAP bed level data"
   ]
  },
  {
   "cell_type": "markdown",
   "id": "2804cab9-fbe7-40c8-a668-eaf9162929e3",
   "metadata": {},
   "source": [
    "First load EMAP location table into memory\n",
    "\n",
    "Do this with no modifications / transformations other than the join"
   ]
  },
  {
   "cell_type": "code",
   "execution_count": null,
   "id": "fa1108ec-a6ac-42c8-ae7d-0eefcadcadd1",
   "metadata": {
    "tags": []
   },
   "outputs": [],
   "source": [
    "q = \"\"\"\n",
    "SELECT \n",
    "    lo.location_id, lo.location_string, lo.department_id, lo.room_id, lo.bed_id, dept.name department, dept.speciality, room.name room\n",
    "FROM star.location lo\n",
    "LEFT JOIN star.department dept ON lo.department_id = dept.department_id\n",
    "LEFT JOIN star.room ON lo.room_id = room.room_id\n",
    "\"\"\"\n",
    "dfe = pd.read_sql_query(q, emap_engine)\n",
    "dfe.head()"
   ]
  },
  {
   "cell_type": "code",
   "execution_count": null,
   "id": "808bfca2-e8fe-4681-946d-e6313613ce50",
   "metadata": {},
   "outputs": [],
   "source": []
  },
  {
   "cell_type": "markdown",
   "id": "8f53209d-ab2b-4c7d-aac9-4f73b1925f0d",
   "metadata": {},
   "source": [
    "And load Caboodle DepartmentDim into memory"
   ]
  },
  {
   "cell_type": "code",
   "execution_count": null,
   "id": "27daace0-a9f7-461b-bddd-11c65d70e40a",
   "metadata": {},
   "outputs": [],
   "source": [
    "q = \"\"\"\n",
    "SELECT \n",
    " DepartmentKey\n",
    ",BedEpicId\n",
    ",Name\n",
    ",DepartmentName\n",
    ",RoomName\n",
    ",BedName\n",
    ",IsBed\n",
    ",BedInCensus\n",
    ",IsDepartment\n",
    ",IsRoom\n",
    ",IsCareArea\n",
    ",DepartmentExternalName\n",
    ",DepartmentSpecialty\n",
    ",DepartmentType\n",
    ",DepartmentServiceGrouper\n",
    ",DepartmentLevelOfCareGrouper\n",
    ",LocationName\n",
    ",ParentLocationName\n",
    ",_CreationInstant\n",
    ",_LastUpdatedInstant\n",
    "FROM dbo.DepartmentDim\n",
    "\"\"\"\n",
    "dfc = pd.read_sql_query(q, caboodle_engine)\n",
    "dfc.head()"
   ]
  },
  {
   "cell_type": "markdown",
   "id": "97b6851e-4eb0-47d4-a2e7-39ef411d4eb0",
   "metadata": {},
   "source": [
    "Now join these two tables \n",
    "- don't attempt joins where there is no room/bed level data (b/c they're not physical locations\n",
    "- you need a multi-key join\n",
    "    - EMAP 'name' (department.name) joins on to Caboodle 'DepartmentName'\n",
    "    - EMAP 'bed' (derived by splitting location.location_string) joins on to Caboodle 'Name'\n",
    "- drop 'wait' beds since these duplicate and block a one-to-one merge\n",
    "- try to be rigorous in `pd.merge`\n",
    "    - `indicator=True` to allow inspection post merge\n",
    "    - `validate='one_to_one'` to throw an error if duplicates found\n",
    "    \n",
    "Note\n",
    "- sometimes (in Caboodle) DepartmentName and Name are duplicated so pick the most recently 'created'\n",
    "\n",
    "using ...\n"
   ]
  },
  {
   "cell_type": "markdown",
   "id": "94548054-01c6-4896-a4e9-15b56d7daa5a",
   "metadata": {
    "tags": []
   },
   "source": [
    "Now load external code"
   ]
  },
  {
   "cell_type": "code",
   "execution_count": null,
   "id": "99345f37-179e-4b6a-8343-a86123453e8b",
   "metadata": {},
   "outputs": [],
   "source": [
    "import importlib\n",
    "\n",
    "import add_caboodle2emap_beds\n",
    "\n",
    "importlib.reload(add_caboodle2emap_beds)\n",
    "from add_caboodle2emap_beds import bed_merge"
   ]
  },
  {
   "cell_type": "code",
   "execution_count": null,
   "id": "75b293e7-8705-4ff2-ba56-287a19b56a65",
   "metadata": {},
   "outputs": [],
   "source": [
    "departments = [\n",
    "    # Built from Tower Report 14 Jun 2022\n",
    "    # NAME                         # n emap locations\n",
    "    # \"UCH T01 ACUTE MEDICAL\",       # 86\n",
    "    # \"UCH T01 ENHANCED CARE\",       # 20\n",
    "    # \"UCH T03 INTENSIVE CARE\",      # 37\n",
    "    # \"UCH T06 HEAD (T06H)\",         # 27\n",
    "    # \"UCH T06 CENTRAL (T06C)\",      # 25\n",
    "    # \"UCH T06 SOUTH PACU\",          # 22\n",
    "    # \"UCH T06 GYNAE (T06G)\",        # 18\n",
    "    # \"UCH T07 NORTH (T07N)\",        # 45\n",
    "    # \"UCH T07 CV SURGE\",            # 37\n",
    "    # \"UCH T07 SOUTH\",               # 33\n",
    "    # \"UCH T07 SOUTH (T07S)\",        # 23\n",
    "    # \"UCH T07 HDRU\",                # 20\n",
    "    # \"UCH T08 NORTH (T08N)\",        # 28\n",
    "    # \"UCH T08 SOUTH (T08S)\",        # 25\n",
    "    # \"UCH T08S ARCU\",               #  6\n",
    "    # \"UCH T09 SOUTH (T09S)\",        # 34\n",
    "    # \"UCH T09 NORTH (T09N)\",        # 32\n",
    "    # \"UCH T09 CENTRAL (T09C)\",      # 25\n",
    "    # \"UCH T10 SOUTH (T10S)\",        # 34\n",
    "    # \"UCH T10 NORTH (T10N)\",        # 32\n",
    "    # \"UCH T10 MED (T10M)\",          # 16\n",
    "    # \"UCH T11 SOUTH (T11S)\",        # 27\n",
    "    # \"UCH T11 NORTH (T11N)\",        # 25\n",
    "    # \"UCH T11 EAST (T11E)\",         # 16\n",
    "    # \"UCH T11 NORTH (T11NO)\",       #  8\n",
    "    # \"UCH T12 SOUTH (T12S)\",        # 32\n",
    "    # \"UCH T12 NORTH (T12N)\",        # 23\n",
    "    # \"UCH T13 SOUTH (T13S)\",        # 31\n",
    "    # \"UCH T13 NORTH ONCOLOGY\",      # 26\n",
    "    # \"UCH T13 NORTH (T13N)\",        # 26\n",
    "    # \"UCH T14 NORTH TRAUMA\",        # 28\n",
    "    # \"UCH T14 NORTH (T14N)\",        # 28\n",
    "    # \"UCH T14 SOUTH ASU\",           # 22\n",
    "    # \"UCH T14 SOUTH (T14S)\",        # 17\n",
    "    # \"UCH T15 SOUTH DECANT\",        # 21\n",
    "    # \"UCH T15 SOUTH (T15S)\",        # 21\n",
    "    # \"UCH T15 NORTH (T15N)\",        # 16\n",
    "    # \"UCH T15 NORTH DECANT\",        # 15\n",
    "    # \"UCH T16 NORTH (T16N)\",        # 19\n",
    "    # \"UCH T16 SOUTH (T16S)\",        # 18\n",
    "    # \"UCH T16 SOUTH WINTER\",        # 17\n",
    "    # \"GWB L01 ELECTIVE SURG\",       # 37\n",
    "    # \"GWB L01 CRITICAL CARE\",       # 12\n",
    "    # \"GWB L02 NORTH (L02N)\",        # 19\n",
    "    # \"GWB L02 EAST (L02E)\",         # 19\n",
    "    # \"GWB L03 NORTH (L03N)\",        # 19\n",
    "    # \"GWB L03 EAST (L03E)\",         # 19\n",
    "    # \"GWB L04 NORTH (L04N)\",        # 20\n",
    "    # \"GWB L04 EAST (L04E)\",         # 17\n",
    "    # \"WMS W04 WARD\",                # 28\n",
    "    # \"WMS W03 WARD\",                # 27\n",
    "    # \"WMS W02 SHORT STAY\",          # 20\n",
    "    # \"WMS W01 CRITICAL CARE\",       # 11\n",
    "    \"NHNN C0 NCCU\",\n",
    "    \"NHNN C1 NCCU\",\n",
    "    # \"NHNN C0 EMERGENCY STROKE UNIT\",\n",
    "]"
   ]
  },
  {
   "cell_type": "code",
   "execution_count": null,
   "id": "ef1cdca6-d046-4a28-b7c6-0dc3159deed4",
   "metadata": {},
   "outputs": [],
   "source": [
    "dfm = bed_merge(df_emap=dfe, df_caboodle=dfc, departments=departments)\n",
    "dfm.head()"
   ]
  },
  {
   "cell_type": "code",
   "execution_count": null,
   "id": "209af4ee-a710-4aab-aa6c-9ac9df7388a0",
   "metadata": {},
   "outputs": [],
   "source": [
    "dfm._merge.value_counts()"
   ]
  },
  {
   "cell_type": "code",
   "execution_count": null,
   "id": "78e29acf-519d-406d-9bdb-b6f615cfdc50",
   "metadata": {},
   "outputs": [],
   "source": [
    "dfm.to_csv(\"beds.tsv\", sep=\"\\t\", index_label=\"local_id\")"
   ]
  },
  {
   "cell_type": "code",
   "execution_count": null,
   "id": "0cebbf11-671f-4946-a422-942311eb247e",
   "metadata": {},
   "outputs": [],
   "source": []
  },
  {
   "cell_type": "code",
   "execution_count": null,
   "id": "f69816e3-3555-4be5-9ef5-3342683414b2",
   "metadata": {},
   "outputs": [],
   "source": []
  }
 ],
 "metadata": {
  "language_info": {
   "codemirror_mode": {
    "name": "ipython",
    "version": 3
   },
   "file_extension": ".py",
   "mimetype": "text/x-python",
   "name": "python",
   "nbconvert_exporter": "python",
   "pygments_lexer": "ipython3",
   "version": "3.9.9"
  }
 },
 "nbformat": 4,
 "nbformat_minor": 5
}
