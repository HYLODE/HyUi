{
 "cells": [
  {
   "cell_type": "markdown",
   "id": "3938ac91-5761-48ea-bcff-b6852395ef75",
   "metadata": {},
   "source": [
    "Run the beds live sql and then wrangle the data into a simple census"
   ]
  },
  {
   "cell_type": "code",
   "execution_count": null,
   "id": "16c18670-2a7c-4f3b-8333-112f3eafae2b",
   "metadata": {},
   "outputs": [],
   "source": [
    "from pathlib import Path\n",
    "\n",
    "import numpy as np\n",
    "import pandas as pd\n",
    "import sqlalchemy as sa"
   ]
  },
  {
   "cell_type": "markdown",
   "id": "b1872d51-c5fa-486e-91e4-793ccf08de94",
   "metadata": {},
   "source": [
    "Assume that we're running from the notebooks directory and need to pull data from ./src/mock/mock.db"
   ]
  },
  {
   "cell_type": "code",
   "execution_count": null,
   "id": "acaac998-80e8-4e2a-ba5b-4c1337f41e3d",
   "metadata": {},
   "outputs": [],
   "source": [
    "sqlite_db = \"../src/mock/mock.db\"\n",
    "assert Path(sqlite_db).is_file()"
   ]
  },
  {
   "cell_type": "code",
   "execution_count": null,
   "id": "2ccfd55f-d438-4d88-bc5d-6d12a06dda2c",
   "metadata": {},
   "outputs": [],
   "source": [
    "engine = sa.create_engine(f\"sqlite:///{sqlite_db}\")"
   ]
  },
  {
   "cell_type": "code",
   "execution_count": null,
   "id": "70092f08-15ce-446d-a794-7dd7d5e0e4d2",
   "metadata": {},
   "outputs": [],
   "source": [
    "df = pd.read_sql(\"bedsmock\", engine)"
   ]
  },
  {
   "cell_type": "code",
   "execution_count": null,
   "id": "7bc3e0d4-d8b5-4497-9867-6400ff923eb6",
   "metadata": {},
   "outputs": [],
   "source": [
    "df.iloc[0]"
   ]
  },
  {
   "cell_type": "markdown",
   "id": "dbe7ed19-c1f2-41c8-9fba-0f25b9546388",
   "metadata": {},
   "source": [
    "So now you want to return a dataframe with the following characteristics\n",
    "- per department (one row per department)\n",
    "- count number of beds\n",
    "- count number of occupied beds\n",
    "- count number of empty beds\n",
    "- last date of closed discharge from that department (i.e. if > 1 week and most beds empty then is the department closed)\n",
    "- number of side rooms?"
   ]
  },
  {
   "cell_type": "code",
   "execution_count": null,
   "id": "d5d9fb66-8a0d-4cd9-b5c6-cf22caebfc42",
   "metadata": {},
   "outputs": [],
   "source": [
    "temp = (\n",
    "    df[\"location_string\"]\n",
    "    .str.split(\"^\", expand=True)\n",
    "    .rename(columns={0: \"dept\", 1: \"room\", 2: \"bed\"})\n",
    ")\n",
    "for s in [\"dept\", \"room\", \"bed\"]:\n",
    "    df[s] = temp[s]"
   ]
  },
  {
   "cell_type": "code",
   "execution_count": null,
   "id": "00dc9c03-b6ae-470d-8508-412573fa8166",
   "metadata": {},
   "outputs": [],
   "source": [
    "del temp"
   ]
  },
  {
   "cell_type": "code",
   "execution_count": null,
   "id": "bf91ca26-4f52-442f-9b4a-79e9fbdad937",
   "metadata": {},
   "outputs": [],
   "source": [
    "mask = df[\"bed\"].str.lower().isin([\"null\", \"wait\"])\n",
    "df = df[~mask]"
   ]
  },
  {
   "cell_type": "code",
   "execution_count": null,
   "id": "4755bcee-0ec5-4c31-b098-71829a192371",
   "metadata": {},
   "outputs": [],
   "source": [
    "df.shape"
   ]
  },
  {
   "cell_type": "code",
   "execution_count": null,
   "id": "2f4fd3fb-8648-41b3-a450-24088f0a0b44",
   "metadata": {},
   "outputs": [],
   "source": [
    "groups = df.groupby(\"department\")"
   ]
  },
  {
   "cell_type": "code",
   "execution_count": null,
   "id": "2fff9270-227f-445d-a839-6b1b37a444b8",
   "metadata": {},
   "outputs": [],
   "source": [
    "groups.get_group(\"GWB L01 CRITICAL CARE\")"
   ]
  },
  {
   "cell_type": "code",
   "execution_count": null,
   "id": "76c6b744-fbe4-4aea-a760-2062e7920007",
   "metadata": {},
   "outputs": [],
   "source": [
    "groups.agg(beds=(\"location_id\", \"count\"))"
   ]
  },
  {
   "cell_type": "code",
   "execution_count": null,
   "id": "f757b057-591c-4a2b-b0f2-cc25dc8ff8ae",
   "metadata": {},
   "outputs": [],
   "source": []
  }
 ],
 "metadata": {
  "language_info": {
   "codemirror_mode": {
    "name": "ipython",
    "version": 3
   },
   "file_extension": ".py",
   "mimetype": "text/x-python",
   "name": "python",
   "nbconvert_exporter": "python",
   "pygments_lexer": "ipython3",
   "version": "3.9.9"
  }
 },
 "nbformat": 4,
 "nbformat_minor": 5
}
