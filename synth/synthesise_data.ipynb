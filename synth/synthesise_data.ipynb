{
 "cells": [
  {
   "cell_type": "markdown",
   "id": "96687d16-17db-47f6-8cd7-41444a6d00b4",
   "metadata": {},
   "source": [
    "# Prepare synthetic data \n",
    "It is going to be much easier to develop if you have realistic synthetic data.\n",
    "Here we take a sql query that generates a single tabular output.\n",
    "We run that query against the live identifiable data once.\n",
    "We then use the [Synthetic Data Vault](https://sdv.dev/SDV/index.html) to prepare a synthetic model of those data.\n",
    "The code below serves as a vignette for that process but will need adjusting to match the exact contents of the original query.\n",
    "\n",
    "More complex examples that include multiple tables with joins and dependencies are also possible.\n",
    "\n",
    "This notebook should be run interactively just once"
   ]
  },
  {
   "cell_type": "markdown",
   "id": "b8eb5db6-f3cb-4640-a668-cebb21d0e7e1",
   "metadata": {},
   "source": [
    "## Set-up, query and return the data as datafame\n",
    "The query lives in `./src/api` where `.` represents the project root.\n",
    "If you run this JupyterNotebook using the local **Makefile** and `make run` then that query will be automatically copied here.\n",
    "\n",
    "So first steps should be (from _this_ directory)\n",
    "```sh\n",
    "make build\n",
    "make run\n",
    "```\n",
    "then navigate to http://uclvlddpragae07:8091/lab/tree/steve/work/synth_test_data.ipynb"
   ]
  },
  {
   "cell_type": "code",
   "execution_count": null,
   "id": "515d4a8b-0480-4a42-a751-36a1b41172a9",
   "metadata": {},
   "outputs": [],
   "source": [
    "import os\n",
    "from pathlib import Path\n",
    "\n",
    "import pandas as pd\n",
    "from sqlalchemy import create_engine"
   ]
  },
  {
   "cell_type": "code",
   "execution_count": null,
   "id": "1d9d5210-3bca-41b7-a31d-3c06df7b6f0d",
   "metadata": {},
   "outputs": [],
   "source": [
    "# Construct the PostgreSQL connection\n",
    "uds_host = os.getenv(\"UDS_HOST\")\n",
    "uds_user = os.getenv(\"UDS_USER\")\n",
    "uds_passwd = os.getenv(\"UDS_PWD\")\n",
    "\n",
    "emapdb_engine = create_engine(\n",
    "    f\"postgresql://{uds_user}:{uds_passwd}@{uds_host}:5432/uds\"\n",
    ")"
   ]
  },
  {
   "cell_type": "code",
   "execution_count": null,
   "id": "7b0478ca-b292-4320-8e28-63379df934b7",
   "metadata": {},
   "outputs": [],
   "source": [
    "# Read the sql file into a query 'q' and the query into a dataframe\n",
    "q = Path(\"query.sql\").read_text()\n",
    "df = pd.read_sql_query(q, emapdb_engine)"
   ]
  },
  {
   "cell_type": "markdown",
   "id": "8785b6f4-b2cd-4e5c-970a-d793b3c60738",
   "metadata": {},
   "source": [
    "## Generate a synthetic version of the real data\n",
    "\n",
    "Use the table above to generate the metadata you need for the synthetic data\n",
    "\n",
    "https://sdv.dev/SDV/user_guides/relational/relational_metadata.html#relational-metadata"
   ]
  },
  {
   "cell_type": "code",
   "execution_count": null,
   "id": "6992f5ac-02f6-4fa3-94fd-992c598891aa",
   "metadata": {},
   "outputs": [],
   "source": [
    "# Minimal imports\n",
    "from sdv import SDV, Metadata"
   ]
  },
  {
   "cell_type": "code",
   "execution_count": null,
   "id": "14f7ced8-a783-4f42-8ba8-46c546bb8dab",
   "metadata": {},
   "outputs": [],
   "source": [
    "# PostgreSQL returns datetimes with tz info which sdv does not seem to be able to handle\n",
    "def remove_timezone(df, col_name: str) -> pd.DataFrame:\n",
    "    \"\"\"sdv does not like timezones\"\"\"\n",
    "    df[col_name] = df[col_name].dt.tz_localize(None)\n",
    "    return df"
   ]
  },
  {
   "cell_type": "markdown",
   "id": "3e9026fd-646c-48fc-bbc2-48994973e9c6",
   "metadata": {},
   "source": [
    "### Prepare data and metadata"
   ]
  },
  {
   "cell_type": "code",
   "execution_count": null,
   "id": "558eeb3f-a30f-4d81-9b7d-5f5a98e6c59c",
   "metadata": {},
   "outputs": [],
   "source": [
    "tz_cols = [\n",
    "    \"valid_from\",\n",
    "    \"scheduled_datetime\",\n",
    "    \"status_change_time\",\n",
    "    \"admission_time\",\n",
    "    \"discharge_time\",\n",
    "]\n",
    "for col in tz_cols:\n",
    "    df = remove_timezone(df, col)"
   ]
  },
  {
   "cell_type": "markdown",
   "id": "00035b60-16dd-4f83-ab98-08b03d8cd6f0",
   "metadata": {},
   "source": [
    "sdv doesn't always recognise the columns correctly. Here we specify data_of_birth explicitly as a date."
   ]
  },
  {
   "cell_type": "code",
   "execution_count": null,
   "id": "bfdb3380-bf71-448a-ab45-a876c544ebb9",
   "metadata": {},
   "outputs": [],
   "source": [
    "fields = {\n",
    "    \"date_of_birth\": {\n",
    "        \"type\": \"datetime\",\n",
    "        \"format\": \"%Y-%m-%d\",\n",
    "    }\n",
    "}"
   ]
  },
  {
   "cell_type": "markdown",
   "id": "356fe5bc-5cc2-4e55-9723-f4a03c96cda8",
   "metadata": {},
   "source": [
    "Prepare the metadata"
   ]
  },
  {
   "cell_type": "code",
   "execution_count": null,
   "id": "38bd8e12-8e18-4bb9-9251-26fa0a9608b9",
   "metadata": {},
   "outputs": [],
   "source": [
    "metadata = Metadata()\n",
    "metadata.add_table(\n",
    "    name=\"tabpid\",\n",
    "    data=df,\n",
    "    fields_metadata=fields,\n",
    ")"
   ]
  },
  {
   "cell_type": "code",
   "execution_count": null,
   "id": "d03cdaa8-aa2b-4d13-b932-0fb4bbf438bf",
   "metadata": {},
   "outputs": [],
   "source": [
    "# Inspect the conversion that metadata.add_table did to the dataframe that you loaded\n",
    "metadata.get_table_meta(\"tabpid\")"
   ]
  },
  {
   "cell_type": "markdown",
   "id": "6c80c8ca-5407-47e4-8b41-3f35a2ee627f",
   "metadata": {},
   "source": [
    "Prepare the table(s)"
   ]
  },
  {
   "cell_type": "code",
   "execution_count": null,
   "id": "dc43f428-e404-4bc4-a160-7cf477500633",
   "metadata": {},
   "outputs": [],
   "source": [
    "tables = dict(tabpid=df)"
   ]
  },
  {
   "cell_type": "markdown",
   "id": "4f2d5f72-6b34-46dc-b9fe-01a4cb7f6730",
   "metadata": {},
   "source": [
    "Fit the model"
   ]
  },
  {
   "cell_type": "code",
   "execution_count": null,
   "id": "073a892b-dd55-483b-8d11-7333b5f2e9e9",
   "metadata": {},
   "outputs": [],
   "source": [
    "sdv = SDV()\n",
    "sdv.fit(metadata, tables)"
   ]
  },
  {
   "cell_type": "markdown",
   "id": "aa4071f4-cbff-4fe1-ad29-9747d751cc1a",
   "metadata": {},
   "source": [
    "Inspect the original data"
   ]
  },
  {
   "cell_type": "markdown",
   "id": "8614d48b-a339-45d4-b072-0651270f6a02",
   "metadata": {},
   "source": [
    "Inspect the synthetic data"
   ]
  },
  {
   "cell_type": "code",
   "execution_count": null,
   "id": "00b16a46-e44f-4da3-8109-7916250c4fb4",
   "metadata": {},
   "outputs": [],
   "source": [
    "sdv.sample_all()[\"tabpid\"].head()"
   ]
  },
  {
   "cell_type": "markdown",
   "id": "375226dd-4acc-434f-b9f4-6ac334990a04",
   "metadata": {},
   "source": [
    "### Save the synthetic data\n",
    "\n",
    "Options\n",
    "- save the model and not the synthetic data (but then you need *sdv* to run the model)\n",
    "- save the data (need some care with type conversions if you use csv etc.)"
   ]
  },
  {
   "cell_type": "code",
   "execution_count": null,
   "id": "7a5043a3-4cb9-4445-beb0-8fe6d3fa3360",
   "metadata": {},
   "outputs": [],
   "source": [
    "sdv.save(\"sdv_model.pkl\")"
   ]
  },
  {
   "cell_type": "code",
   "execution_count": null,
   "id": "c1be99b9-b79d-4a1f-b1cb-dd7b89d0e369",
   "metadata": {},
   "outputs": [],
   "source": [
    "sample = sdv.sample_all()\n",
    "sample_df = sample[\"tabpid\"]\n",
    "sample_df.to_pickle(\"sample_df.pkl\")"
   ]
  },
  {
   "cell_type": "code",
   "execution_count": null,
   "id": "802c5fa7-93ac-4a18-b7fb-b7fa10f0190b",
   "metadata": {},
   "outputs": [],
   "source": []
  }
 ],
 "metadata": {
  "language_info": {
   "codemirror_mode": {
    "name": "ipython",
    "version": 3
   },
   "file_extension": ".py",
   "mimetype": "text/x-python",
   "name": "python",
   "nbconvert_exporter": "python",
   "pygments_lexer": "ipython3",
   "version": "3.9.9"
  }
 },
 "nbformat": 4,
 "nbformat_minor": 5
}
